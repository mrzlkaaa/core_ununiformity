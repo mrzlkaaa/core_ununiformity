{
 "cells": [
  {
   "cell_type": "code",
   "execution_count": 1,
   "id": "e4077fea-70aa-4628-8106-fbbadd480d33",
   "metadata": {},
   "outputs": [],
   "source": [
    "import os\n",
    "import sys\n",
    "\n",
    "sys.path.append(os.path.abspath(os.path.join('..'))) # imports top level\n",
    "\n",
    "import pandas as pd\n",
    "import seaborn as sns\n",
    "import matplotlib.pyplot as plt\n",
    "import numpy as np\n",
    "import display\n",
    "import scipy"
   ]
  },
  {
   "cell_type": "code",
   "execution_count": 2,
   "id": "4b308750-e1da-4aff-88ef-eaaa5f719a2a",
   "metadata": {},
   "outputs": [],
   "source": [
    "from pdc_handlers.pdc_refueler import PDCHandler"
   ]
  },
  {
   "cell_type": "markdown",
   "id": "1160b0e9-fe84-42d5-a04c-ab338a05a6d6",
   "metadata": {},
   "source": [
    "## Dataset of nuclides density vs burnup"
   ]
  },
  {
   "cell_type": "code",
   "execution_count": 6,
   "id": "1d8f5a41-aeda-497d-94e9-da8bf7e23f7c",
   "metadata": {},
   "outputs": [],
   "source": [
    "fcs = [\n",
    "    # \"123_burn.PDC_B0\",\n",
    "    # \"123_burn.PDC_B1\",\n",
    "    # \"123_burn.PDC_B2\",\n",
    "    # \"123_burn.PDC_B3\",\n",
    "    # \"123_burn.PDC_B4\",\n",
    "    # \"123_burn.PDC_B5\",\n",
    "    # \"123_burn.PDC_B6\",\n",
    "    # \"123_burn.PDC_B7\",\n",
    "    # \"123_burn.PDC_B8\",\n",
    "    # \"123_burn.PDC_B9\",\n",
    "    # \"123_burn.PDC_B10\",\n",
    "    # \"123_burn.PDC_B11\",\n",
    "    # \"123_burn.PDC_B12\",\n",
    "    # \"123_burn.PDC_B13\",\n",
    "    # \"123_burn.PDC_B14\",\n",
    "    # \"123_burn.PDC_B15\",\n",
    "    # \"123_burn.PDC_B16\",\n",
    "    # \"123_burn.PDC_B17\",\n",
    "    # \"123_burn.PDC_B18\",\n",
    "    # \"123_burn.PDC_B19\",\n",
    "    # \"123_burn.PDC_B20\",\n",
    "    # \"123_burn.PDC_B21\",\n",
    "    # \"123_burn.PDC_B22\",\n",
    "    # \"123_burn.PDC_B23\",\n",
    "    # \"123_burn.PDC_B24\",\n",
    "    \"124_burn.PDC_B2\",\n",
    "    \"124_burn.PDC_B3\",\n",
    "    \"124_burn.PDC_B4\",\n",
    "    \"124_burn.PDC_B5\",\n",
    "    \"124_burn.PDC_B6\",\n",
    "    \"124_burn.PDC_B7\",\n",
    "    \"124_burn.PDC_B8\",\n",
    "    \"124_burn.PDC_B9\",\n",
    "    \"124_burn.PDC_B10\",\n",
    "    \"124_burn.PDC_B11\",\n",
    "    \"124_burn.PDC_B12\",\n",
    "    \"124_burn.PDC_B13\",\n",
    "    \"124_burn.PDC_B14\",\n",
    "    \"124_burn.PDC_B15\",\n",
    "    \"124_burn.PDC_B16\",\n",
    "    \"124_burn.PDC_B17\",\n",
    "    \"124_burn.PDC_B18\",\n",
    "    \"124_burn.PDC_B19\",\n",
    "    \"124_burn.PDC_B20\",\n",
    "    \"124_burn.PDC_B21\",\n",
    "    \"124_burn.PDC_B22\",\n",
    "    \n",
    "]\n",
    "folder = \"fuel_cycles_chain\"\n",
    "for fc in fcs:\n",
    "    fc = os.path.join(folder, fc)\n",
    "    pdchan = PDCHandler(pdc_file=fc)\n",
    "    df = pdchan.collect_cells_data()\n",
    "    pdchan.persist_cells_data(df)"
   ]
  },
  {
   "cell_type": "code",
   "execution_count": null,
   "id": "c880c8e3-27b7-48a4-a0d2-69ffec746d36",
   "metadata": {},
   "outputs": [],
   "source": []
  },
  {
   "cell_type": "code",
   "execution_count": null,
   "id": "b8e434b6-f245-4ebc-a03c-5ea35f426ea9",
   "metadata": {},
   "outputs": [],
   "source": []
  },
  {
   "cell_type": "code",
   "execution_count": 2,
   "id": "87fad54d-68ba-4d15-9c99-6dcc3c8277a4",
   "metadata": {},
   "outputs": [
    {
     "data": {
      "text/plain": [
       "(0.3240838045816723,\n",
       " array([0.33886631, 0.28453321, 0.41448853, 0.51343127, 0.27158012,\n",
       "        0.29942764, 0.22269427, 0.30811875, 0.46893919, 0.24247916,\n",
       "        0.13209389, 0.15079339, 0.18114743, 0.52487079, 0.34856194,\n",
       "        0.30550715, 0.52507711, 0.2668741 , 0.32512189, 0.35706993]))"
      ]
     },
     "execution_count": 2,
     "metadata": {},
     "output_type": "execute_result"
    },
    {
     "data": {
      "image/png": "[encoded data removed]",
      "text/plain": [
       "<Figure size 640x480 with 1 Axes>"
      ]
     },
     "metadata": {},
     "output_type": "display_data"
    }
   ],
   "source": [
    "# mu=np.random.randint(28,40)/100\n",
    "mu=0.345\n",
    "sig=0.125\n",
    "s = np.random.normal(mu,sig,500)\n",
    "\n",
    "sns.histplot(s)\n",
    "s20 = np.random.choice(s, size=20)\n",
    "s20.mean(), s20"
   ]
  },
  {
   "cell_type": "code",
   "execution_count": 13,
   "id": "cc19d417-b34b-45b0-8df8-d9b92f7ff732",
   "metadata": {},
   "outputs": [
    {
     "name": "stdout",
     "output_type": "stream",
     "text": [
      "[0.38567866 0.38567866 0.32651511 0.31771002 0.24892169 0.50783547\n",
      " 0.42800487 0.22070267 0.42333057 0.28191129 0.37155291 0.32199131\n",
      " 0.45574499 0.46213591 0.25859427 0.51821527 0.08491464 0.26081089\n",
      " 0.28370847 0.64095256] 0.3592455105010897\n"
     ]
    },
    {
     "name": "stderr",
     "output_type": "stream",
     "text": [
      "/mnt/c/Users/Nikita/Desktop/codes/ML/IRTT_reactor/core_uniniformity/main/pdc_handlers/pdc_refueler.py:453: FutureWarning: Series.__getitem__ treating keys as positions is deprecated. In a future version, integer keys will always be treated as labels (consistent with DataFrame behavior). To access a value by position, use `ser.iloc[pos]`\n",
      "  * df_axial_shapes.iloc[ind][itr]\n",
      "/mnt/c/Users/Nikita/Desktop/codes/ML/IRTT_reactor/core_uniniformity/main/pdc_handlers/pdc_refueler.py:462: FutureWarning: Series.__getitem__ treating keys as positions is deprecated. In a future version, integer keys will always be treated as labels (consistent with DataFrame behavior). To access a value by position, use `ser.iloc[pos]`\n",
      "  densities[nucl] = df_nuclides.iloc[ind][nucl] / df_axial_shapes.iloc[ind][itr]\n"
     ]
    },
    {
     "name": "stdout",
     "output_type": "stream",
     "text": [
      "[['38.57', '38.57', '32.65', '31.77'], ['24.89', '50.78', '42.80', '22.07'], ['42.33', 'Be', 'Be', '28.19'], ['37.16', 'Be', 'Be', '32.20'], ['45.57', '46.21', '25.86', '51.82'], ['8.49', '26.08', '28.37', '64.10']]\n",
      "[0.23475847 0.2171489  0.49703922 0.20104442 0.53357148 0.38149609\n",
      " 0.44487999 0.56277323 0.35268241 0.28147131 0.53934809 0.42721486\n",
      " 0.37461237 0.38118778 0.34104468 0.51789684 0.55472623 0.44635227\n",
      " 0.31218024 0.42721486] 0.4014321874521641\n"
     ]
    },
    {
     "name": "stderr",
     "output_type": "stream",
     "text": [
      "/mnt/c/Users/Nikita/Desktop/codes/ML/IRTT_reactor/core_uniniformity/main/pdc_handlers/pdc_refueler.py:453: FutureWarning: Series.__getitem__ treating keys as positions is deprecated. In a future version, integer keys will always be treated as labels (consistent with DataFrame behavior). To access a value by position, use `ser.iloc[pos]`\n",
      "  * df_axial_shapes.iloc[ind][itr]\n",
      "/mnt/c/Users/Nikita/Desktop/codes/ML/IRTT_reactor/core_uniniformity/main/pdc_handlers/pdc_refueler.py:462: FutureWarning: Series.__getitem__ treating keys as positions is deprecated. In a future version, integer keys will always be treated as labels (consistent with DataFrame behavior). To access a value by position, use `ser.iloc[pos]`\n",
      "  densities[nucl] = df_nuclides.iloc[ind][nucl] / df_axial_shapes.iloc[ind][itr]\n"
     ]
    },
    {
     "name": "stdout",
     "output_type": "stream",
     "text": [
      "[['23.48', '21.71', '49.70', '20.10'], ['53.36', '38.15', '44.49', '56.28'], ['35.27', 'Be', 'Be', '28.15'], ['53.93', 'Be', 'Be', '42.72'], ['37.46', '38.12', '34.10', '51.79'], ['55.47', '44.64', '31.22', '42.72']]\n",
      "[0.32730772 0.43638117 0.42774897 0.21400722 0.469997   0.46216872\n",
      " 0.25587692 0.20569984 0.31007779 0.44644844 0.20780234 0.2401151\n",
      " 0.39670653 0.16482535 0.35194714 0.35646052 0.15738891 0.40570922\n",
      " 0.53060227 0.46931212] 0.3418291642833468\n"
     ]
    },
    {
     "name": "stderr",
     "output_type": "stream",
     "text": [
      "/mnt/c/Users/Nikita/Desktop/codes/ML/IRTT_reactor/core_uniniformity/main/pdc_handlers/pdc_refueler.py:453: FutureWarning: Series.__getitem__ treating keys as positions is deprecated. In a future version, integer keys will always be treated as labels (consistent with DataFrame behavior). To access a value by position, use `ser.iloc[pos]`\n",
      "  * df_axial_shapes.iloc[ind][itr]\n",
      "/mnt/c/Users/Nikita/Desktop/codes/ML/IRTT_reactor/core_uniniformity/main/pdc_handlers/pdc_refueler.py:462: FutureWarning: Series.__getitem__ treating keys as positions is deprecated. In a future version, integer keys will always be treated as labels (consistent with DataFrame behavior). To access a value by position, use `ser.iloc[pos]`\n",
      "  densities[nucl] = df_nuclides.iloc[ind][nucl] / df_axial_shapes.iloc[ind][itr]\n"
     ]
    },
    {
     "name": "stdout",
     "output_type": "stream",
     "text": [
      "[['32.73', '43.64', '42.77', '21.40'], ['47.00', '46.22', '25.59', '20.57'], ['31.01', 'Be', 'Be', '44.64'], ['20.78', 'Be', 'Be', '24.01'], ['39.67', '16.48', '35.19', '35.65'], ['15.74', '40.57', '53.06', '46.93']]\n",
      "[0.36641919 0.16432483 0.1196709  0.251467   0.47166721 0.25491438\n",
      " 0.30730759 0.38411191 0.39014595 0.44635995 0.26969968 0.5408968\n",
      " 0.24157827 0.29229161 0.36438586 0.38583562 0.32833984 0.400389\n",
      " 0.32581743 0.22767899] 0.3266651002495156\n"
     ]
    },
    {
     "name": "stderr",
     "output_type": "stream",
     "text": [
      "/mnt/c/Users/Nikita/Desktop/codes/ML/IRTT_reactor/core_uniniformity/main/pdc_handlers/pdc_refueler.py:453: FutureWarning: Series.__getitem__ treating keys as positions is deprecated. In a future version, integer keys will always be treated as labels (consistent with DataFrame behavior). To access a value by position, use `ser.iloc[pos]`\n",
      "  * df_axial_shapes.iloc[ind][itr]\n",
      "/mnt/c/Users/Nikita/Desktop/codes/ML/IRTT_reactor/core_uniniformity/main/pdc_handlers/pdc_refueler.py:462: FutureWarning: Series.__getitem__ treating keys as positions is deprecated. In a future version, integer keys will always be treated as labels (consistent with DataFrame behavior). To access a value by position, use `ser.iloc[pos]`\n",
      "  densities[nucl] = df_nuclides.iloc[ind][nucl] / df_axial_shapes.iloc[ind][itr]\n"
     ]
    },
    {
     "name": "stdout",
     "output_type": "stream",
     "text": [
      "[['36.64', '16.43', '11.97', '25.15'], ['47.17', '25.49', '30.73', '38.41'], ['39.01', 'Be', 'Be', '44.64'], ['26.97', 'Be', 'Be', '54.09'], ['24.16', '29.23', '36.44', '38.58'], ['32.83', '40.04', '32.58', '22.77']]\n",
      "[0.24211801 0.40769057 0.31523181 0.20369111 0.45247428 0.36532269\n",
      " 0.13597557 0.2856879  0.62403859 0.26902695 0.18865567 0.44224072\n",
      " 0.25638157 0.28935513 0.42048126 0.35719425 0.19092502 0.26938684\n",
      " 0.20801031 0.45951463] 0.3191701439766936\n"
     ]
    },
    {
     "name": "stderr",
     "output_type": "stream",
     "text": [
      "/mnt/c/Users/Nikita/Desktop/codes/ML/IRTT_reactor/core_uniniformity/main/pdc_handlers/pdc_refueler.py:453: FutureWarning: Series.__getitem__ treating keys as positions is deprecated. In a future version, integer keys will always be treated as labels (consistent with DataFrame behavior). To access a value by position, use `ser.iloc[pos]`\n",
      "  * df_axial_shapes.iloc[ind][itr]\n",
      "/mnt/c/Users/Nikita/Desktop/codes/ML/IRTT_reactor/core_uniniformity/main/pdc_handlers/pdc_refueler.py:462: FutureWarning: Series.__getitem__ treating keys as positions is deprecated. In a future version, integer keys will always be treated as labels (consistent with DataFrame behavior). To access a value by position, use `ser.iloc[pos]`\n",
      "  densities[nucl] = df_nuclides.iloc[ind][nucl] / df_axial_shapes.iloc[ind][itr]\n"
     ]
    },
    {
     "name": "stdout",
     "output_type": "stream",
     "text": [
      "[['24.21', '40.77', '31.52', '20.37'], ['45.25', '36.53', '13.60', '28.57'], ['62.40', 'Be', 'Be', '26.90'], ['18.87', 'Be', 'Be', '44.22'], ['25.64', '28.94', '42.05', '35.72'], ['19.09', '26.94', '20.80', '45.95']]\n",
      "[0.39328933 0.25816445 0.37520345 0.41884174 0.55022297 0.47417327\n",
      " 0.27854719 0.16476689 0.1481457  0.2516387  0.22810565 0.34503041\n",
      " 0.51138409 0.43935167 0.39446241 0.18995488 0.26951476 0.38087245\n",
      " 0.40905896 0.40849499] 0.34446119720236823\n"
     ]
    },
    {
     "name": "stderr",
     "output_type": "stream",
     "text": [
      "/mnt/c/Users/Nikita/Desktop/codes/ML/IRTT_reactor/core_uniniformity/main/pdc_handlers/pdc_refueler.py:453: FutureWarning: Series.__getitem__ treating keys as positions is deprecated. In a future version, integer keys will always be treated as labels (consistent with DataFrame behavior). To access a value by position, use `ser.iloc[pos]`\n",
      "  * df_axial_shapes.iloc[ind][itr]\n",
      "/mnt/c/Users/Nikita/Desktop/codes/ML/IRTT_reactor/core_uniniformity/main/pdc_handlers/pdc_refueler.py:462: FutureWarning: Series.__getitem__ treating keys as positions is deprecated. In a future version, integer keys will always be treated as labels (consistent with DataFrame behavior). To access a value by position, use `ser.iloc[pos]`\n",
      "  densities[nucl] = df_nuclides.iloc[ind][nucl] / df_axial_shapes.iloc[ind][itr]\n"
     ]
    },
    {
     "name": "stdout",
     "output_type": "stream",
     "text": [
      "[['39.33', '25.82', '37.52', '41.88'], ['55.02', '47.42', '27.85', '16.48'], ['14.81', 'Be', 'Be', '25.16'], ['22.81', 'Be', 'Be', '34.50'], ['51.14', '43.94', '39.45', '19.00'], ['26.95', '38.09', '40.91', '40.85']]\n",
      "[0.14777953 0.30804359 0.19387601 0.47456224 0.26122362 0.37122295\n",
      " 0.07183025 0.09302268 0.47456224 0.23482004 0.52171467 0.30593864\n",
      " 0.45362057 0.15456362 0.3180491  0.28825712 0.42384099 0.29143786\n",
      " 0.2658067  0.47395121] 0.3064061819916424\n"
     ]
    },
    {
     "name": "stderr",
     "output_type": "stream",
     "text": [
      "/mnt/c/Users/Nikita/Desktop/codes/ML/IRTT_reactor/core_uniniformity/main/pdc_handlers/pdc_refueler.py:453: FutureWarning: Series.__getitem__ treating keys as positions is deprecated. In a future version, integer keys will always be treated as labels (consistent with DataFrame behavior). To access a value by position, use `ser.iloc[pos]`\n",
      "  * df_axial_shapes.iloc[ind][itr]\n",
      "/mnt/c/Users/Nikita/Desktop/codes/ML/IRTT_reactor/core_uniniformity/main/pdc_handlers/pdc_refueler.py:462: FutureWarning: Series.__getitem__ treating keys as positions is deprecated. In a future version, integer keys will always be treated as labels (consistent with DataFrame behavior). To access a value by position, use `ser.iloc[pos]`\n",
      "  densities[nucl] = df_nuclides.iloc[ind][nucl] / df_axial_shapes.iloc[ind][itr]\n"
     ]
    },
    {
     "name": "stdout",
     "output_type": "stream",
     "text": [
      "[['14.78', '30.80', '19.39', '47.46'], ['26.12', '37.12', '7.18', '9.30'], ['47.46', 'Be', 'Be', '23.48'], ['52.17', 'Be', 'Be', '30.59'], ['45.36', '15.46', '31.80', '28.83'], ['42.38', '29.14', '26.58', '47.40']]\n",
      "[0.20298413 0.44798562 0.04958878 0.06679885 0.30141212 0.50483942\n",
      " 0.46995733 0.42730544 0.33590521 0.29501798 0.49956186 0.14405092\n",
      " 0.5173227  0.08796551 0.18275662 0.3514083  0.49413273 0.20742153\n",
      " 0.42283739 0.1759066 ] 0.30925795321771843\n"
     ]
    },
    {
     "name": "stderr",
     "output_type": "stream",
     "text": [
      "/mnt/c/Users/Nikita/Desktop/codes/ML/IRTT_reactor/core_uniniformity/main/pdc_handlers/pdc_refueler.py:453: FutureWarning: Series.__getitem__ treating keys as positions is deprecated. In a future version, integer keys will always be treated as labels (consistent with DataFrame behavior). To access a value by position, use `ser.iloc[pos]`\n",
      "  * df_axial_shapes.iloc[ind][itr]\n",
      "/mnt/c/Users/Nikita/Desktop/codes/ML/IRTT_reactor/core_uniniformity/main/pdc_handlers/pdc_refueler.py:462: FutureWarning: Series.__getitem__ treating keys as positions is deprecated. In a future version, integer keys will always be treated as labels (consistent with DataFrame behavior). To access a value by position, use `ser.iloc[pos]`\n",
      "  densities[nucl] = df_nuclides.iloc[ind][nucl] / df_axial_shapes.iloc[ind][itr]\n"
     ]
    },
    {
     "name": "stdout",
     "output_type": "stream",
     "text": [
      "[['20.30', '44.80', '4.96', '6.68'], ['30.14', '50.48', '47.00', '42.73'], ['33.59', 'Be', 'Be', '29.50'], ['49.96', 'Be', 'Be', '14.41'], ['51.73', '8.80', '18.28', '35.14'], ['49.41', '20.74', '42.28', '17.59']]\n",
      "[0.06958074 0.55517459 0.54960621 0.47351308 0.36351951 0.42039916\n",
      " 0.04532905 0.35175796 0.11063347 0.28043519 0.43354439 0.44958131\n",
      " 0.37686675 0.39509815 0.43942608 0.29944084 0.24558795 0.30145773\n",
      " 0.50901241 0.40090421] 0.35354343890163387\n"
     ]
    },
    {
     "name": "stderr",
     "output_type": "stream",
     "text": [
      "/mnt/c/Users/Nikita/Desktop/codes/ML/IRTT_reactor/core_uniniformity/main/pdc_handlers/pdc_refueler.py:453: FutureWarning: Series.__getitem__ treating keys as positions is deprecated. In a future version, integer keys will always be treated as labels (consistent with DataFrame behavior). To access a value by position, use `ser.iloc[pos]`\n",
      "  * df_axial_shapes.iloc[ind][itr]\n",
      "/mnt/c/Users/Nikita/Desktop/codes/ML/IRTT_reactor/core_uniniformity/main/pdc_handlers/pdc_refueler.py:462: FutureWarning: Series.__getitem__ treating keys as positions is deprecated. In a future version, integer keys will always be treated as labels (consistent with DataFrame behavior). To access a value by position, use `ser.iloc[pos]`\n",
      "  densities[nucl] = df_nuclides.iloc[ind][nucl] / df_axial_shapes.iloc[ind][itr]\n"
     ]
    },
    {
     "name": "stdout",
     "output_type": "stream",
     "text": [
      "[['6.96', '55.52', '54.96', '47.35'], ['36.35', '42.04', '4.53', '35.18'], ['11.06', 'Be', 'Be', '28.04'], ['43.35', 'Be', 'Be', '44.96'], ['37.69', '39.51', '43.94', '29.94'], ['24.56', '30.15', '50.90', '40.09']]\n",
      "[0.36810404 0.06183908 0.53846942 0.36578342 0.49488913 0.30718394\n",
      " 0.28948705 0.29273147 0.45436047 0.25687521 0.25687521 0.57317554\n",
      " 0.57608612 0.39464514 0.44616037 0.23768881 0.52342192 0.29880683\n",
      " 0.22557665 0.39332272] 0.3677741271066513\n"
     ]
    },
    {
     "name": "stderr",
     "output_type": "stream",
     "text": [
      "/mnt/c/Users/Nikita/Desktop/codes/ML/IRTT_reactor/core_uniniformity/main/pdc_handlers/pdc_refueler.py:453: FutureWarning: Series.__getitem__ treating keys as positions is deprecated. In a future version, integer keys will always be treated as labels (consistent with DataFrame behavior). To access a value by position, use `ser.iloc[pos]`\n",
      "  * df_axial_shapes.iloc[ind][itr]\n",
      "/mnt/c/Users/Nikita/Desktop/codes/ML/IRTT_reactor/core_uniniformity/main/pdc_handlers/pdc_refueler.py:462: FutureWarning: Series.__getitem__ treating keys as positions is deprecated. In a future version, integer keys will always be treated as labels (consistent with DataFrame behavior). To access a value by position, use `ser.iloc[pos]`\n",
      "  densities[nucl] = df_nuclides.iloc[ind][nucl] / df_axial_shapes.iloc[ind][itr]\n"
     ]
    },
    {
     "name": "stdout",
     "output_type": "stream",
     "text": [
      "[['36.81', '6.18', '53.85', '36.58'], ['49.49', '30.72', '28.95', '29.27'], ['45.44', 'Be', 'Be', '25.69'], ['25.69', 'Be', 'Be', '57.32'], ['57.61', '39.46', '44.62', '23.77'], ['52.34', '29.88', '22.56', '39.33']]\n",
      "[0.3494846  0.29099089 0.23721245 0.26132824 0.23441402 0.33857152\n",
      " 0.54812932 0.54731413 0.38955222 0.63591404 0.29921295 0.48780772\n",
      " 0.22586775 0.26941413 0.4952089  0.44211051 0.33857152 0.25253541\n",
      " 0.18711362 0.18701883] 0.35088863771357415\n"
     ]
    },
    {
     "name": "stderr",
     "output_type": "stream",
     "text": [
      "/mnt/c/Users/Nikita/Desktop/codes/ML/IRTT_reactor/core_uniniformity/main/pdc_handlers/pdc_refueler.py:453: FutureWarning: Series.__getitem__ treating keys as positions is deprecated. In a future version, integer keys will always be treated as labels (consistent with DataFrame behavior). To access a value by position, use `ser.iloc[pos]`\n",
      "  * df_axial_shapes.iloc[ind][itr]\n",
      "/mnt/c/Users/Nikita/Desktop/codes/ML/IRTT_reactor/core_uniniformity/main/pdc_handlers/pdc_refueler.py:462: FutureWarning: Series.__getitem__ treating keys as positions is deprecated. In a future version, integer keys will always be treated as labels (consistent with DataFrame behavior). To access a value by position, use `ser.iloc[pos]`\n",
      "  densities[nucl] = df_nuclides.iloc[ind][nucl] / df_axial_shapes.iloc[ind][itr]\n"
     ]
    },
    {
     "name": "stdout",
     "output_type": "stream",
     "text": [
      "[['34.95', '29.10', '23.72', '26.13'], ['23.44', '33.86', '54.81', '54.73'], ['38.96', 'Be', 'Be', '63.59'], ['29.92', 'Be', 'Be', '48.78'], ['22.59', '26.94', '49.52', '44.21'], ['33.86', '25.25', '18.71', '18.70']]\n",
      "[0.18528461 0.3367478  0.33805293 0.39516642 0.53297465 0.5152023\n",
      " 0.31878749 0.29172255 0.3261015  0.40228445 0.32437344 0.52403196\n",
      " 0.21369867 0.40104233 0.41100883 0.39207816 0.48725197 0.4407769\n",
      " 0.1557091  0.21369867] 0.36029973625304473\n"
     ]
    },
    {
     "name": "stderr",
     "output_type": "stream",
     "text": [
      "/mnt/c/Users/Nikita/Desktop/codes/ML/IRTT_reactor/core_uniniformity/main/pdc_handlers/pdc_refueler.py:453: FutureWarning: Series.__getitem__ treating keys as positions is deprecated. In a future version, integer keys will always be treated as labels (consistent with DataFrame behavior). To access a value by position, use `ser.iloc[pos]`\n",
      "  * df_axial_shapes.iloc[ind][itr]\n",
      "/mnt/c/Users/Nikita/Desktop/codes/ML/IRTT_reactor/core_uniniformity/main/pdc_handlers/pdc_refueler.py:462: FutureWarning: Series.__getitem__ treating keys as positions is deprecated. In a future version, integer keys will always be treated as labels (consistent with DataFrame behavior). To access a value by position, use `ser.iloc[pos]`\n",
      "  densities[nucl] = df_nuclides.iloc[ind][nucl] / df_axial_shapes.iloc[ind][itr]\n"
     ]
    },
    {
     "name": "stdout",
     "output_type": "stream",
     "text": [
      "[['18.53', '33.67', '33.81', '39.52'], ['53.30', '51.52', '31.88', '29.17'], ['32.61', 'Be', 'Be', '40.23'], ['32.44', 'Be', 'Be', '52.40'], ['21.37', '40.10', '41.10', '39.21'], ['48.73', '44.08', '15.57', '21.37']]\n",
      "[0.30335309 0.22034432 0.1726207  0.18422019 0.33432865 0.4237319\n",
      " 0.1587076  0.4650419  0.3401231  0.20945627 0.56863083 0.47383847\n",
      " 0.37327225 0.51227594 0.20067029 0.38241715 0.45813739 0.33223056\n",
      " 0.35927396 0.2629498 ] 0.33678121784252646\n"
     ]
    },
    {
     "name": "stderr",
     "output_type": "stream",
     "text": [
      "/mnt/c/Users/Nikita/Desktop/codes/ML/IRTT_reactor/core_uniniformity/main/pdc_handlers/pdc_refueler.py:453: FutureWarning: Series.__getitem__ treating keys as positions is deprecated. In a future version, integer keys will always be treated as labels (consistent with DataFrame behavior). To access a value by position, use `ser.iloc[pos]`\n",
      "  * df_axial_shapes.iloc[ind][itr]\n",
      "/mnt/c/Users/Nikita/Desktop/codes/ML/IRTT_reactor/core_uniniformity/main/pdc_handlers/pdc_refueler.py:462: FutureWarning: Series.__getitem__ treating keys as positions is deprecated. In a future version, integer keys will always be treated as labels (consistent with DataFrame behavior). To access a value by position, use `ser.iloc[pos]`\n",
      "  densities[nucl] = df_nuclides.iloc[ind][nucl] / df_axial_shapes.iloc[ind][itr]\n"
     ]
    },
    {
     "name": "stdout",
     "output_type": "stream",
     "text": [
      "[['30.34', '22.03', '17.26', '18.42'], ['33.43', '42.37', '15.87', '46.50'], ['34.01', 'Be', 'Be', '20.95'], ['56.86', 'Be', 'Be', '47.38'], ['37.33', '51.23', '20.07', '38.24'], ['45.81', '33.22', '35.93', '26.29']]\n",
      "[0.2272907  0.21032877 0.27221682 0.21942129 0.28245967 0.2682226\n",
      " 0.11135718 0.32936355 0.25067565 0.31861745 0.30876387 0.37122484\n",
      " 0.46694089 0.52824186 0.41353033 0.35799659 0.17990724 0.27573561\n",
      " 0.26772099 0.22177217] 0.2940894038755798\n"
     ]
    },
    {
     "name": "stderr",
     "output_type": "stream",
     "text": [
      "/mnt/c/Users/Nikita/Desktop/codes/ML/IRTT_reactor/core_uniniformity/main/pdc_handlers/pdc_refueler.py:453: FutureWarning: Series.__getitem__ treating keys as positions is deprecated. In a future version, integer keys will always be treated as labels (consistent with DataFrame behavior). To access a value by position, use `ser.iloc[pos]`\n",
      "  * df_axial_shapes.iloc[ind][itr]\n",
      "/mnt/c/Users/Nikita/Desktop/codes/ML/IRTT_reactor/core_uniniformity/main/pdc_handlers/pdc_refueler.py:462: FutureWarning: Series.__getitem__ treating keys as positions is deprecated. In a future version, integer keys will always be treated as labels (consistent with DataFrame behavior). To access a value by position, use `ser.iloc[pos]`\n",
      "  densities[nucl] = df_nuclides.iloc[ind][nucl] / df_axial_shapes.iloc[ind][itr]\n"
     ]
    },
    {
     "name": "stdout",
     "output_type": "stream",
     "text": [
      "[['22.73', '21.03', '27.22', '21.94'], ['28.25', '26.82', '11.14', '32.94'], ['25.07', 'Be', 'Be', '31.86'], ['30.88', 'Be', 'Be', '37.12'], ['46.69', '52.82', '41.35', '35.80'], ['17.99', '27.57', '26.77', '22.18']]\n",
      "[0.32040929 0.53090902 0.4114063  0.50743073 0.19609351 0.35587737\n",
      " 0.28768812 0.18685622 0.27301103 0.20670438 0.38355933 0.27519388\n",
      " 0.33642734 0.31516389 0.34796003 0.55993115 0.21588006 0.28506132\n",
      " 0.20670438 0.53781441] 0.3370040880294753\n"
     ]
    },
    {
     "name": "stderr",
     "output_type": "stream",
     "text": [
      "/mnt/c/Users/Nikita/Desktop/codes/ML/IRTT_reactor/core_uniniformity/main/pdc_handlers/pdc_refueler.py:453: FutureWarning: Series.__getitem__ treating keys as positions is deprecated. In a future version, integer keys will always be treated as labels (consistent with DataFrame behavior). To access a value by position, use `ser.iloc[pos]`\n",
      "  * df_axial_shapes.iloc[ind][itr]\n",
      "/mnt/c/Users/Nikita/Desktop/codes/ML/IRTT_reactor/core_uniniformity/main/pdc_handlers/pdc_refueler.py:462: FutureWarning: Series.__getitem__ treating keys as positions is deprecated. In a future version, integer keys will always be treated as labels (consistent with DataFrame behavior). To access a value by position, use `ser.iloc[pos]`\n",
      "  densities[nucl] = df_nuclides.iloc[ind][nucl] / df_axial_shapes.iloc[ind][itr]\n"
     ]
    },
    {
     "name": "stdout",
     "output_type": "stream",
     "text": [
      "[['32.04', '53.09', '41.14', '50.74'], ['19.61', '35.59', '28.77', '18.69'], ['27.30', 'Be', 'Be', '20.67'], ['38.36', 'Be', 'Be', '27.52'], ['33.64', '31.52', '34.80', '55.99'], ['21.59', '28.51', '20.67', '53.78']]\n",
      "[0.63407264 0.18440368 0.28378784 0.27949932 0.28467132 0.46518635\n",
      " 0.15039036 0.46389655 0.32193379 0.32774302 0.38754548 0.26841155\n",
      " 0.10420407 0.27072947 0.28069832 0.29029095 0.51374283 0.18440368\n",
      " 0.36367016 0.35928325] 0.3209282315249836\n"
     ]
    },
    {
     "name": "stderr",
     "output_type": "stream",
     "text": [
      "/mnt/c/Users/Nikita/Desktop/codes/ML/IRTT_reactor/core_uniniformity/main/pdc_handlers/pdc_refueler.py:453: FutureWarning: Series.__getitem__ treating keys as positions is deprecated. In a future version, integer keys will always be treated as labels (consistent with DataFrame behavior). To access a value by position, use `ser.iloc[pos]`\n",
      "  * df_axial_shapes.iloc[ind][itr]\n",
      "/mnt/c/Users/Nikita/Desktop/codes/ML/IRTT_reactor/core_uniniformity/main/pdc_handlers/pdc_refueler.py:462: FutureWarning: Series.__getitem__ treating keys as positions is deprecated. In a future version, integer keys will always be treated as labels (consistent with DataFrame behavior). To access a value by position, use `ser.iloc[pos]`\n",
      "  densities[nucl] = df_nuclides.iloc[ind][nucl] / df_axial_shapes.iloc[ind][itr]\n"
     ]
    },
    {
     "name": "stdout",
     "output_type": "stream",
     "text": [
      "[['63.41', '18.44', '28.38', '27.95'], ['28.47', '46.52', '15.04', '46.39'], ['32.19', 'Be', 'Be', '32.77'], ['38.75', 'Be', 'Be', '26.84'], ['10.42', '27.07', '28.07', '29.03'], ['51.37', '18.44', '36.37', '35.93']]\n",
      "[0.57257953 0.30407242 0.25198003 0.27449942 0.39861584 0.29459203\n",
      " 0.19268566 0.62150714 0.38702644 0.47651002 0.44808    0.2654298\n",
      " 0.38410612 0.34679796 0.26015706 0.29459203 0.32430123 0.45988361\n",
      " 0.3085823  0.32815351] 0.35970760702310445\n"
     ]
    },
    {
     "name": "stderr",
     "output_type": "stream",
     "text": [
      "/mnt/c/Users/Nikita/Desktop/codes/ML/IRTT_reactor/core_uniniformity/main/pdc_handlers/pdc_refueler.py:453: FutureWarning: Series.__getitem__ treating keys as positions is deprecated. In a future version, integer keys will always be treated as labels (consistent with DataFrame behavior). To access a value by position, use `ser.iloc[pos]`\n",
      "  * df_axial_shapes.iloc[ind][itr]\n",
      "/mnt/c/Users/Nikita/Desktop/codes/ML/IRTT_reactor/core_uniniformity/main/pdc_handlers/pdc_refueler.py:462: FutureWarning: Series.__getitem__ treating keys as positions is deprecated. In a future version, integer keys will always be treated as labels (consistent with DataFrame behavior). To access a value by position, use `ser.iloc[pos]`\n",
      "  densities[nucl] = df_nuclides.iloc[ind][nucl] / df_axial_shapes.iloc[ind][itr]\n"
     ]
    },
    {
     "name": "stdout",
     "output_type": "stream",
     "text": [
      "[['57.26', '30.41', '25.20', '27.45'], ['39.86', '29.46', '19.27', '62.15'], ['38.70', 'Be', 'Be', '47.65'], ['44.81', 'Be', 'Be', '26.54'], ['38.41', '34.68', '26.02', '29.46'], ['32.43', '45.99', '30.86', '32.82']]\n",
      "[0.27732821 0.31975419 0.38191891 0.2610137  0.21190493 0.13185368\n",
      " 0.24910574 0.42580955 0.4165774  0.20068558 0.34861945 0.14837342\n",
      " 0.20710955 0.56433953 0.29643968 0.33312979 0.30566325 0.41583356\n",
      " 0.35233752 0.34861945] 0.30982085561985445\n"
     ]
    },
    {
     "name": "stderr",
     "output_type": "stream",
     "text": [
      "/mnt/c/Users/Nikita/Desktop/codes/ML/IRTT_reactor/core_uniniformity/main/pdc_handlers/pdc_refueler.py:453: FutureWarning: Series.__getitem__ treating keys as positions is deprecated. In a future version, integer keys will always be treated as labels (consistent with DataFrame behavior). To access a value by position, use `ser.iloc[pos]`\n",
      "  * df_axial_shapes.iloc[ind][itr]\n",
      "/mnt/c/Users/Nikita/Desktop/codes/ML/IRTT_reactor/core_uniniformity/main/pdc_handlers/pdc_refueler.py:462: FutureWarning: Series.__getitem__ treating keys as positions is deprecated. In a future version, integer keys will always be treated as labels (consistent with DataFrame behavior). To access a value by position, use `ser.iloc[pos]`\n",
      "  densities[nucl] = df_nuclides.iloc[ind][nucl] / df_axial_shapes.iloc[ind][itr]\n"
     ]
    },
    {
     "name": "stdout",
     "output_type": "stream",
     "text": [
      "[['27.73', '31.98', '38.19', '26.10'], ['21.19', '13.19', '24.91', '42.58'], ['41.66', 'Be', 'Be', '20.07'], ['34.86', 'Be', 'Be', '14.84'], ['20.71', '56.43', '29.64', '33.31'], ['30.57', '41.58', '35.23', '34.86']]\n",
      "[0.21909972 0.26837399 0.51077447 0.40832886 0.19337547 0.3328754\n",
      " 0.41922228 0.54214863 0.19337547 0.371246   0.21754737 0.25411103\n",
      " 0.68856623 0.35390255 0.13136533 0.26204764 0.57325256 0.41682647\n",
      " 0.48308788 0.29375021] 0.35666387707403086\n"
     ]
    },
    {
     "name": "stderr",
     "output_type": "stream",
     "text": [
      "/mnt/c/Users/Nikita/Desktop/codes/ML/IRTT_reactor/core_uniniformity/main/pdc_handlers/pdc_refueler.py:453: FutureWarning: Series.__getitem__ treating keys as positions is deprecated. In a future version, integer keys will always be treated as labels (consistent with DataFrame behavior). To access a value by position, use `ser.iloc[pos]`\n",
      "  * df_axial_shapes.iloc[ind][itr]\n",
      "/mnt/c/Users/Nikita/Desktop/codes/ML/IRTT_reactor/core_uniniformity/main/pdc_handlers/pdc_refueler.py:462: FutureWarning: Series.__getitem__ treating keys as positions is deprecated. In a future version, integer keys will always be treated as labels (consistent with DataFrame behavior). To access a value by position, use `ser.iloc[pos]`\n",
      "  densities[nucl] = df_nuclides.iloc[ind][nucl] / df_axial_shapes.iloc[ind][itr]\n"
     ]
    },
    {
     "name": "stdout",
     "output_type": "stream",
     "text": [
      "[['21.91', '26.84', '51.08', '40.83'], ['19.34', '33.29', '41.92', '54.21'], ['19.34', 'Be', 'Be', '37.12'], ['21.75', 'Be', 'Be', '25.41'], ['68.86', '35.39', '13.14', '26.20'], ['57.33', '41.68', '48.31', '29.38']]\n",
      "[ 0.31187742 -0.10561739  0.4212902   0.50237719  0.1783439   0.36404126\n",
      "  0.37848632  0.2508515   0.35689958  0.34654476  0.35140782  0.3167496\n",
      "  0.56301214  0.20524341  0.33073266  0.50576888  0.18112068  0.59652934\n",
      "  0.50717924  0.4212902 ] 0.3492064360993691\n"
     ]
    },
    {
     "name": "stderr",
     "output_type": "stream",
     "text": [
      "/mnt/c/Users/Nikita/Desktop/codes/ML/IRTT_reactor/core_uniniformity/main/pdc_handlers/pdc_refueler.py:453: FutureWarning: Series.__getitem__ treating keys as positions is deprecated. In a future version, integer keys will always be treated as labels (consistent with DataFrame behavior). To access a value by position, use `ser.iloc[pos]`\n",
      "  * df_axial_shapes.iloc[ind][itr]\n",
      "/mnt/c/Users/Nikita/Desktop/codes/ML/IRTT_reactor/core_uniniformity/main/pdc_handlers/pdc_refueler.py:462: FutureWarning: Series.__getitem__ treating keys as positions is deprecated. In a future version, integer keys will always be treated as labels (consistent with DataFrame behavior). To access a value by position, use `ser.iloc[pos]`\n",
      "  densities[nucl] = df_nuclides.iloc[ind][nucl] / df_axial_shapes.iloc[ind][itr]\n"
     ]
    },
    {
     "name": "stdout",
     "output_type": "stream",
     "text": [
      "[['31.19', '10.56', '42.13', '50.24'], ['17.83', '36.40', '37.85', '25.09'], ['35.69', 'Be', 'Be', '34.65'], ['35.14', 'Be', 'Be', '31.67'], ['56.30', '20.52', '33.07', '50.58'], ['18.11', '59.65', '50.72', '42.13']]\n",
      "[0.3835855  0.3599533  0.22055945 0.19768247 0.37996639 0.26200868\n",
      " 0.31781682 0.14490243 0.26483759 0.29496978 0.39293701 0.47828571\n",
      " 0.3374576  0.21372977 0.53050841 0.44242162 0.2884387  0.45980092\n",
      " 0.34426177 0.39681101] 0.33554674659817385\n"
     ]
    },
    {
     "name": "stderr",
     "output_type": "stream",
     "text": [
      "/mnt/c/Users/Nikita/Desktop/codes/ML/IRTT_reactor/core_uniniformity/main/pdc_handlers/pdc_refueler.py:453: FutureWarning: Series.__getitem__ treating keys as positions is deprecated. In a future version, integer keys will always be treated as labels (consistent with DataFrame behavior). To access a value by position, use `ser.iloc[pos]`\n",
      "  * df_axial_shapes.iloc[ind][itr]\n",
      "/mnt/c/Users/Nikita/Desktop/codes/ML/IRTT_reactor/core_uniniformity/main/pdc_handlers/pdc_refueler.py:462: FutureWarning: Series.__getitem__ treating keys as positions is deprecated. In a future version, integer keys will always be treated as labels (consistent with DataFrame behavior). To access a value by position, use `ser.iloc[pos]`\n",
      "  densities[nucl] = df_nuclides.iloc[ind][nucl] / df_axial_shapes.iloc[ind][itr]\n"
     ]
    },
    {
     "name": "stdout",
     "output_type": "stream",
     "text": [
      "[['38.36', '36.00', '22.06', '19.77'], ['38.00', '26.20', '31.78', '14.49'], ['26.48', 'Be', 'Be', '29.50'], ['39.29', 'Be', 'Be', '47.83'], ['33.75', '21.37', '53.05', '44.24'], ['28.84', '45.98', '34.43', '39.68']]\n",
      "[0.38055524 0.32771179 0.1749709  0.22040516 0.43336264 0.42027649\n",
      " 0.39514564 0.168692   0.26069408 0.24911009 0.29915256 0.27907895\n",
      " 0.39126932 0.26199113 0.2494141  0.27781261 0.34587863 0.53826889\n",
      " 0.11623729 0.43250051] 0.3111264017922285\n"
     ]
    },
    {
     "name": "stderr",
     "output_type": "stream",
     "text": [
      "/mnt/c/Users/Nikita/Desktop/codes/ML/IRTT_reactor/core_uniniformity/main/pdc_handlers/pdc_refueler.py:453: FutureWarning: Series.__getitem__ treating keys as positions is deprecated. In a future version, integer keys will always be treated as labels (consistent with DataFrame behavior). To access a value by position, use `ser.iloc[pos]`\n",
      "  * df_axial_shapes.iloc[ind][itr]\n",
      "/mnt/c/Users/Nikita/Desktop/codes/ML/IRTT_reactor/core_uniniformity/main/pdc_handlers/pdc_refueler.py:462: FutureWarning: Series.__getitem__ treating keys as positions is deprecated. In a future version, integer keys will always be treated as labels (consistent with DataFrame behavior). To access a value by position, use `ser.iloc[pos]`\n",
      "  densities[nucl] = df_nuclides.iloc[ind][nucl] / df_axial_shapes.iloc[ind][itr]\n"
     ]
    },
    {
     "name": "stdout",
     "output_type": "stream",
     "text": [
      "[['38.06', '32.77', '17.50', '22.04'], ['43.34', '42.03', '39.51', '16.87'], ['26.07', 'Be', 'Be', '24.91'], ['29.92', 'Be', 'Be', '27.91'], ['39.13', '26.20', '24.94', '27.78'], ['34.59', '53.83', '11.62', '43.25']]\n",
      "[0.45097093 0.48008526 0.24649467 0.52249969 0.31402411 0.39336884\n",
      " 0.19887862 0.41471011 0.24374409 0.38263072 0.19514945 0.396482\n",
      " 0.42462369 0.37486123 0.38394174 0.29855965 0.54250015 0.44810159\n",
      " 0.35791314 0.4270694 ] 0.374830455705306\n"
     ]
    },
    {
     "name": "stderr",
     "output_type": "stream",
     "text": [
      "/mnt/c/Users/Nikita/Desktop/codes/ML/IRTT_reactor/core_uniniformity/main/pdc_handlers/pdc_refueler.py:453: FutureWarning: Series.__getitem__ treating keys as positions is deprecated. In a future version, integer keys will always be treated as labels (consistent with DataFrame behavior). To access a value by position, use `ser.iloc[pos]`\n",
      "  * df_axial_shapes.iloc[ind][itr]\n",
      "/mnt/c/Users/Nikita/Desktop/codes/ML/IRTT_reactor/core_uniniformity/main/pdc_handlers/pdc_refueler.py:462: FutureWarning: Series.__getitem__ treating keys as positions is deprecated. In a future version, integer keys will always be treated as labels (consistent with DataFrame behavior). To access a value by position, use `ser.iloc[pos]`\n",
      "  densities[nucl] = df_nuclides.iloc[ind][nucl] / df_axial_shapes.iloc[ind][itr]\n"
     ]
    },
    {
     "name": "stdout",
     "output_type": "stream",
     "text": [
      "[['45.10', '48.01', '24.65', '52.25'], ['31.40', '39.34', '19.89', '41.47'], ['24.37', 'Be', 'Be', '38.26'], ['19.51', 'Be', 'Be', '39.65'], ['42.46', '37.49', '38.39', '29.86'], ['54.25', '44.81', '35.79', '42.71']]\n",
      "[0.51493756 0.47864436 0.29402853 0.35114368 0.54072415 0.43666247\n",
      " 0.35751594 0.48814668 0.37759412 0.16472176 0.44150241 0.39586031\n",
      " 0.46777147 0.2500178  0.32507352 0.42890733 0.15982357 0.27544261\n",
      " 0.50654367 0.34526206] 0.38001620048806856\n"
     ]
    },
    {
     "name": "stderr",
     "output_type": "stream",
     "text": [
      "/mnt/c/Users/Nikita/Desktop/codes/ML/IRTT_reactor/core_uniniformity/main/pdc_handlers/pdc_refueler.py:453: FutureWarning: Series.__getitem__ treating keys as positions is deprecated. In a future version, integer keys will always be treated as labels (consistent with DataFrame behavior). To access a value by position, use `ser.iloc[pos]`\n",
      "  * df_axial_shapes.iloc[ind][itr]\n",
      "/mnt/c/Users/Nikita/Desktop/codes/ML/IRTT_reactor/core_uniniformity/main/pdc_handlers/pdc_refueler.py:462: FutureWarning: Series.__getitem__ treating keys as positions is deprecated. In a future version, integer keys will always be treated as labels (consistent with DataFrame behavior). To access a value by position, use `ser.iloc[pos]`\n",
      "  densities[nucl] = df_nuclides.iloc[ind][nucl] / df_axial_shapes.iloc[ind][itr]\n"
     ]
    },
    {
     "name": "stdout",
     "output_type": "stream",
     "text": [
      "[['51.49', '47.86', '29.40', '35.11'], ['54.07', '43.67', '35.75', '48.81'], ['37.76', 'Be', 'Be', '16.47'], ['44.15', 'Be', 'Be', '39.59'], ['46.78', '25.00', '32.51', '42.89'], ['15.98', '27.54', '50.65', '34.53']]\n",
      "[0.34291797 0.14184746 0.42190223 0.48290043 0.47007015 0.39915629\n",
      " 0.24823935 0.20372489 0.52903335 0.71053842 0.17368028 0.39914734\n",
      " 0.44014006 0.61062679 0.31272525 0.44460056 0.38870039 0.44547675\n",
      " 0.14584749 0.47085719] 0.3891066325602389\n"
     ]
    },
    {
     "name": "stderr",
     "output_type": "stream",
     "text": [
      "/mnt/c/Users/Nikita/Desktop/codes/ML/IRTT_reactor/core_uniniformity/main/pdc_handlers/pdc_refueler.py:453: FutureWarning: Series.__getitem__ treating keys as positions is deprecated. In a future version, integer keys will always be treated as labels (consistent with DataFrame behavior). To access a value by position, use `ser.iloc[pos]`\n",
      "  * df_axial_shapes.iloc[ind][itr]\n",
      "/mnt/c/Users/Nikita/Desktop/codes/ML/IRTT_reactor/core_uniniformity/main/pdc_handlers/pdc_refueler.py:462: FutureWarning: Series.__getitem__ treating keys as positions is deprecated. In a future version, integer keys will always be treated as labels (consistent with DataFrame behavior). To access a value by position, use `ser.iloc[pos]`\n",
      "  densities[nucl] = df_nuclides.iloc[ind][nucl] / df_axial_shapes.iloc[ind][itr]\n"
     ]
    },
    {
     "name": "stdout",
     "output_type": "stream",
     "text": [
      "[['34.29', '14.18', '42.19', '48.29'], ['47.01', '39.92', '24.82', '20.37'], ['52.90', 'Be', 'Be', '71.05'], ['17.37', 'Be', 'Be', '39.91'], ['44.01', '61.06', '31.27', '44.46'], ['38.87', '44.55', '14.58', '47.09']]\n",
      "[0.10167783 0.64662763 0.47915968 0.34199065 0.50659847 0.22060419\n",
      " 0.12827752 0.40417606 0.44464313 0.59842326 0.46549419 0.25746172\n",
      " 0.67124985 0.41690363 0.24704617 0.22214728 0.23047147 0.37049423\n",
      " 0.16021959 0.4043909 ] 0.36590287300149427\n"
     ]
    },
    {
     "name": "stderr",
     "output_type": "stream",
     "text": [
      "/mnt/c/Users/Nikita/Desktop/codes/ML/IRTT_reactor/core_uniniformity/main/pdc_handlers/pdc_refueler.py:453: FutureWarning: Series.__getitem__ treating keys as positions is deprecated. In a future version, integer keys will always be treated as labels (consistent with DataFrame behavior). To access a value by position, use `ser.iloc[pos]`\n",
      "  * df_axial_shapes.iloc[ind][itr]\n",
      "/mnt/c/Users/Nikita/Desktop/codes/ML/IRTT_reactor/core_uniniformity/main/pdc_handlers/pdc_refueler.py:462: FutureWarning: Series.__getitem__ treating keys as positions is deprecated. In a future version, integer keys will always be treated as labels (consistent with DataFrame behavior). To access a value by position, use `ser.iloc[pos]`\n",
      "  densities[nucl] = df_nuclides.iloc[ind][nucl] / df_axial_shapes.iloc[ind][itr]\n"
     ]
    },
    {
     "name": "stdout",
     "output_type": "stream",
     "text": [
      "[['10.17', '64.66', '47.92', '34.20'], ['50.66', '22.06', '12.83', '40.42'], ['44.46', 'Be', 'Be', '59.84'], ['46.55', 'Be', 'Be', '25.75'], ['67.12', '41.69', '24.70', '22.21'], ['23.05', '37.05', '16.02', '40.44']]\n",
      "[ 0.20963304  0.61289749  0.37857413  0.43209598  0.18591196  0.49121915\n",
      "  0.20441431  0.51702291  0.41749657  0.23359013  0.453408    0.45777069\n",
      "  0.48854818 -0.02254432  0.00769744  0.33510824  0.31822135  0.32118501\n",
      "  0.06240814  0.43866493] 0.3271661665962754\n"
     ]
    },
    {
     "name": "stderr",
     "output_type": "stream",
     "text": [
      "/mnt/c/Users/Nikita/Desktop/codes/ML/IRTT_reactor/core_uniniformity/main/pdc_handlers/pdc_refueler.py:453: FutureWarning: Series.__getitem__ treating keys as positions is deprecated. In a future version, integer keys will always be treated as labels (consistent with DataFrame behavior). To access a value by position, use `ser.iloc[pos]`\n",
      "  * df_axial_shapes.iloc[ind][itr]\n",
      "/mnt/c/Users/Nikita/Desktop/codes/ML/IRTT_reactor/core_uniniformity/main/pdc_handlers/pdc_refueler.py:462: FutureWarning: Series.__getitem__ treating keys as positions is deprecated. In a future version, integer keys will always be treated as labels (consistent with DataFrame behavior). To access a value by position, use `ser.iloc[pos]`\n",
      "  densities[nucl] = df_nuclides.iloc[ind][nucl] / df_axial_shapes.iloc[ind][itr]\n"
     ]
    },
    {
     "name": "stdout",
     "output_type": "stream",
     "text": [
      "[['20.96', '61.29', '37.86', '43.21'], ['18.59', '49.12', '20.44', '51.70'], ['41.75', 'Be', 'Be', '23.36'], ['45.34', 'Be', 'Be', '45.78'], ['48.85', '2.25', '0.77', '33.51'], ['31.82', '32.12', '6.24', '43.87']]\n",
      "[0.2704782  0.53093605 0.24666339 0.19890139 0.31130779 0.62021195\n",
      " 0.46967592 0.32014208 0.26405084 0.39678935 0.42275114 0.37013201\n",
      " 0.36828606 0.37806297 0.57777612 0.44870737 0.32673184 0.42970758\n",
      " 0.35571416 0.42409385] 0.38655600391010997\n"
     ]
    },
    {
     "name": "stderr",
     "output_type": "stream",
     "text": [
      "/mnt/c/Users/Nikita/Desktop/codes/ML/IRTT_reactor/core_uniniformity/main/pdc_handlers/pdc_refueler.py:453: FutureWarning: Series.__getitem__ treating keys as positions is deprecated. In a future version, integer keys will always be treated as labels (consistent with DataFrame behavior). To access a value by position, use `ser.iloc[pos]`\n",
      "  * df_axial_shapes.iloc[ind][itr]\n",
      "/mnt/c/Users/Nikita/Desktop/codes/ML/IRTT_reactor/core_uniniformity/main/pdc_handlers/pdc_refueler.py:462: FutureWarning: Series.__getitem__ treating keys as positions is deprecated. In a future version, integer keys will always be treated as labels (consistent with DataFrame behavior). To access a value by position, use `ser.iloc[pos]`\n",
      "  densities[nucl] = df_nuclides.iloc[ind][nucl] / df_axial_shapes.iloc[ind][itr]\n"
     ]
    },
    {
     "name": "stdout",
     "output_type": "stream",
     "text": [
      "[['27.05', '53.09', '24.67', '19.89'], ['31.13', '62.02', '46.97', '32.01'], ['26.41', 'Be', 'Be', '39.68'], ['42.28', 'Be', 'Be', '37.01'], ['36.83', '37.81', '57.78', '44.87'], ['32.67', '42.97', '35.57', '42.41']]\n",
      "[0.38474804 0.28236201 0.35695554 0.38278551 0.53904352 0.46515855\n",
      " 0.27372557 0.06607829 0.31281024 0.43990491 0.45515767 0.29175127\n",
      " 0.52803133 0.36032462 0.28798519 0.18825603 0.33991363 0.25576761\n",
      " 0.15412197 0.17440507] 0.32696432763457484\n"
     ]
    },
    {
     "name": "stderr",
     "output_type": "stream",
     "text": [
      "/mnt/c/Users/Nikita/Desktop/codes/ML/IRTT_reactor/core_uniniformity/main/pdc_handlers/pdc_refueler.py:453: FutureWarning: Series.__getitem__ treating keys as positions is deprecated. In a future version, integer keys will always be treated as labels (consistent with DataFrame behavior). To access a value by position, use `ser.iloc[pos]`\n",
      "  * df_axial_shapes.iloc[ind][itr]\n",
      "/mnt/c/Users/Nikita/Desktop/codes/ML/IRTT_reactor/core_uniniformity/main/pdc_handlers/pdc_refueler.py:462: FutureWarning: Series.__getitem__ treating keys as positions is deprecated. In a future version, integer keys will always be treated as labels (consistent with DataFrame behavior). To access a value by position, use `ser.iloc[pos]`\n",
      "  densities[nucl] = df_nuclides.iloc[ind][nucl] / df_axial_shapes.iloc[ind][itr]\n"
     ]
    },
    {
     "name": "stdout",
     "output_type": "stream",
     "text": [
      "[['38.47', '28.24', '35.70', '38.28'], ['53.90', '46.52', '27.37', '6.61'], ['31.28', 'Be', 'Be', '43.99'], ['45.52', 'Be', 'Be', '29.18'], ['52.80', '36.03', '28.80', '18.83'], ['33.99', '25.58', '15.41', '17.44']]\n",
      "[0.31485589 0.40711522 0.42773936 0.34938333 0.25024353 0.31759397\n",
      " 0.35956533 0.53098725 0.43036311 0.32093393 0.2649278  0.23499876\n",
      " 0.33680653 0.28549141 0.53253056 0.47237973 0.3285357  0.37846401\n",
      " 0.44091934 0.16860806] 0.35762214063809505\n"
     ]
    },
    {
     "name": "stderr",
     "output_type": "stream",
     "text": [
      "/mnt/c/Users/Nikita/Desktop/codes/ML/IRTT_reactor/core_uniniformity/main/pdc_handlers/pdc_refueler.py:453: FutureWarning: Series.__getitem__ treating keys as positions is deprecated. In a future version, integer keys will always be treated as labels (consistent with DataFrame behavior). To access a value by position, use `ser.iloc[pos]`\n",
      "  * df_axial_shapes.iloc[ind][itr]\n",
      "/mnt/c/Users/Nikita/Desktop/codes/ML/IRTT_reactor/core_uniniformity/main/pdc_handlers/pdc_refueler.py:462: FutureWarning: Series.__getitem__ treating keys as positions is deprecated. In a future version, integer keys will always be treated as labels (consistent with DataFrame behavior). To access a value by position, use `ser.iloc[pos]`\n",
      "  densities[nucl] = df_nuclides.iloc[ind][nucl] / df_axial_shapes.iloc[ind][itr]\n"
     ]
    },
    {
     "name": "stdout",
     "output_type": "stream",
     "text": [
      "[['31.49', '40.71', '42.77', '34.94'], ['25.02', '31.76', '35.96', '53.10'], ['43.04', 'Be', 'Be', '32.09'], ['26.49', 'Be', 'Be', '23.50'], ['33.68', '28.55', '53.25', '47.24'], ['32.85', '37.85', '44.09', '16.86']]\n",
      "[0.30536608 0.51362063 0.21541158 0.49010651 0.34183459 0.29248388\n",
      " 0.47139468 0.4716364  0.13325154 0.57111799 0.27218022 0.32865724\n",
      " 0.65393003 0.29866347 0.65393003 0.28699965 0.51727278 0.2552831\n",
      " 0.50677427 0.32117958] 0.3950547124278328\n"
     ]
    },
    {
     "name": "stderr",
     "output_type": "stream",
     "text": [
      "/mnt/c/Users/Nikita/Desktop/codes/ML/IRTT_reactor/core_uniniformity/main/pdc_handlers/pdc_refueler.py:453: FutureWarning: Series.__getitem__ treating keys as positions is deprecated. In a future version, integer keys will always be treated as labels (consistent with DataFrame behavior). To access a value by position, use `ser.iloc[pos]`\n",
      "  * df_axial_shapes.iloc[ind][itr]\n",
      "/mnt/c/Users/Nikita/Desktop/codes/ML/IRTT_reactor/core_uniniformity/main/pdc_handlers/pdc_refueler.py:462: FutureWarning: Series.__getitem__ treating keys as positions is deprecated. In a future version, integer keys will always be treated as labels (consistent with DataFrame behavior). To access a value by position, use `ser.iloc[pos]`\n",
      "  densities[nucl] = df_nuclides.iloc[ind][nucl] / df_axial_shapes.iloc[ind][itr]\n"
     ]
    },
    {
     "name": "stdout",
     "output_type": "stream",
     "text": [
      "[['30.54', '51.36', '21.54', '49.01'], ['34.18', '29.25', '47.14', '47.16'], ['13.33', 'Be', 'Be', '57.11'], ['27.22', 'Be', 'Be', '32.87'], ['65.39', '29.87', '65.39', '28.70'], ['51.73', '25.53', '50.68', '32.12']]\n",
      "[0.32409658 0.28277076 0.443625   0.23100102 0.3227276  0.21799217\n",
      " 0.36247787 0.33507306 0.39547235 0.36356797 0.40042131 0.37795923\n",
      " 0.35764501 0.25003717 0.61015448 0.47677308 0.32629415 0.47908064\n",
      " 0.1321872  0.49145529] 0.3590405966532454\n"
     ]
    },
    {
     "name": "stderr",
     "output_type": "stream",
     "text": [
      "/mnt/c/Users/Nikita/Desktop/codes/ML/IRTT_reactor/core_uniniformity/main/pdc_handlers/pdc_refueler.py:453: FutureWarning: Series.__getitem__ treating keys as positions is deprecated. In a future version, integer keys will always be treated as labels (consistent with DataFrame behavior). To access a value by position, use `ser.iloc[pos]`\n",
      "  * df_axial_shapes.iloc[ind][itr]\n",
      "/mnt/c/Users/Nikita/Desktop/codes/ML/IRTT_reactor/core_uniniformity/main/pdc_handlers/pdc_refueler.py:462: FutureWarning: Series.__getitem__ treating keys as positions is deprecated. In a future version, integer keys will always be treated as labels (consistent with DataFrame behavior). To access a value by position, use `ser.iloc[pos]`\n",
      "  densities[nucl] = df_nuclides.iloc[ind][nucl] / df_axial_shapes.iloc[ind][itr]\n"
     ]
    },
    {
     "name": "stdout",
     "output_type": "stream",
     "text": [
      "[['32.41', '28.28', '44.36', '23.10'], ['32.27', '21.80', '36.25', '33.51'], ['39.55', 'Be', 'Be', '36.36'], ['40.04', 'Be', 'Be', '37.80'], ['35.76', '25.00', '61.02', '47.68'], ['32.63', '47.91', '13.22', '49.15']]\n",
      "[0.31584325 0.31878066 0.24127512 0.16612343 0.28925915 0.32011922\n",
      " 0.23919452 0.2585344  0.29161928 0.35229773 0.32833935 0.53232062\n",
      " 0.31047038 0.23401595 0.32951686 0.40349245 0.17258425 0.40765221\n",
      " 0.47328481 0.37525568] 0.3179989666074493\n"
     ]
    },
    {
     "name": "stderr",
     "output_type": "stream",
     "text": [
      "/mnt/c/Users/Nikita/Desktop/codes/ML/IRTT_reactor/core_uniniformity/main/pdc_handlers/pdc_refueler.py:453: FutureWarning: Series.__getitem__ treating keys as positions is deprecated. In a future version, integer keys will always be treated as labels (consistent with DataFrame behavior). To access a value by position, use `ser.iloc[pos]`\n",
      "  * df_axial_shapes.iloc[ind][itr]\n",
      "/mnt/c/Users/Nikita/Desktop/codes/ML/IRTT_reactor/core_uniniformity/main/pdc_handlers/pdc_refueler.py:462: FutureWarning: Series.__getitem__ treating keys as positions is deprecated. In a future version, integer keys will always be treated as labels (consistent with DataFrame behavior). To access a value by position, use `ser.iloc[pos]`\n",
      "  densities[nucl] = df_nuclides.iloc[ind][nucl] / df_axial_shapes.iloc[ind][itr]\n"
     ]
    },
    {
     "name": "stdout",
     "output_type": "stream",
     "text": [
      "[['31.58', '31.88', '24.13', '16.61'], ['28.93', '32.01', '23.92', '25.85'], ['29.16', 'Be', 'Be', '35.23'], ['32.83', 'Be', 'Be', '53.23'], ['31.05', '23.40', '32.95', '40.35'], ['17.26', '40.77', '47.33', '37.53']]\n",
      "[0.24773611 0.3857606  0.52591336 0.54184678 0.27618006 0.14929109\n",
      " 0.16573843 0.51567344 0.28943041 0.24563229 0.49431039 0.22366355\n",
      " 0.13220251 0.20524948 0.11874978 0.31134678 0.14013087 0.42703743\n",
      " 0.24563229 0.1595548 ] 0.290054023844872\n"
     ]
    },
    {
     "name": "stderr",
     "output_type": "stream",
     "text": [
      "/mnt/c/Users/Nikita/Desktop/codes/ML/IRTT_reactor/core_uniniformity/main/pdc_handlers/pdc_refueler.py:453: FutureWarning: Series.__getitem__ treating keys as positions is deprecated. In a future version, integer keys will always be treated as labels (consistent with DataFrame behavior). To access a value by position, use `ser.iloc[pos]`\n",
      "  * df_axial_shapes.iloc[ind][itr]\n",
      "/mnt/c/Users/Nikita/Desktop/codes/ML/IRTT_reactor/core_uniniformity/main/pdc_handlers/pdc_refueler.py:462: FutureWarning: Series.__getitem__ treating keys as positions is deprecated. In a future version, integer keys will always be treated as labels (consistent with DataFrame behavior). To access a value by position, use `ser.iloc[pos]`\n",
      "  densities[nucl] = df_nuclides.iloc[ind][nucl] / df_axial_shapes.iloc[ind][itr]\n"
     ]
    },
    {
     "name": "stdout",
     "output_type": "stream",
     "text": [
      "[['24.77', '38.58', '52.59', '54.18'], ['27.62', '14.93', '16.57', '51.57'], ['28.94', 'Be', 'Be', '24.56'], ['49.43', 'Be', 'Be', '22.37'], ['13.22', '20.52', '11.87', '31.13'], ['14.01', '42.70', '24.56', '15.96']]\n",
      "[0.44956681 0.16750554 0.26731844 0.32170665 0.51163711 0.20311758\n",
      " 0.34262678 0.35736702 0.45049373 0.49033039 0.32297502 0.22924165\n",
      " 0.45151981 0.39703731 0.46969593 0.35043433 0.4465792  0.44960582\n",
      " 0.22369297 0.52353484] 0.3712993466606058\n"
     ]
    },
    {
     "name": "stderr",
     "output_type": "stream",
     "text": [
      "/mnt/c/Users/Nikita/Desktop/codes/ML/IRTT_reactor/core_uniniformity/main/pdc_handlers/pdc_refueler.py:453: FutureWarning: Series.__getitem__ treating keys as positions is deprecated. In a future version, integer keys will always be treated as labels (consistent with DataFrame behavior). To access a value by position, use `ser.iloc[pos]`\n",
      "  * df_axial_shapes.iloc[ind][itr]\n",
      "/mnt/c/Users/Nikita/Desktop/codes/ML/IRTT_reactor/core_uniniformity/main/pdc_handlers/pdc_refueler.py:462: FutureWarning: Series.__getitem__ treating keys as positions is deprecated. In a future version, integer keys will always be treated as labels (consistent with DataFrame behavior). To access a value by position, use `ser.iloc[pos]`\n",
      "  densities[nucl] = df_nuclides.iloc[ind][nucl] / df_axial_shapes.iloc[ind][itr]\n"
     ]
    },
    {
     "name": "stdout",
     "output_type": "stream",
     "text": [
      "[['44.96', '16.75', '26.73', '32.17'], ['51.16', '20.31', '34.26', '35.74'], ['45.05', 'Be', 'Be', '49.03'], ['32.30', 'Be', 'Be', '22.92'], ['45.15', '39.70', '46.97', '35.04'], ['44.66', '44.96', '22.37', '52.35']]\n",
      "[0.40375486 0.19235872 0.32097987 0.38972425 0.38972425 0.28376335\n",
      " 0.2514617  0.22339699 0.31538196 0.48484522 0.43778523 0.44535541\n",
      " 0.48024247 0.32907503 0.46573235 0.25093831 0.18083374 0.38005383\n",
      " 0.46625941 0.3718277 ] 0.35317473340713035\n"
     ]
    },
    {
     "name": "stderr",
     "output_type": "stream",
     "text": [
      "/mnt/c/Users/Nikita/Desktop/codes/ML/IRTT_reactor/core_uniniformity/main/pdc_handlers/pdc_refueler.py:453: FutureWarning: Series.__getitem__ treating keys as positions is deprecated. In a future version, integer keys will always be treated as labels (consistent with DataFrame behavior). To access a value by position, use `ser.iloc[pos]`\n",
      "  * df_axial_shapes.iloc[ind][itr]\n",
      "/mnt/c/Users/Nikita/Desktop/codes/ML/IRTT_reactor/core_uniniformity/main/pdc_handlers/pdc_refueler.py:462: FutureWarning: Series.__getitem__ treating keys as positions is deprecated. In a future version, integer keys will always be treated as labels (consistent with DataFrame behavior). To access a value by position, use `ser.iloc[pos]`\n",
      "  densities[nucl] = df_nuclides.iloc[ind][nucl] / df_axial_shapes.iloc[ind][itr]\n"
     ]
    },
    {
     "name": "stdout",
     "output_type": "stream",
     "text": [
      "[['40.38', '19.24', '32.10', '38.97'], ['38.97', '28.38', '25.15', '22.34'], ['31.54', 'Be', 'Be', '48.48'], ['43.78', 'Be', 'Be', '44.54'], ['48.02', '32.91', '46.57', '25.09'], ['18.08', '38.01', '46.63', '37.18']]\n",
      "[0.1467726  0.17525667 0.47822877 0.43906645 0.31844188 0.22935917\n",
      " 0.38654063 0.2232732  0.41951887 0.34103442 0.40956202 0.23613137\n",
      " 0.29370166 0.41541399 0.19885729 0.2820669  0.36945242 0.22103219\n",
      " 0.45375476 0.45097179] 0.32442185222186704\n"
     ]
    },
    {
     "name": "stderr",
     "output_type": "stream",
     "text": [
      "/mnt/c/Users/Nikita/Desktop/codes/ML/IRTT_reactor/core_uniniformity/main/pdc_handlers/pdc_refueler.py:453: FutureWarning: Series.__getitem__ treating keys as positions is deprecated. In a future version, integer keys will always be treated as labels (consistent with DataFrame behavior). To access a value by position, use `ser.iloc[pos]`\n",
      "  * df_axial_shapes.iloc[ind][itr]\n",
      "/mnt/c/Users/Nikita/Desktop/codes/ML/IRTT_reactor/core_uniniformity/main/pdc_handlers/pdc_refueler.py:462: FutureWarning: Series.__getitem__ treating keys as positions is deprecated. In a future version, integer keys will always be treated as labels (consistent with DataFrame behavior). To access a value by position, use `ser.iloc[pos]`\n",
      "  densities[nucl] = df_nuclides.iloc[ind][nucl] / df_axial_shapes.iloc[ind][itr]\n"
     ]
    },
    {
     "name": "stdout",
     "output_type": "stream",
     "text": [
      "[['14.68', '17.53', '47.82', '43.91'], ['31.84', '22.94', '38.65', '22.33'], ['41.95', 'Be', 'Be', '34.10'], ['40.96', 'Be', 'Be', '23.61'], ['29.37', '41.54', '19.89', '28.21'], ['36.95', '22.10', '45.38', '45.10']]\n",
      "[0.40819087 0.16329782 0.20813306 0.31831591 0.36905256 0.24799991\n",
      " 0.46583904 0.3466344  0.43778561 0.17206965 0.22588892 0.31356449\n",
      " 0.36172337 0.28397441 0.16047002 0.38756051 0.04693324 0.2913048\n",
      " 0.56612983 0.1868364 ] 0.29808524260063013\n"
     ]
    },
    {
     "name": "stderr",
     "output_type": "stream",
     "text": [
      "/mnt/c/Users/Nikita/Desktop/codes/ML/IRTT_reactor/core_uniniformity/main/pdc_handlers/pdc_refueler.py:453: FutureWarning: Series.__getitem__ treating keys as positions is deprecated. In a future version, integer keys will always be treated as labels (consistent with DataFrame behavior). To access a value by position, use `ser.iloc[pos]`\n",
      "  * df_axial_shapes.iloc[ind][itr]\n",
      "/mnt/c/Users/Nikita/Desktop/codes/ML/IRTT_reactor/core_uniniformity/main/pdc_handlers/pdc_refueler.py:462: FutureWarning: Series.__getitem__ treating keys as positions is deprecated. In a future version, integer keys will always be treated as labels (consistent with DataFrame behavior). To access a value by position, use `ser.iloc[pos]`\n",
      "  densities[nucl] = df_nuclides.iloc[ind][nucl] / df_axial_shapes.iloc[ind][itr]\n"
     ]
    },
    {
     "name": "stdout",
     "output_type": "stream",
     "text": [
      "[['40.82', '16.33', '20.81', '31.83'], ['36.91', '24.80', '46.58', '34.66'], ['43.78', 'Be', 'Be', '17.21'], ['22.59', 'Be', 'Be', '31.36'], ['36.17', '28.40', '16.05', '38.76'], ['4.69', '29.13', '56.61', '18.68']]\n",
      "[0.56891193 0.27565977 0.23628894 0.15044184 0.40823008 0.32847339\n",
      " 0.28243961 0.38032152 0.4471129  0.31315233 0.23939387 0.01537761\n",
      " 0.51151197 0.4152638  0.23214231 0.27563283 0.45303946 0.34950591\n",
      " 0.50488519 0.31622086] 0.3352003063179933\n"
     ]
    },
    {
     "name": "stderr",
     "output_type": "stream",
     "text": [
      "/mnt/c/Users/Nikita/Desktop/codes/ML/IRTT_reactor/core_uniniformity/main/pdc_handlers/pdc_refueler.py:453: FutureWarning: Series.__getitem__ treating keys as positions is deprecated. In a future version, integer keys will always be treated as labels (consistent with DataFrame behavior). To access a value by position, use `ser.iloc[pos]`\n",
      "  * df_axial_shapes.iloc[ind][itr]\n",
      "/mnt/c/Users/Nikita/Desktop/codes/ML/IRTT_reactor/core_uniniformity/main/pdc_handlers/pdc_refueler.py:462: FutureWarning: Series.__getitem__ treating keys as positions is deprecated. In a future version, integer keys will always be treated as labels (consistent with DataFrame behavior). To access a value by position, use `ser.iloc[pos]`\n",
      "  densities[nucl] = df_nuclides.iloc[ind][nucl] / df_axial_shapes.iloc[ind][itr]\n"
     ]
    },
    {
     "name": "stdout",
     "output_type": "stream",
     "text": [
      "[['56.89', '27.57', '23.63', '15.04'], ['40.82', '32.85', '28.24', '38.03'], ['44.71', 'Be', 'Be', '31.32'], ['23.94', 'Be', 'Be', '1.54'], ['51.15', '41.53', '23.21', '27.56'], ['45.30', '34.95', '50.49', '31.62']]\n",
      "[0.26425642 0.3735778  0.2731876  0.14481989 0.43015087 0.31733495\n",
      " 0.43015087 0.23173784 0.12593475 0.42845108 0.3121194  0.33063028\n",
      " 0.41459493 0.48969835 0.53852273 0.12272786 0.4510948  0.26522478\n",
      " 0.48864509 0.29203459] 0.33624474331760756\n"
     ]
    },
    {
     "name": "stderr",
     "output_type": "stream",
     "text": [
      "/mnt/c/Users/Nikita/Desktop/codes/ML/IRTT_reactor/core_uniniformity/main/pdc_handlers/pdc_refueler.py:453: FutureWarning: Series.__getitem__ treating keys as positions is deprecated. In a future version, integer keys will always be treated as labels (consistent with DataFrame behavior). To access a value by position, use `ser.iloc[pos]`\n",
      "  * df_axial_shapes.iloc[ind][itr]\n",
      "/mnt/c/Users/Nikita/Desktop/codes/ML/IRTT_reactor/core_uniniformity/main/pdc_handlers/pdc_refueler.py:462: FutureWarning: Series.__getitem__ treating keys as positions is deprecated. In a future version, integer keys will always be treated as labels (consistent with DataFrame behavior). To access a value by position, use `ser.iloc[pos]`\n",
      "  densities[nucl] = df_nuclides.iloc[ind][nucl] / df_axial_shapes.iloc[ind][itr]\n"
     ]
    },
    {
     "name": "stdout",
     "output_type": "stream",
     "text": [
      "[['26.43', '37.36', '27.32', '14.48'], ['43.02', '31.73', '43.02', '23.17'], ['12.59', 'Be', 'Be', '42.85'], ['31.21', 'Be', 'Be', '33.06'], ['41.46', '48.97', '53.85', '12.27'], ['45.11', '26.52', '48.86', '29.20']]\n",
      "[0.43193681 0.31989416 0.49058883 0.37986424 0.26523446 0.42240066\n",
      " 0.30460329 0.30897915 0.21484059 0.29199753 0.33642652 0.21985764\n",
      " 0.45755339 0.30417111 0.38550674 0.50950888 0.43264798 0.34203688\n",
      " 0.28038781 0.40396528] 0.35512009863610877\n"
     ]
    },
    {
     "name": "stderr",
     "output_type": "stream",
     "text": [
      "/mnt/c/Users/Nikita/Desktop/codes/ML/IRTT_reactor/core_uniniformity/main/pdc_handlers/pdc_refueler.py:453: FutureWarning: Series.__getitem__ treating keys as positions is deprecated. In a future version, integer keys will always be treated as labels (consistent with DataFrame behavior). To access a value by position, use `ser.iloc[pos]`\n",
      "  * df_axial_shapes.iloc[ind][itr]\n",
      "/mnt/c/Users/Nikita/Desktop/codes/ML/IRTT_reactor/core_uniniformity/main/pdc_handlers/pdc_refueler.py:462: FutureWarning: Series.__getitem__ treating keys as positions is deprecated. In a future version, integer keys will always be treated as labels (consistent with DataFrame behavior). To access a value by position, use `ser.iloc[pos]`\n",
      "  densities[nucl] = df_nuclides.iloc[ind][nucl] / df_axial_shapes.iloc[ind][itr]\n"
     ]
    },
    {
     "name": "stdout",
     "output_type": "stream",
     "text": [
      "[['43.19', '31.99', '49.06', '37.99'], ['26.52', '42.24', '30.46', '30.90'], ['21.48', 'Be', 'Be', '29.20'], ['33.64', 'Be', 'Be', '21.99'], ['45.76', '30.42', '38.55', '50.95'], ['43.26', '34.20', '28.04', '40.40']]\n",
      "[0.34348934 0.45501164 0.17699052 0.24853797 0.23567841 0.26157911\n",
      " 0.25596002 0.62179153 0.31435881 0.2543748  0.35764488 0.55678537\n",
      " 0.30465943 0.3623904  0.31201752 0.30438626 0.13476411 0.27613327\n",
      " 0.18384028 0.23604364] 0.30982186590641836\n"
     ]
    },
    {
     "name": "stderr",
     "output_type": "stream",
     "text": [
      "/mnt/c/Users/Nikita/Desktop/codes/ML/IRTT_reactor/core_uniniformity/main/pdc_handlers/pdc_refueler.py:453: FutureWarning: Series.__getitem__ treating keys as positions is deprecated. In a future version, integer keys will always be treated as labels (consistent with DataFrame behavior). To access a value by position, use `ser.iloc[pos]`\n",
      "  * df_axial_shapes.iloc[ind][itr]\n",
      "/mnt/c/Users/Nikita/Desktop/codes/ML/IRTT_reactor/core_uniniformity/main/pdc_handlers/pdc_refueler.py:462: FutureWarning: Series.__getitem__ treating keys as positions is deprecated. In a future version, integer keys will always be treated as labels (consistent with DataFrame behavior). To access a value by position, use `ser.iloc[pos]`\n",
      "  densities[nucl] = df_nuclides.iloc[ind][nucl] / df_axial_shapes.iloc[ind][itr]\n"
     ]
    },
    {
     "name": "stdout",
     "output_type": "stream",
     "text": [
      "[['34.35', '45.50', '17.70', '24.85'], ['23.57', '26.16', '25.60', '62.18'], ['31.44', 'Be', 'Be', '25.44'], ['35.76', 'Be', 'Be', '55.68'], ['30.47', '36.24', '31.20', '30.44'], ['13.48', '27.61', '18.38', '23.60']]\n",
      "[0.09246033 0.46819226 0.58629733 0.3034553  0.23872567 0.30956082\n",
      " 0.30764805 0.45651552 0.52469295 0.28025256 0.13377224 0.31303687\n",
      " 0.42887767 0.49974201 0.32655946 0.37114534 0.4608868  0.36245864\n",
      " 0.51581762 0.59043206] 0.3785264755019285\n"
     ]
    },
    {
     "name": "stderr",
     "output_type": "stream",
     "text": [
      "/mnt/c/Users/Nikita/Desktop/codes/ML/IRTT_reactor/core_uniniformity/main/pdc_handlers/pdc_refueler.py:453: FutureWarning: Series.__getitem__ treating keys as positions is deprecated. In a future version, integer keys will always be treated as labels (consistent with DataFrame behavior). To access a value by position, use `ser.iloc[pos]`\n",
      "  * df_axial_shapes.iloc[ind][itr]\n",
      "/mnt/c/Users/Nikita/Desktop/codes/ML/IRTT_reactor/core_uniniformity/main/pdc_handlers/pdc_refueler.py:462: FutureWarning: Series.__getitem__ treating keys as positions is deprecated. In a future version, integer keys will always be treated as labels (consistent with DataFrame behavior). To access a value by position, use `ser.iloc[pos]`\n",
      "  densities[nucl] = df_nuclides.iloc[ind][nucl] / df_axial_shapes.iloc[ind][itr]\n"
     ]
    },
    {
     "name": "stdout",
     "output_type": "stream",
     "text": [
      "[['9.25', '46.82', '58.63', '30.35'], ['23.87', '30.96', '30.76', '45.65'], ['52.47', 'Be', 'Be', '28.03'], ['13.38', 'Be', 'Be', '31.30'], ['42.89', '49.97', '32.66', '37.11'], ['46.09', '36.25', '51.58', '59.04']]\n",
      "[0.19194966 0.52739085 0.43708803 0.32387455 0.21690916 0.43997166\n",
      " 0.30025868 0.46916594 0.5335734  0.42312249 0.3127721  0.41147285\n",
      " 0.34466128 0.43265499 0.52592746 0.32627788 0.30739464 0.35203038\n",
      " 0.38537584 0.31526998] 0.37885709235324005\n"
     ]
    },
    {
     "name": "stderr",
     "output_type": "stream",
     "text": [
      "/mnt/c/Users/Nikita/Desktop/codes/ML/IRTT_reactor/core_uniniformity/main/pdc_handlers/pdc_refueler.py:453: FutureWarning: Series.__getitem__ treating keys as positions is deprecated. In a future version, integer keys will always be treated as labels (consistent with DataFrame behavior). To access a value by position, use `ser.iloc[pos]`\n",
      "  * df_axial_shapes.iloc[ind][itr]\n",
      "/mnt/c/Users/Nikita/Desktop/codes/ML/IRTT_reactor/core_uniniformity/main/pdc_handlers/pdc_refueler.py:462: FutureWarning: Series.__getitem__ treating keys as positions is deprecated. In a future version, integer keys will always be treated as labels (consistent with DataFrame behavior). To access a value by position, use `ser.iloc[pos]`\n",
      "  densities[nucl] = df_nuclides.iloc[ind][nucl] / df_axial_shapes.iloc[ind][itr]\n"
     ]
    },
    {
     "name": "stdout",
     "output_type": "stream",
     "text": [
      "[['19.19', '52.74', '43.71', '32.39'], ['21.69', '44.00', '30.03', '46.92'], ['53.36', 'Be', 'Be', '42.31'], ['31.28', 'Be', 'Be', '41.15'], ['34.47', '43.27', '52.59', '32.63'], ['30.74', '35.20', '38.54', '31.53']]\n",
      "[0.40869851 0.4494541  0.50450922 0.2980202  0.14734338 0.37530518\n",
      " 0.3709151  0.29829079 0.52297966 0.33185947 0.28386963 0.41823255\n",
      " 0.44488001 0.58799166 0.14211074 0.34178035 0.36460938 0.43375555\n",
      " 0.66320633 0.29123261] 0.3839522207977686\n"
     ]
    },
    {
     "name": "stderr",
     "output_type": "stream",
     "text": [
      "/mnt/c/Users/Nikita/Desktop/codes/ML/IRTT_reactor/core_uniniformity/main/pdc_handlers/pdc_refueler.py:453: FutureWarning: Series.__getitem__ treating keys as positions is deprecated. In a future version, integer keys will always be treated as labels (consistent with DataFrame behavior). To access a value by position, use `ser.iloc[pos]`\n",
      "  * df_axial_shapes.iloc[ind][itr]\n",
      "/mnt/c/Users/Nikita/Desktop/codes/ML/IRTT_reactor/core_uniniformity/main/pdc_handlers/pdc_refueler.py:462: FutureWarning: Series.__getitem__ treating keys as positions is deprecated. In a future version, integer keys will always be treated as labels (consistent with DataFrame behavior). To access a value by position, use `ser.iloc[pos]`\n",
      "  densities[nucl] = df_nuclides.iloc[ind][nucl] / df_axial_shapes.iloc[ind][itr]\n"
     ]
    },
    {
     "name": "stdout",
     "output_type": "stream",
     "text": [
      "[['40.87', '44.95', '50.45', '29.80'], ['14.73', '37.53', '37.09', '29.83'], ['52.30', 'Be', 'Be', '33.19'], ['28.39', 'Be', 'Be', '41.82'], ['44.49', '58.80', '14.21', '34.18'], ['36.46', '43.38', '66.32', '29.12']]\n",
      "[0.37185068 0.28674293 0.43455811 0.51424649 0.36231365 0.45436597\n",
      " 0.51983945 0.27311898 0.49007652 0.37448794 0.38594731 0.03245183\n",
      " 0.38776389 0.25784509 0.26126918 0.55647553 0.37371535 0.3093898\n",
      " 0.21371334 0.33143175] 0.3595801900404888\n"
     ]
    },
    {
     "name": "stderr",
     "output_type": "stream",
     "text": [
      "/mnt/c/Users/Nikita/Desktop/codes/ML/IRTT_reactor/core_uniniformity/main/pdc_handlers/pdc_refueler.py:453: FutureWarning: Series.__getitem__ treating keys as positions is deprecated. In a future version, integer keys will always be treated as labels (consistent with DataFrame behavior). To access a value by position, use `ser.iloc[pos]`\n",
      "  * df_axial_shapes.iloc[ind][itr]\n",
      "/mnt/c/Users/Nikita/Desktop/codes/ML/IRTT_reactor/core_uniniformity/main/pdc_handlers/pdc_refueler.py:462: FutureWarning: Series.__getitem__ treating keys as positions is deprecated. In a future version, integer keys will always be treated as labels (consistent with DataFrame behavior). To access a value by position, use `ser.iloc[pos]`\n",
      "  densities[nucl] = df_nuclides.iloc[ind][nucl] / df_axial_shapes.iloc[ind][itr]\n"
     ]
    },
    {
     "name": "stdout",
     "output_type": "stream",
     "text": [
      "[['37.19', '28.67', '43.46', '51.42'], ['36.23', '45.44', '51.98', '27.31'], ['49.01', 'Be', 'Be', '37.45'], ['38.59', 'Be', 'Be', '3.25'], ['38.78', '25.78', '26.13', '55.65'], ['37.37', '30.94', '21.37', '33.14']]\n",
      "[0.19296117 0.53528634 0.53072625 0.2841938  0.24810919 0.48848037\n",
      " 0.25288609 0.25582419 0.3718608  0.55402809 0.15738444 0.18545779\n",
      " 0.23710085 0.26792346 0.24911894 0.27902848 0.42350755 0.07767148\n",
      " 0.06759726 0.41968357] 0.3039415058773491\n"
     ]
    },
    {
     "name": "stderr",
     "output_type": "stream",
     "text": [
      "/mnt/c/Users/Nikita/Desktop/codes/ML/IRTT_reactor/core_uniniformity/main/pdc_handlers/pdc_refueler.py:453: FutureWarning: Series.__getitem__ treating keys as positions is deprecated. In a future version, integer keys will always be treated as labels (consistent with DataFrame behavior). To access a value by position, use `ser.iloc[pos]`\n",
      "  * df_axial_shapes.iloc[ind][itr]\n",
      "/mnt/c/Users/Nikita/Desktop/codes/ML/IRTT_reactor/core_uniniformity/main/pdc_handlers/pdc_refueler.py:462: FutureWarning: Series.__getitem__ treating keys as positions is deprecated. In a future version, integer keys will always be treated as labels (consistent with DataFrame behavior). To access a value by position, use `ser.iloc[pos]`\n",
      "  densities[nucl] = df_nuclides.iloc[ind][nucl] / df_axial_shapes.iloc[ind][itr]\n"
     ]
    },
    {
     "name": "stdout",
     "output_type": "stream",
     "text": [
      "[['19.30', '53.53', '53.07', '28.42'], ['24.81', '48.85', '25.29', '25.58'], ['37.19', 'Be', 'Be', '55.40'], ['15.74', 'Be', 'Be', '18.55'], ['23.71', '26.79', '24.91', '27.90'], ['42.35', '7.77', '6.76', '41.97']]\n",
      "[0.31959723 0.1269056  0.29850953 0.3259229  0.11080467 0.59768129\n",
      " 0.24710629 0.08151211 0.29321523 0.43751845 0.34364217 0.63394703\n",
      " 0.45688788 0.31071987 0.45199248 0.3153151  0.26389145 0.47522787\n",
      " 0.43311241 0.44745795] 0.3485483754418382\n"
     ]
    },
    {
     "name": "stderr",
     "output_type": "stream",
     "text": [
      "/mnt/c/Users/Nikita/Desktop/codes/ML/IRTT_reactor/core_uniniformity/main/pdc_handlers/pdc_refueler.py:453: FutureWarning: Series.__getitem__ treating keys as positions is deprecated. In a future version, integer keys will always be treated as labels (consistent with DataFrame behavior). To access a value by position, use `ser.iloc[pos]`\n",
      "  * df_axial_shapes.iloc[ind][itr]\n",
      "/mnt/c/Users/Nikita/Desktop/codes/ML/IRTT_reactor/core_uniniformity/main/pdc_handlers/pdc_refueler.py:462: FutureWarning: Series.__getitem__ treating keys as positions is deprecated. In a future version, integer keys will always be treated as labels (consistent with DataFrame behavior). To access a value by position, use `ser.iloc[pos]`\n",
      "  densities[nucl] = df_nuclides.iloc[ind][nucl] / df_axial_shapes.iloc[ind][itr]\n"
     ]
    },
    {
     "name": "stdout",
     "output_type": "stream",
     "text": [
      "[['31.96', '12.69', '29.85', '32.59'], ['11.08', '59.77', '24.71', '8.15'], ['29.32', 'Be', 'Be', '43.75'], ['34.36', 'Be', 'Be', '63.39'], ['45.69', '31.07', '45.20', '31.53'], ['26.39', '47.52', '43.31', '44.75']]\n",
      "[ 0.27903878  0.21254714  0.24417996  0.32345939  0.17036524  0.18697407\n",
      "  0.37779674  0.15540023 -0.00414618  0.1615534   0.65435522  0.38461654\n",
      "  0.40673322  0.39398994  0.47352335  0.29655776  0.45446472  0.36089032\n",
      "  0.35136465  0.52681867] 0.3205241578408454\n"
     ]
    },
    {
     "name": "stderr",
     "output_type": "stream",
     "text": [
      "/mnt/c/Users/Nikita/Desktop/codes/ML/IRTT_reactor/core_uniniformity/main/pdc_handlers/pdc_refueler.py:453: FutureWarning: Series.__getitem__ treating keys as positions is deprecated. In a future version, integer keys will always be treated as labels (consistent with DataFrame behavior). To access a value by position, use `ser.iloc[pos]`\n",
      "  * df_axial_shapes.iloc[ind][itr]\n",
      "/mnt/c/Users/Nikita/Desktop/codes/ML/IRTT_reactor/core_uniniformity/main/pdc_handlers/pdc_refueler.py:462: FutureWarning: Series.__getitem__ treating keys as positions is deprecated. In a future version, integer keys will always be treated as labels (consistent with DataFrame behavior). To access a value by position, use `ser.iloc[pos]`\n",
      "  densities[nucl] = df_nuclides.iloc[ind][nucl] / df_axial_shapes.iloc[ind][itr]\n"
     ]
    },
    {
     "name": "stdout",
     "output_type": "stream",
     "text": [
      "[['27.90', '21.25', '24.42', '32.35'], ['17.04', '18.70', '37.78', '15.54'], ['0.41', 'Be', 'Be', '16.16'], ['65.44', 'Be', 'Be', '38.46'], ['40.67', '39.40', '47.35', '29.66'], ['45.45', '36.09', '35.14', '52.68']]\n",
      "[0.19048038 0.56391372 0.28462482 0.19266711 0.11593826 0.23821003\n",
      " 0.26324468 0.34598449 0.5294247  0.28250304 0.32063516 0.43000429\n",
      " 0.24814717 0.29355099 0.21323297 0.19199404 0.50065051 0.38543096\n",
      " 0.22665671 0.43223274] 0.31247633784935647\n"
     ]
    },
    {
     "name": "stderr",
     "output_type": "stream",
     "text": [
      "/mnt/c/Users/Nikita/Desktop/codes/ML/IRTT_reactor/core_uniniformity/main/pdc_handlers/pdc_refueler.py:453: FutureWarning: Series.__getitem__ treating keys as positions is deprecated. In a future version, integer keys will always be treated as labels (consistent with DataFrame behavior). To access a value by position, use `ser.iloc[pos]`\n",
      "  * df_axial_shapes.iloc[ind][itr]\n",
      "/mnt/c/Users/Nikita/Desktop/codes/ML/IRTT_reactor/core_uniniformity/main/pdc_handlers/pdc_refueler.py:462: FutureWarning: Series.__getitem__ treating keys as positions is deprecated. In a future version, integer keys will always be treated as labels (consistent with DataFrame behavior). To access a value by position, use `ser.iloc[pos]`\n",
      "  densities[nucl] = df_nuclides.iloc[ind][nucl] / df_axial_shapes.iloc[ind][itr]\n"
     ]
    },
    {
     "name": "stdout",
     "output_type": "stream",
     "text": [
      "[['19.05', '56.39', '28.46', '19.27'], ['11.59', '23.82', '26.32', '34.60'], ['52.94', 'Be', 'Be', '28.25'], ['32.06', 'Be', 'Be', '43.00'], ['24.81', '29.36', '21.32', '19.20'], ['50.07', '38.54', '22.67', '43.22']]\n",
      "[0.40577766 0.40687873 0.29283457 0.29716952 0.09930729 0.24491826\n",
      " 0.23711545 0.32437541 0.39498977 0.51057336 0.37255085 0.57380876\n",
      " 0.2915028  0.04456052 0.21361792 0.24214941 0.28248702 0.07781304\n",
      " 0.42324905 0.41563514] 0.3075657249653629\n"
     ]
    },
    {
     "name": "stderr",
     "output_type": "stream",
     "text": [
      "/mnt/c/Users/Nikita/Desktop/codes/ML/IRTT_reactor/core_uniniformity/main/pdc_handlers/pdc_refueler.py:453: FutureWarning: Series.__getitem__ treating keys as positions is deprecated. In a future version, integer keys will always be treated as labels (consistent with DataFrame behavior). To access a value by position, use `ser.iloc[pos]`\n",
      "  * df_axial_shapes.iloc[ind][itr]\n",
      "/mnt/c/Users/Nikita/Desktop/codes/ML/IRTT_reactor/core_uniniformity/main/pdc_handlers/pdc_refueler.py:462: FutureWarning: Series.__getitem__ treating keys as positions is deprecated. In a future version, integer keys will always be treated as labels (consistent with DataFrame behavior). To access a value by position, use `ser.iloc[pos]`\n",
      "  densities[nucl] = df_nuclides.iloc[ind][nucl] / df_axial_shapes.iloc[ind][itr]\n"
     ]
    },
    {
     "name": "stdout",
     "output_type": "stream",
     "text": [
      "[['40.58', '40.69', '29.28', '29.72'], ['9.93', '24.49', '23.71', '32.44'], ['39.50', 'Be', 'Be', '51.06'], ['37.26', 'Be', 'Be', '57.38'], ['29.15', '4.46', '21.36', '24.21'], ['28.25', '7.78', '42.32', '41.56']]\n",
      "[0.45546677 0.34372222 0.53678671 0.39095168 0.21037352 0.45659842\n",
      " 0.29596781 0.33460386 0.43921207 0.23078848 0.45211527 0.29837822\n",
      " 0.33686939 0.33256665 0.31297968 0.62402219 0.31286305 0.48453136\n",
      " 0.30162523 0.43126242] 0.3790842492603268\n"
     ]
    },
    {
     "name": "stderr",
     "output_type": "stream",
     "text": [
      "/mnt/c/Users/Nikita/Desktop/codes/ML/IRTT_reactor/core_uniniformity/main/pdc_handlers/pdc_refueler.py:453: FutureWarning: Series.__getitem__ treating keys as positions is deprecated. In a future version, integer keys will always be treated as labels (consistent with DataFrame behavior). To access a value by position, use `ser.iloc[pos]`\n",
      "  * df_axial_shapes.iloc[ind][itr]\n",
      "/mnt/c/Users/Nikita/Desktop/codes/ML/IRTT_reactor/core_uniniformity/main/pdc_handlers/pdc_refueler.py:462: FutureWarning: Series.__getitem__ treating keys as positions is deprecated. In a future version, integer keys will always be treated as labels (consistent with DataFrame behavior). To access a value by position, use `ser.iloc[pos]`\n",
      "  densities[nucl] = df_nuclides.iloc[ind][nucl] / df_axial_shapes.iloc[ind][itr]\n"
     ]
    },
    {
     "name": "stdout",
     "output_type": "stream",
     "text": [
      "[['45.55', '34.37', '53.68', '39.10'], ['21.04', '45.66', '29.60', '33.46'], ['43.92', 'Be', 'Be', '23.08'], ['45.21', 'Be', 'Be', '29.84'], ['33.69', '33.26', '31.30', '62.40'], ['31.29', '48.45', '30.16', '43.13']]\n",
      "[0.31433524 0.30701547 0.47629757 0.10921258 0.30724478 0.35335668\n",
      " 0.38615519 0.33996185 0.27599221 0.27473695 0.35499848 0.30721771\n",
      " 0.38615519 0.4251126  0.59274021 0.36641866 0.23627163 0.3565877\n",
      " 0.22678013 0.43410703] 0.3415348930238612\n"
     ]
    },
    {
     "name": "stderr",
     "output_type": "stream",
     "text": [
      "/mnt/c/Users/Nikita/Desktop/codes/ML/IRTT_reactor/core_uniniformity/main/pdc_handlers/pdc_refueler.py:453: FutureWarning: Series.__getitem__ treating keys as positions is deprecated. In a future version, integer keys will always be treated as labels (consistent with DataFrame behavior). To access a value by position, use `ser.iloc[pos]`\n",
      "  * df_axial_shapes.iloc[ind][itr]\n",
      "/mnt/c/Users/Nikita/Desktop/codes/ML/IRTT_reactor/core_uniniformity/main/pdc_handlers/pdc_refueler.py:462: FutureWarning: Series.__getitem__ treating keys as positions is deprecated. In a future version, integer keys will always be treated as labels (consistent with DataFrame behavior). To access a value by position, use `ser.iloc[pos]`\n",
      "  densities[nucl] = df_nuclides.iloc[ind][nucl] / df_axial_shapes.iloc[ind][itr]\n"
     ]
    },
    {
     "name": "stdout",
     "output_type": "stream",
     "text": [
      "[['31.43', '30.70', '47.63', '10.92'], ['30.72', '35.34', '38.62', '34.00'], ['27.60', 'Be', 'Be', '27.47'], ['35.50', 'Be', 'Be', '30.72'], ['38.62', '42.51', '59.27', '36.64'], ['23.63', '35.66', '22.68', '43.41']]\n",
      "[0.42035923 0.49457529 0.25239046 0.4421415  0.40622868 0.46039176\n",
      " 0.28282518 0.31569276 0.35307166 0.54276388 0.19899605 0.29227212\n",
      " 0.09715318 0.5066323  0.31383851 0.17233439 0.51159987 0.50465929\n",
      " 0.27946511 0.11738822] 0.3482389709529537\n"
     ]
    },
    {
     "name": "stderr",
     "output_type": "stream",
     "text": [
      "/mnt/c/Users/Nikita/Desktop/codes/ML/IRTT_reactor/core_uniniformity/main/pdc_handlers/pdc_refueler.py:453: FutureWarning: Series.__getitem__ treating keys as positions is deprecated. In a future version, integer keys will always be treated as labels (consistent with DataFrame behavior). To access a value by position, use `ser.iloc[pos]`\n",
      "  * df_axial_shapes.iloc[ind][itr]\n",
      "/mnt/c/Users/Nikita/Desktop/codes/ML/IRTT_reactor/core_uniniformity/main/pdc_handlers/pdc_refueler.py:462: FutureWarning: Series.__getitem__ treating keys as positions is deprecated. In a future version, integer keys will always be treated as labels (consistent with DataFrame behavior). To access a value by position, use `ser.iloc[pos]`\n",
      "  densities[nucl] = df_nuclides.iloc[ind][nucl] / df_axial_shapes.iloc[ind][itr]\n"
     ]
    },
    {
     "name": "stdout",
     "output_type": "stream",
     "text": [
      "[['42.04', '49.46', '25.24', '44.21'], ['40.62', '46.04', '28.28', '31.57'], ['35.31', 'Be', 'Be', '54.28'], ['19.90', 'Be', 'Be', '29.23'], ['9.72', '50.66', '31.38', '17.23'], ['51.16', '50.47', '27.95', '11.74']]\n",
      "[0.24530546 0.36172491 0.06861967 0.12301087 0.50157755 0.28661398\n",
      " 0.23111195 0.55821257 0.42647458 0.34607848 0.30078195 0.39531841\n",
      " 0.46875296 0.58446586 0.32459408 0.3279947  0.41586804 0.30078195\n",
      " 0.33057927 0.43592461] 0.3516895937015749\n"
     ]
    },
    {
     "name": "stderr",
     "output_type": "stream",
     "text": [
      "/mnt/c/Users/Nikita/Desktop/codes/ML/IRTT_reactor/core_uniniformity/main/pdc_handlers/pdc_refueler.py:453: FutureWarning: Series.__getitem__ treating keys as positions is deprecated. In a future version, integer keys will always be treated as labels (consistent with DataFrame behavior). To access a value by position, use `ser.iloc[pos]`\n",
      "  * df_axial_shapes.iloc[ind][itr]\n",
      "/mnt/c/Users/Nikita/Desktop/codes/ML/IRTT_reactor/core_uniniformity/main/pdc_handlers/pdc_refueler.py:462: FutureWarning: Series.__getitem__ treating keys as positions is deprecated. In a future version, integer keys will always be treated as labels (consistent with DataFrame behavior). To access a value by position, use `ser.iloc[pos]`\n",
      "  densities[nucl] = df_nuclides.iloc[ind][nucl] / df_axial_shapes.iloc[ind][itr]\n"
     ]
    },
    {
     "name": "stdout",
     "output_type": "stream",
     "text": [
      "[['24.53', '36.17', '6.86', '12.30'], ['50.16', '28.66', '23.11', '55.82'], ['42.65', 'Be', 'Be', '34.61'], ['30.08', 'Be', 'Be', '39.53'], ['46.88', '58.45', '32.46', '32.80'], ['41.59', '30.08', '33.06', '43.59']]\n",
      "[0.11109565 0.55452148 0.31957056 0.20196314 0.3144498  0.31062979\n",
      " 0.28561873 0.24477609 0.37730391 0.4280066  0.3136553  0.3136553\n",
      " 0.27250611 0.62495818 0.5728459  0.23621795 0.24254942 0.43938036\n",
      " 0.25346409 0.27144343] 0.3344305909072055\n"
     ]
    },
    {
     "name": "stderr",
     "output_type": "stream",
     "text": [
      "/mnt/c/Users/Nikita/Desktop/codes/ML/IRTT_reactor/core_uniniformity/main/pdc_handlers/pdc_refueler.py:453: FutureWarning: Series.__getitem__ treating keys as positions is deprecated. In a future version, integer keys will always be treated as labels (consistent with DataFrame behavior). To access a value by position, use `ser.iloc[pos]`\n",
      "  * df_axial_shapes.iloc[ind][itr]\n",
      "/mnt/c/Users/Nikita/Desktop/codes/ML/IRTT_reactor/core_uniniformity/main/pdc_handlers/pdc_refueler.py:462: FutureWarning: Series.__getitem__ treating keys as positions is deprecated. In a future version, integer keys will always be treated as labels (consistent with DataFrame behavior). To access a value by position, use `ser.iloc[pos]`\n",
      "  densities[nucl] = df_nuclides.iloc[ind][nucl] / df_axial_shapes.iloc[ind][itr]\n"
     ]
    },
    {
     "name": "stdout",
     "output_type": "stream",
     "text": [
      "[['11.11', '55.45', '31.96', '20.20'], ['31.44', '31.06', '28.56', '24.48'], ['37.73', 'Be', 'Be', '42.80'], ['31.37', 'Be', 'Be', '31.37'], ['27.25', '62.50', '57.28', '23.62'], ['24.25', '43.94', '25.35', '27.14']]\n",
      "[0.44167911 0.40214039 0.21271056 0.26964267 0.21984293 0.25117394\n",
      " 0.35239894 0.54603546 0.33926501 0.08585312 0.42641307 0.37493719\n",
      " 0.2049012  0.40665863 0.27158337 0.43757937 0.47694833 0.34155541\n",
      " 0.18641112 0.39017481] 0.3318952316393262\n"
     ]
    },
    {
     "name": "stderr",
     "output_type": "stream",
     "text": [
      "/mnt/c/Users/Nikita/Desktop/codes/ML/IRTT_reactor/core_uniniformity/main/pdc_handlers/pdc_refueler.py:453: FutureWarning: Series.__getitem__ treating keys as positions is deprecated. In a future version, integer keys will always be treated as labels (consistent with DataFrame behavior). To access a value by position, use `ser.iloc[pos]`\n",
      "  * df_axial_shapes.iloc[ind][itr]\n",
      "/mnt/c/Users/Nikita/Desktop/codes/ML/IRTT_reactor/core_uniniformity/main/pdc_handlers/pdc_refueler.py:462: FutureWarning: Series.__getitem__ treating keys as positions is deprecated. In a future version, integer keys will always be treated as labels (consistent with DataFrame behavior). To access a value by position, use `ser.iloc[pos]`\n",
      "  densities[nucl] = df_nuclides.iloc[ind][nucl] / df_axial_shapes.iloc[ind][itr]\n"
     ]
    },
    {
     "name": "stdout",
     "output_type": "stream",
     "text": [
      "[['44.17', '40.21', '21.27', '26.96'], ['21.98', '25.12', '35.24', '54.60'], ['33.93', 'Be', 'Be', '8.59'], ['42.64', 'Be', 'Be', '37.49'], ['20.49', '40.67', '27.16', '43.76'], ['47.69', '34.16', '18.64', '39.02']]\n",
      "[0.44109843 0.32706813 0.544811   0.46530191 0.44219787 0.38445717\n",
      " 0.50422039 0.23532473 0.30932404 0.27245479 0.42480131 0.33564241\n",
      " 0.32653535 0.22047888 0.64571924 0.38653686 0.35678164 0.22487152\n",
      " 0.04574963 0.30224779] 0.35978115560815926\n"
     ]
    },
    {
     "name": "stderr",
     "output_type": "stream",
     "text": [
      "/mnt/c/Users/Nikita/Desktop/codes/ML/IRTT_reactor/core_uniniformity/main/pdc_handlers/pdc_refueler.py:453: FutureWarning: Series.__getitem__ treating keys as positions is deprecated. In a future version, integer keys will always be treated as labels (consistent with DataFrame behavior). To access a value by position, use `ser.iloc[pos]`\n",
      "  * df_axial_shapes.iloc[ind][itr]\n",
      "/mnt/c/Users/Nikita/Desktop/codes/ML/IRTT_reactor/core_uniniformity/main/pdc_handlers/pdc_refueler.py:462: FutureWarning: Series.__getitem__ treating keys as positions is deprecated. In a future version, integer keys will always be treated as labels (consistent with DataFrame behavior). To access a value by position, use `ser.iloc[pos]`\n",
      "  densities[nucl] = df_nuclides.iloc[ind][nucl] / df_axial_shapes.iloc[ind][itr]\n"
     ]
    },
    {
     "name": "stdout",
     "output_type": "stream",
     "text": [
      "[['44.11', '32.71', '54.48', '46.53'], ['44.22', '38.45', '50.42', '23.53'], ['30.93', 'Be', 'Be', '27.25'], ['42.48', 'Be', 'Be', '33.56'], ['32.65', '22.05', '64.57', '38.65'], ['35.68', '22.49', '4.57', '30.22']]\n",
      "[0.42975493 0.27218821 0.25257912 0.29182011 0.27703936 0.16094225\n",
      " 0.39386685 0.49800567 0.21560101 0.43111905 0.38829353 0.31726819\n",
      " 0.27573689 0.42975493 0.33034746 0.21992799 0.39396932 0.36499645\n",
      " 0.67423997 0.21027976] 0.3413865524367026\n"
     ]
    },
    {
     "name": "stderr",
     "output_type": "stream",
     "text": [
      "/mnt/c/Users/Nikita/Desktop/codes/ML/IRTT_reactor/core_uniniformity/main/pdc_handlers/pdc_refueler.py:453: FutureWarning: Series.__getitem__ treating keys as positions is deprecated. In a future version, integer keys will always be treated as labels (consistent with DataFrame behavior). To access a value by position, use `ser.iloc[pos]`\n",
      "  * df_axial_shapes.iloc[ind][itr]\n",
      "/mnt/c/Users/Nikita/Desktop/codes/ML/IRTT_reactor/core_uniniformity/main/pdc_handlers/pdc_refueler.py:462: FutureWarning: Series.__getitem__ treating keys as positions is deprecated. In a future version, integer keys will always be treated as labels (consistent with DataFrame behavior). To access a value by position, use `ser.iloc[pos]`\n",
      "  densities[nucl] = df_nuclides.iloc[ind][nucl] / df_axial_shapes.iloc[ind][itr]\n"
     ]
    },
    {
     "name": "stdout",
     "output_type": "stream",
     "text": [
      "[['42.98', '27.22', '25.26', '29.18'], ['27.70', '16.09', '39.39', '49.80'], ['21.56', 'Be', 'Be', '43.11'], ['38.83', 'Be', 'Be', '31.73'], ['27.57', '42.98', '33.03', '21.99'], ['39.40', '36.50', '67.42', '21.03']]\n",
      "[0.42348284 0.17446182 0.41981677 0.31652198 0.42687484 0.40668863\n",
      " 0.42467637 0.36474591 0.43411096 0.45176972 0.49227318 0.24900964\n",
      " 0.34346064 0.34346064 0.63128157 0.25356831 0.46231389 0.24500865\n",
      " 0.48949301 0.50976771] 0.39313935373966175\n"
     ]
    },
    {
     "name": "stderr",
     "output_type": "stream",
     "text": [
      "/mnt/c/Users/Nikita/Desktop/codes/ML/IRTT_reactor/core_uniniformity/main/pdc_handlers/pdc_refueler.py:453: FutureWarning: Series.__getitem__ treating keys as positions is deprecated. In a future version, integer keys will always be treated as labels (consistent with DataFrame behavior). To access a value by position, use `ser.iloc[pos]`\n",
      "  * df_axial_shapes.iloc[ind][itr]\n",
      "/mnt/c/Users/Nikita/Desktop/codes/ML/IRTT_reactor/core_uniniformity/main/pdc_handlers/pdc_refueler.py:462: FutureWarning: Series.__getitem__ treating keys as positions is deprecated. In a future version, integer keys will always be treated as labels (consistent with DataFrame behavior). To access a value by position, use `ser.iloc[pos]`\n",
      "  densities[nucl] = df_nuclides.iloc[ind][nucl] / df_axial_shapes.iloc[ind][itr]\n"
     ]
    },
    {
     "name": "stdout",
     "output_type": "stream",
     "text": [
      "[['42.35', '17.45', '41.98', '31.65'], ['42.69', '40.67', '42.47', '36.47'], ['43.41', 'Be', 'Be', '45.18'], ['49.23', 'Be', 'Be', '24.90'], ['34.35', '34.35', '63.13', '25.36'], ['46.23', '24.50', '48.95', '50.98']]\n",
      "[0.51557722 0.38248269 0.24630621 0.38085473 0.23082175 0.16373014\n",
      " 0.46850565 0.35675781 0.29948106 0.54771786 0.45889467 0.4311545\n",
      " 0.53868013 0.33714335 0.28080817 0.48487961 0.42039465 0.26232281\n",
      " 0.43968194 0.28832202] 0.3767258483234898\n"
     ]
    },
    {
     "name": "stderr",
     "output_type": "stream",
     "text": [
      "/mnt/c/Users/Nikita/Desktop/codes/ML/IRTT_reactor/core_uniniformity/main/pdc_handlers/pdc_refueler.py:453: FutureWarning: Series.__getitem__ treating keys as positions is deprecated. In a future version, integer keys will always be treated as labels (consistent with DataFrame behavior). To access a value by position, use `ser.iloc[pos]`\n",
      "  * df_axial_shapes.iloc[ind][itr]\n",
      "/mnt/c/Users/Nikita/Desktop/codes/ML/IRTT_reactor/core_uniniformity/main/pdc_handlers/pdc_refueler.py:462: FutureWarning: Series.__getitem__ treating keys as positions is deprecated. In a future version, integer keys will always be treated as labels (consistent with DataFrame behavior). To access a value by position, use `ser.iloc[pos]`\n",
      "  densities[nucl] = df_nuclides.iloc[ind][nucl] / df_axial_shapes.iloc[ind][itr]\n"
     ]
    },
    {
     "name": "stdout",
     "output_type": "stream",
     "text": [
      "[['51.56', '38.25', '24.63', '38.09'], ['23.08', '16.37', '46.85', '35.68'], ['29.95', 'Be', 'Be', '54.77'], ['45.89', 'Be', 'Be', '43.12'], ['53.87', '33.71', '28.08', '48.49'], ['42.04', '26.23', '43.97', '28.83']]\n",
      "[0.65310945 0.28953119 0.3207458  0.38602474 0.33330405 0.31746175\n",
      " 0.31825802 0.26347884 0.46405372 0.33463054 0.2301052  0.13279404\n",
      " 0.31825802 0.25327766 0.20196733 0.36225403 0.56404005 0.28110351\n",
      " 0.213425   0.67625649] 0.3457039711667674\n"
     ]
    },
    {
     "name": "stderr",
     "output_type": "stream",
     "text": [
      "/mnt/c/Users/Nikita/Desktop/codes/ML/IRTT_reactor/core_uniniformity/main/pdc_handlers/pdc_refueler.py:453: FutureWarning: Series.__getitem__ treating keys as positions is deprecated. In a future version, integer keys will always be treated as labels (consistent with DataFrame behavior). To access a value by position, use `ser.iloc[pos]`\n",
      "  * df_axial_shapes.iloc[ind][itr]\n",
      "/mnt/c/Users/Nikita/Desktop/codes/ML/IRTT_reactor/core_uniniformity/main/pdc_handlers/pdc_refueler.py:462: FutureWarning: Series.__getitem__ treating keys as positions is deprecated. In a future version, integer keys will always be treated as labels (consistent with DataFrame behavior). To access a value by position, use `ser.iloc[pos]`\n",
      "  densities[nucl] = df_nuclides.iloc[ind][nucl] / df_axial_shapes.iloc[ind][itr]\n"
     ]
    },
    {
     "name": "stdout",
     "output_type": "stream",
     "text": [
      "[['65.31', '28.95', '32.07', '38.60'], ['33.33', '31.75', '31.83', '26.35'], ['46.41', 'Be', 'Be', '33.46'], ['23.01', 'Be', 'Be', '13.28'], ['31.83', '25.33', '20.20', '36.23'], ['56.40', '28.11', '21.34', '67.63']]\n",
      "[0.4932675  0.23595629 0.52286892 0.55173816 0.21787533 0.21709806\n",
      " 0.33724115 0.49577771 0.39114787 0.22469215 0.53530985 0.35423304\n",
      " 0.40656828 0.25895844 0.30091954 0.23844598 0.34021455 0.25247407\n",
      " 0.15872722 0.22396229] 0.33787382056485205\n"
     ]
    },
    {
     "name": "stderr",
     "output_type": "stream",
     "text": [
      "/mnt/c/Users/Nikita/Desktop/codes/ML/IRTT_reactor/core_uniniformity/main/pdc_handlers/pdc_refueler.py:453: FutureWarning: Series.__getitem__ treating keys as positions is deprecated. In a future version, integer keys will always be treated as labels (consistent with DataFrame behavior). To access a value by position, use `ser.iloc[pos]`\n",
      "  * df_axial_shapes.iloc[ind][itr]\n",
      "/mnt/c/Users/Nikita/Desktop/codes/ML/IRTT_reactor/core_uniniformity/main/pdc_handlers/pdc_refueler.py:462: FutureWarning: Series.__getitem__ treating keys as positions is deprecated. In a future version, integer keys will always be treated as labels (consistent with DataFrame behavior). To access a value by position, use `ser.iloc[pos]`\n",
      "  densities[nucl] = df_nuclides.iloc[ind][nucl] / df_axial_shapes.iloc[ind][itr]\n"
     ]
    },
    {
     "name": "stdout",
     "output_type": "stream",
     "text": [
      "[['49.33', '23.60', '52.29', '55.17'], ['21.79', '21.71', '33.72', '49.58'], ['39.11', 'Be', 'Be', '22.47'], ['53.53', 'Be', 'Be', '35.42'], ['40.66', '25.90', '30.09', '23.84'], ['34.02', '25.25', '15.87', '22.40']]\n",
      "[0.42279645 0.23979643 0.23461213 0.28438838 0.45007943 0.10666053\n",
      " 0.72292929 0.21016841 0.33115075 0.44527302 0.14287773 0.2321754\n",
      " 0.25956217 0.42244007 0.49397963 0.33876726 0.39941312 0.3530024\n",
      " 0.35471988 0.58387873] 0.35143356066744935\n"
     ]
    },
    {
     "name": "stderr",
     "output_type": "stream",
     "text": [
      "/mnt/c/Users/Nikita/Desktop/codes/ML/IRTT_reactor/core_uniniformity/main/pdc_handlers/pdc_refueler.py:453: FutureWarning: Series.__getitem__ treating keys as positions is deprecated. In a future version, integer keys will always be treated as labels (consistent with DataFrame behavior). To access a value by position, use `ser.iloc[pos]`\n",
      "  * df_axial_shapes.iloc[ind][itr]\n",
      "/mnt/c/Users/Nikita/Desktop/codes/ML/IRTT_reactor/core_uniniformity/main/pdc_handlers/pdc_refueler.py:462: FutureWarning: Series.__getitem__ treating keys as positions is deprecated. In a future version, integer keys will always be treated as labels (consistent with DataFrame behavior). To access a value by position, use `ser.iloc[pos]`\n",
      "  densities[nucl] = df_nuclides.iloc[ind][nucl] / df_axial_shapes.iloc[ind][itr]\n"
     ]
    },
    {
     "name": "stdout",
     "output_type": "stream",
     "text": [
      "[['42.28', '23.98', '23.46', '28.44'], ['45.01', '10.67', '72.29', '21.02'], ['33.12', 'Be', 'Be', '44.53'], ['14.29', 'Be', 'Be', '23.22'], ['25.96', '42.24', '49.40', '33.88'], ['39.94', '35.30', '35.47', '58.39']]\n",
      "[0.58945374 0.34772112 0.09905269 0.37334694 0.55609087 0.3724169\n",
      " 0.20570894 0.26801142 0.4103224  0.36322676 0.1592957  0.48987496\n",
      " 0.47143298 0.26266334 0.28831901 0.12759475 0.51069436 0.28612917\n",
      " 0.53143268 0.51260744] 0.36126980899375216\n"
     ]
    },
    {
     "name": "stderr",
     "output_type": "stream",
     "text": [
      "/mnt/c/Users/Nikita/Desktop/codes/ML/IRTT_reactor/core_uniniformity/main/pdc_handlers/pdc_refueler.py:453: FutureWarning: Series.__getitem__ treating keys as positions is deprecated. In a future version, integer keys will always be treated as labels (consistent with DataFrame behavior). To access a value by position, use `ser.iloc[pos]`\n",
      "  * df_axial_shapes.iloc[ind][itr]\n",
      "/mnt/c/Users/Nikita/Desktop/codes/ML/IRTT_reactor/core_uniniformity/main/pdc_handlers/pdc_refueler.py:462: FutureWarning: Series.__getitem__ treating keys as positions is deprecated. In a future version, integer keys will always be treated as labels (consistent with DataFrame behavior). To access a value by position, use `ser.iloc[pos]`\n",
      "  densities[nucl] = df_nuclides.iloc[ind][nucl] / df_axial_shapes.iloc[ind][itr]\n"
     ]
    },
    {
     "name": "stdout",
     "output_type": "stream",
     "text": [
      "[['58.95', '34.77', '9.91', '37.33'], ['55.61', '37.24', '20.57', '26.80'], ['41.03', 'Be', 'Be', '36.32'], ['15.93', 'Be', 'Be', '48.99'], ['47.14', '26.27', '28.83', '12.76'], ['51.07', '28.61', '53.14', '51.26']]\n",
      "[0.58425101 0.40555482 0.15718673 0.62142601 0.43418852 0.49974931\n",
      " 0.30894417 0.37202167 0.42734389 0.44970018 0.48390287 0.3443607\n",
      " 0.5721728  0.44964319 0.31062647 0.42870661 0.25427591 0.37763495\n",
      " 0.22633349 0.39415507] 0.40510891827777434\n"
     ]
    },
    {
     "name": "stderr",
     "output_type": "stream",
     "text": [
      "/mnt/c/Users/Nikita/Desktop/codes/ML/IRTT_reactor/core_uniniformity/main/pdc_handlers/pdc_refueler.py:453: FutureWarning: Series.__getitem__ treating keys as positions is deprecated. In a future version, integer keys will always be treated as labels (consistent with DataFrame behavior). To access a value by position, use `ser.iloc[pos]`\n",
      "  * df_axial_shapes.iloc[ind][itr]\n",
      "/mnt/c/Users/Nikita/Desktop/codes/ML/IRTT_reactor/core_uniniformity/main/pdc_handlers/pdc_refueler.py:462: FutureWarning: Series.__getitem__ treating keys as positions is deprecated. In a future version, integer keys will always be treated as labels (consistent with DataFrame behavior). To access a value by position, use `ser.iloc[pos]`\n",
      "  densities[nucl] = df_nuclides.iloc[ind][nucl] / df_axial_shapes.iloc[ind][itr]\n"
     ]
    },
    {
     "name": "stdout",
     "output_type": "stream",
     "text": [
      "[['58.43', '40.56', '15.72', '62.14'], ['43.42', '49.97', '30.89', '37.20'], ['42.73', 'Be', 'Be', '44.97'], ['48.39', 'Be', 'Be', '34.44'], ['57.22', '44.96', '31.06', '42.87'], ['25.43', '37.76', '22.63', '39.42']]\n",
      "[0.41121335 0.43071101 0.34694299 0.29391755 0.31697465 0.32039012\n",
      " 0.23626602 0.26275316 0.31220821 0.46259817 0.5824887  0.16168019\n",
      " 0.24717493 0.54542959 0.54718886 0.3466107  0.27690658 0.3349684\n",
      " 0.07029627 0.47571022] 0.3491214832202871\n"
     ]
    },
    {
     "name": "stderr",
     "output_type": "stream",
     "text": [
      "/mnt/c/Users/Nikita/Desktop/codes/ML/IRTT_reactor/core_uniniformity/main/pdc_handlers/pdc_refueler.py:453: FutureWarning: Series.__getitem__ treating keys as positions is deprecated. In a future version, integer keys will always be treated as labels (consistent with DataFrame behavior). To access a value by position, use `ser.iloc[pos]`\n",
      "  * df_axial_shapes.iloc[ind][itr]\n",
      "/mnt/c/Users/Nikita/Desktop/codes/ML/IRTT_reactor/core_uniniformity/main/pdc_handlers/pdc_refueler.py:462: FutureWarning: Series.__getitem__ treating keys as positions is deprecated. In a future version, integer keys will always be treated as labels (consistent with DataFrame behavior). To access a value by position, use `ser.iloc[pos]`\n",
      "  densities[nucl] = df_nuclides.iloc[ind][nucl] / df_axial_shapes.iloc[ind][itr]\n"
     ]
    },
    {
     "name": "stdout",
     "output_type": "stream",
     "text": [
      "[['41.12', '43.07', '34.69', '29.39'], ['31.70', '32.04', '23.63', '26.28'], ['31.22', 'Be', 'Be', '46.26'], ['58.25', 'Be', 'Be', '16.17'], ['24.72', '54.54', '54.72', '34.66'], ['27.69', '33.50', '7.03', '47.57']]\n",
      "[0.39762993 0.37871495 0.57386354 0.29894674 0.34297824 0.32481816\n",
      " 0.49635667 0.30879388 0.37958289 0.22051816 0.56591596 0.28431549\n",
      " 0.28563449 0.52740772 0.31105963 0.23919559 0.33480076 0.20237845\n",
      " 0.53685231 0.23206831] 0.3620915943849884\n"
     ]
    },
    {
     "name": "stderr",
     "output_type": "stream",
     "text": [
      "/mnt/c/Users/Nikita/Desktop/codes/ML/IRTT_reactor/core_uniniformity/main/pdc_handlers/pdc_refueler.py:453: FutureWarning: Series.__getitem__ treating keys as positions is deprecated. In a future version, integer keys will always be treated as labels (consistent with DataFrame behavior). To access a value by position, use `ser.iloc[pos]`\n",
      "  * df_axial_shapes.iloc[ind][itr]\n",
      "/mnt/c/Users/Nikita/Desktop/codes/ML/IRTT_reactor/core_uniniformity/main/pdc_handlers/pdc_refueler.py:462: FutureWarning: Series.__getitem__ treating keys as positions is deprecated. In a future version, integer keys will always be treated as labels (consistent with DataFrame behavior). To access a value by position, use `ser.iloc[pos]`\n",
      "  densities[nucl] = df_nuclides.iloc[ind][nucl] / df_axial_shapes.iloc[ind][itr]\n"
     ]
    },
    {
     "name": "stdout",
     "output_type": "stream",
     "text": [
      "[['39.76', '37.87', '57.39', '29.89'], ['34.30', '32.48', '49.64', '30.88'], ['37.96', 'Be', 'Be', '22.05'], ['56.59', 'Be', 'Be', '28.43'], ['28.56', '52.74', '31.11', '23.92'], ['33.48', '20.24', '53.69', '23.21']]\n",
      "[0.26605403 0.49457417 0.38074652 0.42569821 0.47669098 0.34830167\n",
      " 0.45525534 0.45496035 0.53150556 0.37578133 0.34735453 0.46488637\n",
      " 0.07554278 0.42928247 0.10041753 0.46996646 0.32425248 0.31862549\n",
      " 0.48643828 0.40596999] 0.38161522644136625\n"
     ]
    },
    {
     "name": "stderr",
     "output_type": "stream",
     "text": [
      "/mnt/c/Users/Nikita/Desktop/codes/ML/IRTT_reactor/core_uniniformity/main/pdc_handlers/pdc_refueler.py:453: FutureWarning: Series.__getitem__ treating keys as positions is deprecated. In a future version, integer keys will always be treated as labels (consistent with DataFrame behavior). To access a value by position, use `ser.iloc[pos]`\n",
      "  * df_axial_shapes.iloc[ind][itr]\n",
      "/mnt/c/Users/Nikita/Desktop/codes/ML/IRTT_reactor/core_uniniformity/main/pdc_handlers/pdc_refueler.py:462: FutureWarning: Series.__getitem__ treating keys as positions is deprecated. In a future version, integer keys will always be treated as labels (consistent with DataFrame behavior). To access a value by position, use `ser.iloc[pos]`\n",
      "  densities[nucl] = df_nuclides.iloc[ind][nucl] / df_axial_shapes.iloc[ind][itr]\n"
     ]
    },
    {
     "name": "stdout",
     "output_type": "stream",
     "text": [
      "[['26.61', '49.46', '38.07', '42.57'], ['47.67', '34.83', '45.53', '45.50'], ['53.15', 'Be', 'Be', '37.58'], ['34.74', 'Be', 'Be', '46.49'], ['7.55', '42.93', '10.04', '47.00'], ['32.43', '31.86', '48.64', '40.60']]\n",
      "[0.31909708 0.44063094 0.27889412 0.36701345 0.43387069 0.44063094\n",
      " 0.22280345 0.30966125 0.34597668 0.23044686 0.48088459 0.53241499\n",
      " 0.2816807  0.60643383 0.416513   0.42406153 0.31316913 0.40178035\n",
      " 0.40305657 0.28907192] 0.3769046038188359\n"
     ]
    },
    {
     "name": "stderr",
     "output_type": "stream",
     "text": [
      "/mnt/c/Users/Nikita/Desktop/codes/ML/IRTT_reactor/core_uniniformity/main/pdc_handlers/pdc_refueler.py:453: FutureWarning: Series.__getitem__ treating keys as positions is deprecated. In a future version, integer keys will always be treated as labels (consistent with DataFrame behavior). To access a value by position, use `ser.iloc[pos]`\n",
      "  * df_axial_shapes.iloc[ind][itr]\n",
      "/mnt/c/Users/Nikita/Desktop/codes/ML/IRTT_reactor/core_uniniformity/main/pdc_handlers/pdc_refueler.py:462: FutureWarning: Series.__getitem__ treating keys as positions is deprecated. In a future version, integer keys will always be treated as labels (consistent with DataFrame behavior). To access a value by position, use `ser.iloc[pos]`\n",
      "  densities[nucl] = df_nuclides.iloc[ind][nucl] / df_axial_shapes.iloc[ind][itr]\n"
     ]
    },
    {
     "name": "stdout",
     "output_type": "stream",
     "text": [
      "[['31.91', '44.06', '27.89', '36.70'], ['43.39', '44.06', '22.28', '30.97'], ['34.60', 'Be', 'Be', '23.04'], ['48.09', 'Be', 'Be', '53.24'], ['28.17', '60.64', '41.65', '42.41'], ['31.32', '40.18', '40.31', '28.91']]\n",
      "[0.38233741 0.48427665 0.32185013 0.44477015 0.35961826 0.27486375\n",
      " 0.33586976 0.16783512 0.42559653 0.23243998 0.30096348 0.51109467\n",
      " 0.36482318 0.42834942 0.38491748 0.242823   0.31944    0.49655395\n",
      " 0.34437489 0.38793087] 0.36053643442551225\n"
     ]
    },
    {
     "name": "stderr",
     "output_type": "stream",
     "text": [
      "/mnt/c/Users/Nikita/Desktop/codes/ML/IRTT_reactor/core_uniniformity/main/pdc_handlers/pdc_refueler.py:453: FutureWarning: Series.__getitem__ treating keys as positions is deprecated. In a future version, integer keys will always be treated as labels (consistent with DataFrame behavior). To access a value by position, use `ser.iloc[pos]`\n",
      "  * df_axial_shapes.iloc[ind][itr]\n",
      "/mnt/c/Users/Nikita/Desktop/codes/ML/IRTT_reactor/core_uniniformity/main/pdc_handlers/pdc_refueler.py:462: FutureWarning: Series.__getitem__ treating keys as positions is deprecated. In a future version, integer keys will always be treated as labels (consistent with DataFrame behavior). To access a value by position, use `ser.iloc[pos]`\n",
      "  densities[nucl] = df_nuclides.iloc[ind][nucl] / df_axial_shapes.iloc[ind][itr]\n"
     ]
    },
    {
     "name": "stdout",
     "output_type": "stream",
     "text": [
      "[['38.23', '48.43', '32.19', '44.48'], ['35.96', '27.49', '33.59', '16.78'], ['42.56', 'Be', 'Be', '23.24'], ['30.10', 'Be', 'Be', '51.11'], ['36.48', '42.83', '38.49', '24.28'], ['31.94', '49.66', '34.44', '38.79']]\n",
      "[0.31664508 0.29911501 0.37281222 0.59068025 0.22423172 0.59068025\n",
      " 0.48595356 0.31108914 0.30549228 0.17684169 0.40449033 0.42591189\n",
      " 0.39989791 0.54596499 0.26491038 0.31983606 0.39978674 0.26281806\n",
      " 0.27068291 0.27088014] 0.36193603051071127\n"
     ]
    },
    {
     "name": "stderr",
     "output_type": "stream",
     "text": [
      "/mnt/c/Users/Nikita/Desktop/codes/ML/IRTT_reactor/core_uniniformity/main/pdc_handlers/pdc_refueler.py:453: FutureWarning: Series.__getitem__ treating keys as positions is deprecated. In a future version, integer keys will always be treated as labels (consistent with DataFrame behavior). To access a value by position, use `ser.iloc[pos]`\n",
      "  * df_axial_shapes.iloc[ind][itr]\n",
      "/mnt/c/Users/Nikita/Desktop/codes/ML/IRTT_reactor/core_uniniformity/main/pdc_handlers/pdc_refueler.py:462: FutureWarning: Series.__getitem__ treating keys as positions is deprecated. In a future version, integer keys will always be treated as labels (consistent with DataFrame behavior). To access a value by position, use `ser.iloc[pos]`\n",
      "  densities[nucl] = df_nuclides.iloc[ind][nucl] / df_axial_shapes.iloc[ind][itr]\n"
     ]
    },
    {
     "name": "stdout",
     "output_type": "stream",
     "text": [
      "[['31.66', '29.91', '37.28', '59.07'], ['22.42', '59.07', '48.60', '31.11'], ['30.55', 'Be', 'Be', '17.68'], ['40.45', 'Be', 'Be', '42.59'], ['39.99', '54.60', '26.49', '31.98'], ['39.98', '26.28', '27.07', '27.09']]\n",
      "[0.24018111 0.42832592 0.44397209 0.40446058 0.2045813  0.34131839\n",
      " 0.33467996 0.17266116 0.20222448 0.4390628  0.33212242 0.50586364\n",
      " 0.41155001 0.46276003 0.38157768 0.33422966 0.25397789 0.54822734\n",
      " 0.50218021 0.54166672] 0.3742811700571925\n"
     ]
    },
    {
     "name": "stderr",
     "output_type": "stream",
     "text": [
      "/mnt/c/Users/Nikita/Desktop/codes/ML/IRTT_reactor/core_uniniformity/main/pdc_handlers/pdc_refueler.py:453: FutureWarning: Series.__getitem__ treating keys as positions is deprecated. In a future version, integer keys will always be treated as labels (consistent with DataFrame behavior). To access a value by position, use `ser.iloc[pos]`\n",
      "  * df_axial_shapes.iloc[ind][itr]\n",
      "/mnt/c/Users/Nikita/Desktop/codes/ML/IRTT_reactor/core_uniniformity/main/pdc_handlers/pdc_refueler.py:462: FutureWarning: Series.__getitem__ treating keys as positions is deprecated. In a future version, integer keys will always be treated as labels (consistent with DataFrame behavior). To access a value by position, use `ser.iloc[pos]`\n",
      "  densities[nucl] = df_nuclides.iloc[ind][nucl] / df_axial_shapes.iloc[ind][itr]\n"
     ]
    },
    {
     "name": "stdout",
     "output_type": "stream",
     "text": [
      "[['24.02', '42.83', '44.40', '40.45'], ['20.46', '34.13', '33.47', '17.27'], ['20.22', 'Be', 'Be', '43.91'], ['33.21', 'Be', 'Be', '50.59'], ['41.16', '46.28', '38.16', '33.42'], ['25.40', '54.82', '50.22', '54.17']]\n",
      "[0.49663056 0.32001588 0.38844096 0.20389385 0.41998825 0.2608169\n",
      " 0.25635273 0.29885651 0.25455429 0.65732453 0.24749477 0.40946264\n",
      " 0.40137278 0.2612183  0.50277837 0.40716172 0.24745971 0.29712824\n",
      " 0.40575575 0.42559032] 0.3581148535941617\n"
     ]
    },
    {
     "name": "stderr",
     "output_type": "stream",
     "text": [
      "/mnt/c/Users/Nikita/Desktop/codes/ML/IRTT_reactor/core_uniniformity/main/pdc_handlers/pdc_refueler.py:453: FutureWarning: Series.__getitem__ treating keys as positions is deprecated. In a future version, integer keys will always be treated as labels (consistent with DataFrame behavior). To access a value by position, use `ser.iloc[pos]`\n",
      "  * df_axial_shapes.iloc[ind][itr]\n",
      "/mnt/c/Users/Nikita/Desktop/codes/ML/IRTT_reactor/core_uniniformity/main/pdc_handlers/pdc_refueler.py:462: FutureWarning: Series.__getitem__ treating keys as positions is deprecated. In a future version, integer keys will always be treated as labels (consistent with DataFrame behavior). To access a value by position, use `ser.iloc[pos]`\n",
      "  densities[nucl] = df_nuclides.iloc[ind][nucl] / df_axial_shapes.iloc[ind][itr]\n"
     ]
    },
    {
     "name": "stdout",
     "output_type": "stream",
     "text": [
      "[['49.66', '32.00', '38.84', '20.39'], ['42.00', '26.08', '25.64', '29.89'], ['25.46', 'Be', 'Be', '65.73'], ['24.75', 'Be', 'Be', '40.95'], ['40.14', '26.12', '50.28', '40.72'], ['24.75', '29.71', '40.58', '42.56']]\n",
      "[0.31552    0.4733091  0.18474244 0.44127365 0.47489711 0.204282\n",
      " 0.28096498 0.28838347 0.37567861 0.22202464 0.10739818 0.30459395\n",
      " 0.62428754 0.33450323 0.41537948 0.21078518 0.42229275 0.56448552\n",
      " 0.33450323 0.45609318] 0.35176991130233926\n"
     ]
    },
    {
     "name": "stderr",
     "output_type": "stream",
     "text": [
      "/mnt/c/Users/Nikita/Desktop/codes/ML/IRTT_reactor/core_uniniformity/main/pdc_handlers/pdc_refueler.py:453: FutureWarning: Series.__getitem__ treating keys as positions is deprecated. In a future version, integer keys will always be treated as labels (consistent with DataFrame behavior). To access a value by position, use `ser.iloc[pos]`\n",
      "  * df_axial_shapes.iloc[ind][itr]\n",
      "/mnt/c/Users/Nikita/Desktop/codes/ML/IRTT_reactor/core_uniniformity/main/pdc_handlers/pdc_refueler.py:462: FutureWarning: Series.__getitem__ treating keys as positions is deprecated. In a future version, integer keys will always be treated as labels (consistent with DataFrame behavior). To access a value by position, use `ser.iloc[pos]`\n",
      "  densities[nucl] = df_nuclides.iloc[ind][nucl] / df_axial_shapes.iloc[ind][itr]\n"
     ]
    },
    {
     "name": "stdout",
     "output_type": "stream",
     "text": [
      "[['31.55', '47.33', '18.47', '44.13'], ['47.49', '20.43', '28.10', '28.84'], ['37.57', 'Be', 'Be', '22.20'], ['10.74', 'Be', 'Be', '30.46'], ['62.43', '33.45', '41.54', '21.08'], ['42.23', '56.45', '33.45', '45.61']]\n",
      "[ 0.18707214  0.27141456  0.30094578  0.37083414  0.11581582  0.3059191\n",
      "  0.55760886  0.59021827  0.22607486  0.27081075  0.36092176  0.46671871\n",
      "  0.36420091 -0.0221402   0.07180718  0.51478912  0.31719478  0.40412794\n",
      "  0.33133619  0.32027225] 0.31629714685392823\n"
     ]
    },
    {
     "name": "stderr",
     "output_type": "stream",
     "text": [
      "/mnt/c/Users/Nikita/Desktop/codes/ML/IRTT_reactor/core_uniniformity/main/pdc_handlers/pdc_refueler.py:453: FutureWarning: Series.__getitem__ treating keys as positions is deprecated. In a future version, integer keys will always be treated as labels (consistent with DataFrame behavior). To access a value by position, use `ser.iloc[pos]`\n",
      "  * df_axial_shapes.iloc[ind][itr]\n",
      "/mnt/c/Users/Nikita/Desktop/codes/ML/IRTT_reactor/core_uniniformity/main/pdc_handlers/pdc_refueler.py:462: FutureWarning: Series.__getitem__ treating keys as positions is deprecated. In a future version, integer keys will always be treated as labels (consistent with DataFrame behavior). To access a value by position, use `ser.iloc[pos]`\n",
      "  densities[nucl] = df_nuclides.iloc[ind][nucl] / df_axial_shapes.iloc[ind][itr]\n"
     ]
    },
    {
     "name": "stdout",
     "output_type": "stream",
     "text": [
      "[['18.71', '27.14', '30.09', '37.08'], ['11.58', '30.59', '55.76', '59.02'], ['22.61', 'Be', 'Be', '27.08'], ['36.09', 'Be', 'Be', '46.67'], ['36.42', '2.21', '7.18', '51.48'], ['31.72', '40.41', '33.13', '32.03']]\n",
      "[0.34351324 0.30862409 0.23684338 0.54879771 0.45721229 0.73005566\n",
      " 0.30415957 0.55583191 0.30159407 0.24269482 0.49189657 0.50154861\n",
      " 0.34714021 0.27456692 0.23435817 0.26284221 0.22978763 0.15439242\n",
      " 0.22524585 0.14581347] 0.34484593904250715\n"
     ]
    },
    {
     "name": "stderr",
     "output_type": "stream",
     "text": [
      "/mnt/c/Users/Nikita/Desktop/codes/ML/IRTT_reactor/core_uniniformity/main/pdc_handlers/pdc_refueler.py:453: FutureWarning: Series.__getitem__ treating keys as positions is deprecated. In a future version, integer keys will always be treated as labels (consistent with DataFrame behavior). To access a value by position, use `ser.iloc[pos]`\n",
      "  * df_axial_shapes.iloc[ind][itr]\n",
      "/mnt/c/Users/Nikita/Desktop/codes/ML/IRTT_reactor/core_uniniformity/main/pdc_handlers/pdc_refueler.py:462: FutureWarning: Series.__getitem__ treating keys as positions is deprecated. In a future version, integer keys will always be treated as labels (consistent with DataFrame behavior). To access a value by position, use `ser.iloc[pos]`\n",
      "  densities[nucl] = df_nuclides.iloc[ind][nucl] / df_axial_shapes.iloc[ind][itr]\n"
     ]
    },
    {
     "name": "stdout",
     "output_type": "stream",
     "text": [
      "[['34.35', '30.86', '23.68', '54.88'], ['45.72', '73.01', '30.42', '55.58'], ['30.16', 'Be', 'Be', '24.27'], ['49.19', 'Be', 'Be', '50.15'], ['34.71', '27.46', '23.44', '26.28'], ['22.98', '15.44', '22.52', '14.58']]\n",
      "[0.38702632 0.39530144 0.29472337 0.4026031  0.30800267 0.4004497\n",
      " 0.24959573 0.29162657 0.44212631 0.28155437 0.29046225 0.29700608\n",
      " 0.27686065 0.40511321 0.59318237 0.57797374 0.25424404 0.43897101\n",
      " 0.20265772 0.32954378] 0.355951221573974\n"
     ]
    },
    {
     "name": "stderr",
     "output_type": "stream",
     "text": [
      "/mnt/c/Users/Nikita/Desktop/codes/ML/IRTT_reactor/core_uniniformity/main/pdc_handlers/pdc_refueler.py:453: FutureWarning: Series.__getitem__ treating keys as positions is deprecated. In a future version, integer keys will always be treated as labels (consistent with DataFrame behavior). To access a value by position, use `ser.iloc[pos]`\n",
      "  * df_axial_shapes.iloc[ind][itr]\n",
      "/mnt/c/Users/Nikita/Desktop/codes/ML/IRTT_reactor/core_uniniformity/main/pdc_handlers/pdc_refueler.py:462: FutureWarning: Series.__getitem__ treating keys as positions is deprecated. In a future version, integer keys will always be treated as labels (consistent with DataFrame behavior). To access a value by position, use `ser.iloc[pos]`\n",
      "  densities[nucl] = df_nuclides.iloc[ind][nucl] / df_axial_shapes.iloc[ind][itr]\n"
     ]
    },
    {
     "name": "stdout",
     "output_type": "stream",
     "text": [
      "[['38.70', '39.53', '29.47', '40.26'], ['30.80', '40.04', '24.96', '29.16'], ['44.21', 'Be', 'Be', '28.16'], ['29.05', 'Be', 'Be', '29.70'], ['27.69', '40.51', '59.32', '57.80'], ['25.42', '43.90', '20.27', '32.95']]\n",
      "[0.40141909 0.3091797  0.52624721 0.53048309 0.44607677 0.38298875\n",
      " 0.26515816 0.24821713 0.33089978 0.24801044 0.00075771 0.44842373\n",
      " 0.65743192 0.30577566 0.46556694 0.2509116  0.51774999 0.30059508\n",
      " 0.27634257 0.20649761] 0.35593664709572637\n"
     ]
    },
    {
     "name": "stderr",
     "output_type": "stream",
     "text": [
      "/mnt/c/Users/Nikita/Desktop/codes/ML/IRTT_reactor/core_uniniformity/main/pdc_handlers/pdc_refueler.py:453: FutureWarning: Series.__getitem__ treating keys as positions is deprecated. In a future version, integer keys will always be treated as labels (consistent with DataFrame behavior). To access a value by position, use `ser.iloc[pos]`\n",
      "  * df_axial_shapes.iloc[ind][itr]\n",
      "/mnt/c/Users/Nikita/Desktop/codes/ML/IRTT_reactor/core_uniniformity/main/pdc_handlers/pdc_refueler.py:462: FutureWarning: Series.__getitem__ treating keys as positions is deprecated. In a future version, integer keys will always be treated as labels (consistent with DataFrame behavior). To access a value by position, use `ser.iloc[pos]`\n",
      "  densities[nucl] = df_nuclides.iloc[ind][nucl] / df_axial_shapes.iloc[ind][itr]\n"
     ]
    },
    {
     "name": "stdout",
     "output_type": "stream",
     "text": [
      "[['40.14', '30.92', '52.62', '53.05'], ['44.61', '38.30', '26.52', '24.82'], ['33.09', 'Be', 'Be', '24.80'], ['0.08', 'Be', 'Be', '44.84'], ['65.74', '30.58', '46.56', '25.09'], ['51.77', '30.06', '27.63', '20.65']]\n",
      "[0.37451761 0.50107614 0.23235693 0.31083496 0.26678799 0.31939641\n",
      " 0.42875269 0.1595425  0.49878521 0.48131783 0.41169595 0.247846\n",
      " 0.37155014 0.27648564 0.43410937 0.33745411 0.10946472 0.46690433\n",
      " 0.46263439 0.26269114] 0.3477102029778897\n"
     ]
    },
    {
     "name": "stderr",
     "output_type": "stream",
     "text": [
      "/mnt/c/Users/Nikita/Desktop/codes/ML/IRTT_reactor/core_uniniformity/main/pdc_handlers/pdc_refueler.py:453: FutureWarning: Series.__getitem__ treating keys as positions is deprecated. In a future version, integer keys will always be treated as labels (consistent with DataFrame behavior). To access a value by position, use `ser.iloc[pos]`\n",
      "  * df_axial_shapes.iloc[ind][itr]\n",
      "/mnt/c/Users/Nikita/Desktop/codes/ML/IRTT_reactor/core_uniniformity/main/pdc_handlers/pdc_refueler.py:462: FutureWarning: Series.__getitem__ treating keys as positions is deprecated. In a future version, integer keys will always be treated as labels (consistent with DataFrame behavior). To access a value by position, use `ser.iloc[pos]`\n",
      "  densities[nucl] = df_nuclides.iloc[ind][nucl] / df_axial_shapes.iloc[ind][itr]\n"
     ]
    },
    {
     "name": "stdout",
     "output_type": "stream",
     "text": [
      "[['37.45', '50.11', '23.24', '31.08'], ['26.68', '31.94', '42.88', '15.95'], ['49.88', 'Be', 'Be', '48.13'], ['41.17', 'Be', 'Be', '24.78'], ['37.16', '27.65', '43.41', '33.75'], ['10.95', '46.69', '46.26', '26.27']]\n",
      "[0.49650268 0.25952537 0.35371236 0.61585484 0.33211196 0.42285494\n",
      " 0.22200354 0.28689161 0.3172128  0.37992138 0.34930261 0.29628616\n",
      " 0.3859125  0.25766994 0.12137359 0.24922712 0.27982232 0.40275068\n",
      " 0.49145436 0.45723263] 0.3488811698781904\n"
     ]
    },
    {
     "name": "stderr",
     "output_type": "stream",
     "text": [
      "/mnt/c/Users/Nikita/Desktop/codes/ML/IRTT_reactor/core_uniniformity/main/pdc_handlers/pdc_refueler.py:453: FutureWarning: Series.__getitem__ treating keys as positions is deprecated. In a future version, integer keys will always be treated as labels (consistent with DataFrame behavior). To access a value by position, use `ser.iloc[pos]`\n",
      "  * df_axial_shapes.iloc[ind][itr]\n",
      "/mnt/c/Users/Nikita/Desktop/codes/ML/IRTT_reactor/core_uniniformity/main/pdc_handlers/pdc_refueler.py:462: FutureWarning: Series.__getitem__ treating keys as positions is deprecated. In a future version, integer keys will always be treated as labels (consistent with DataFrame behavior). To access a value by position, use `ser.iloc[pos]`\n",
      "  densities[nucl] = df_nuclides.iloc[ind][nucl] / df_axial_shapes.iloc[ind][itr]\n"
     ]
    },
    {
     "name": "stdout",
     "output_type": "stream",
     "text": [
      "[['49.65', '25.95', '35.37', '61.59'], ['33.21', '42.29', '22.20', '28.69'], ['31.72', 'Be', 'Be', '37.99'], ['34.93', 'Be', 'Be', '29.63'], ['38.59', '25.77', '12.14', '24.92'], ['27.98', '40.28', '49.15', '45.72']]\n",
      "[0.28833249 0.64725334 0.15996847 0.21548392 0.35030971 0.25105981\n",
      " 0.38760139 0.35827335 0.27955845 0.21873263 0.28675035 0.3317093\n",
      " 0.14307872 0.59900297 0.35402797 0.29701381 0.23544882 0.3027918\n",
      " 0.16038332 0.32390268] 0.30953416471932194\n"
     ]
    },
    {
     "name": "stderr",
     "output_type": "stream",
     "text": [
      "/mnt/c/Users/Nikita/Desktop/codes/ML/IRTT_reactor/core_uniniformity/main/pdc_handlers/pdc_refueler.py:453: FutureWarning: Series.__getitem__ treating keys as positions is deprecated. In a future version, integer keys will always be treated as labels (consistent with DataFrame behavior). To access a value by position, use `ser.iloc[pos]`\n",
      "  * df_axial_shapes.iloc[ind][itr]\n",
      "/mnt/c/Users/Nikita/Desktop/codes/ML/IRTT_reactor/core_uniniformity/main/pdc_handlers/pdc_refueler.py:462: FutureWarning: Series.__getitem__ treating keys as positions is deprecated. In a future version, integer keys will always be treated as labels (consistent with DataFrame behavior). To access a value by position, use `ser.iloc[pos]`\n",
      "  densities[nucl] = df_nuclides.iloc[ind][nucl] / df_axial_shapes.iloc[ind][itr]\n"
     ]
    },
    {
     "name": "stdout",
     "output_type": "stream",
     "text": [
      "[['28.83', '64.73', '16.00', '21.55'], ['35.03', '25.11', '38.76', '35.83'], ['27.96', 'Be', 'Be', '21.87'], ['28.68', 'Be', 'Be', '33.17'], ['14.31', '59.90', '35.40', '29.70'], ['23.54', '30.28', '16.04', '32.39']]\n",
      "[0.73793746 0.30629739 0.45950091 0.56707597 0.50402288 0.36688335\n",
      " 0.40539155 0.28246031 0.38064917 0.41524597 0.23939566 0.17785877\n",
      " 0.40168172 0.45950091 0.29664684 0.35588658 0.39999555 0.35290076\n",
      " 0.30922016 0.44296484] 0.39307583840524474\n"
     ]
    },
    {
     "name": "stderr",
     "output_type": "stream",
     "text": [
      "/mnt/c/Users/Nikita/Desktop/codes/ML/IRTT_reactor/core_uniniformity/main/pdc_handlers/pdc_refueler.py:453: FutureWarning: Series.__getitem__ treating keys as positions is deprecated. In a future version, integer keys will always be treated as labels (consistent with DataFrame behavior). To access a value by position, use `ser.iloc[pos]`\n",
      "  * df_axial_shapes.iloc[ind][itr]\n",
      "/mnt/c/Users/Nikita/Desktop/codes/ML/IRTT_reactor/core_uniniformity/main/pdc_handlers/pdc_refueler.py:462: FutureWarning: Series.__getitem__ treating keys as positions is deprecated. In a future version, integer keys will always be treated as labels (consistent with DataFrame behavior). To access a value by position, use `ser.iloc[pos]`\n",
      "  densities[nucl] = df_nuclides.iloc[ind][nucl] / df_axial_shapes.iloc[ind][itr]\n"
     ]
    },
    {
     "name": "stdout",
     "output_type": "stream",
     "text": [
      "[['73.79', '30.63', '45.95', '56.71'], ['50.40', '36.69', '40.54', '28.25'], ['38.06', 'Be', 'Be', '41.52'], ['23.94', 'Be', 'Be', '17.79'], ['40.17', '45.95', '29.66', '35.59'], ['40.00', '35.29', '30.92', '44.30']]\n",
      "[0.50339033 0.2454577  0.38837902 0.30262899 0.13475761 0.46018135\n",
      " 0.4996253  0.18580747 0.12246001 0.36480035 0.33770137 0.37612271\n",
      " 0.38360171 0.39536178 0.22309796 0.36214399 0.42731498 0.36034268\n",
      " 0.23324349 0.32800989] 0.33172143503135665\n"
     ]
    },
    {
     "name": "stderr",
     "output_type": "stream",
     "text": [
      "/mnt/c/Users/Nikita/Desktop/codes/ML/IRTT_reactor/core_uniniformity/main/pdc_handlers/pdc_refueler.py:453: FutureWarning: Series.__getitem__ treating keys as positions is deprecated. In a future version, integer keys will always be treated as labels (consistent with DataFrame behavior). To access a value by position, use `ser.iloc[pos]`\n",
      "  * df_axial_shapes.iloc[ind][itr]\n",
      "/mnt/c/Users/Nikita/Desktop/codes/ML/IRTT_reactor/core_uniniformity/main/pdc_handlers/pdc_refueler.py:462: FutureWarning: Series.__getitem__ treating keys as positions is deprecated. In a future version, integer keys will always be treated as labels (consistent with DataFrame behavior). To access a value by position, use `ser.iloc[pos]`\n",
      "  densities[nucl] = df_nuclides.iloc[ind][nucl] / df_axial_shapes.iloc[ind][itr]\n"
     ]
    },
    {
     "name": "stdout",
     "output_type": "stream",
     "text": [
      "[['50.34', '24.55', '38.84', '30.26'], ['13.48', '46.02', '49.96', '18.58'], ['12.25', 'Be', 'Be', '36.48'], ['33.77', 'Be', 'Be', '37.61'], ['38.36', '39.54', '22.31', '36.21'], ['42.73', '36.03', '23.32', '32.80']]\n",
      "[0.45433379 0.2084719  0.48958028 0.47849358 0.36688834 0.23129443\n",
      " 0.51298494 0.25603904 0.40430448 0.3581836  0.48548822 0.30087943\n",
      " 0.32459487 0.32820384 0.48299495 0.34264098 0.42404635 0.31101157\n",
      " 0.40646266 0.4262913 ] 0.3796594282721777\n"
     ]
    },
    {
     "name": "stderr",
     "output_type": "stream",
     "text": [
      "/mnt/c/Users/Nikita/Desktop/codes/ML/IRTT_reactor/core_uniniformity/main/pdc_handlers/pdc_refueler.py:453: FutureWarning: Series.__getitem__ treating keys as positions is deprecated. In a future version, integer keys will always be treated as labels (consistent with DataFrame behavior). To access a value by position, use `ser.iloc[pos]`\n",
      "  * df_axial_shapes.iloc[ind][itr]\n",
      "/mnt/c/Users/Nikita/Desktop/codes/ML/IRTT_reactor/core_uniniformity/main/pdc_handlers/pdc_refueler.py:462: FutureWarning: Series.__getitem__ treating keys as positions is deprecated. In a future version, integer keys will always be treated as labels (consistent with DataFrame behavior). To access a value by position, use `ser.iloc[pos]`\n",
      "  densities[nucl] = df_nuclides.iloc[ind][nucl] / df_axial_shapes.iloc[ind][itr]\n"
     ]
    },
    {
     "name": "stdout",
     "output_type": "stream",
     "text": [
      "[['45.43', '20.85', '48.96', '47.85'], ['36.69', '23.13', '51.30', '25.60'], ['40.43', 'Be', 'Be', '35.82'], ['48.55', 'Be', 'Be', '30.09'], ['32.46', '32.82', '48.30', '34.26'], ['42.40', '31.10', '40.65', '42.63']]\n",
      "[0.26257054 0.39941209 0.18362515 0.19896716 0.51391643 0.07580116\n",
      " 0.17299708 0.38174537 0.19673485 0.45267047 0.36515188 0.51391643\n",
      " 0.39374573 0.40715521 0.19063021 0.24575001 0.21908333 0.17299708\n",
      " 0.21977755 0.19795419] 0.28823009657755716\n"
     ]
    },
    {
     "name": "stderr",
     "output_type": "stream",
     "text": [
      "/mnt/c/Users/Nikita/Desktop/codes/ML/IRTT_reactor/core_uniniformity/main/pdc_handlers/pdc_refueler.py:453: FutureWarning: Series.__getitem__ treating keys as positions is deprecated. In a future version, integer keys will always be treated as labels (consistent with DataFrame behavior). To access a value by position, use `ser.iloc[pos]`\n",
      "  * df_axial_shapes.iloc[ind][itr]\n",
      "/mnt/c/Users/Nikita/Desktop/codes/ML/IRTT_reactor/core_uniniformity/main/pdc_handlers/pdc_refueler.py:462: FutureWarning: Series.__getitem__ treating keys as positions is deprecated. In a future version, integer keys will always be treated as labels (consistent with DataFrame behavior). To access a value by position, use `ser.iloc[pos]`\n",
      "  densities[nucl] = df_nuclides.iloc[ind][nucl] / df_axial_shapes.iloc[ind][itr]\n"
     ]
    },
    {
     "name": "stdout",
     "output_type": "stream",
     "text": [
      "[['26.26', '39.94', '18.36', '19.90'], ['51.39', '7.58', '17.30', '38.17'], ['19.67', 'Be', 'Be', '45.27'], ['36.52', 'Be', 'Be', '51.39'], ['39.37', '40.72', '19.06', '24.58'], ['21.91', '17.30', '21.98', '19.80']]\n",
      "[0.08471807 0.41820155 0.42573413 0.51133645 0.31622466 0.24509024\n",
      " 0.35244458 0.16670047 0.55124452 0.49002448 0.40783349 0.39183259\n",
      " 0.63413751 0.35653601 0.11877177 0.25518807 0.44302447 0.38284366\n",
      " 0.3815988  0.33890137] 0.36361934437480464\n"
     ]
    },
    {
     "name": "stderr",
     "output_type": "stream",
     "text": [
      "/mnt/c/Users/Nikita/Desktop/codes/ML/IRTT_reactor/core_uniniformity/main/pdc_handlers/pdc_refueler.py:453: FutureWarning: Series.__getitem__ treating keys as positions is deprecated. In a future version, integer keys will always be treated as labels (consistent with DataFrame behavior). To access a value by position, use `ser.iloc[pos]`\n",
      "  * df_axial_shapes.iloc[ind][itr]\n",
      "/mnt/c/Users/Nikita/Desktop/codes/ML/IRTT_reactor/core_uniniformity/main/pdc_handlers/pdc_refueler.py:462: FutureWarning: Series.__getitem__ treating keys as positions is deprecated. In a future version, integer keys will always be treated as labels (consistent with DataFrame behavior). To access a value by position, use `ser.iloc[pos]`\n",
      "  densities[nucl] = df_nuclides.iloc[ind][nucl] / df_axial_shapes.iloc[ind][itr]\n"
     ]
    },
    {
     "name": "stdout",
     "output_type": "stream",
     "text": [
      "[['8.47', '41.82', '42.57', '51.13'], ['31.62', '24.51', '35.24', '16.67'], ['55.12', 'Be', 'Be', '49.00'], ['40.78', 'Be', 'Be', '39.18'], ['63.41', '35.65', '11.88', '25.52'], ['44.30', '38.28', '38.16', '33.89']]\n",
      "[0.24906196 0.34724747 0.41713978 0.3962055  0.49274145 0.16158349\n",
      " 0.46443385 0.34724747 0.49802548 0.1587745  0.29120332 0.55828306\n",
      " 0.44538349 0.30711146 0.1710027  0.49078335 0.34954896 0.51935463\n",
      " 0.2363435  0.39940645] 0.365044093674155\n"
     ]
    },
    {
     "name": "stderr",
     "output_type": "stream",
     "text": [
      "/mnt/c/Users/Nikita/Desktop/codes/ML/IRTT_reactor/core_uniniformity/main/pdc_handlers/pdc_refueler.py:453: FutureWarning: Series.__getitem__ treating keys as positions is deprecated. In a future version, integer keys will always be treated as labels (consistent with DataFrame behavior). To access a value by position, use `ser.iloc[pos]`\n",
      "  * df_axial_shapes.iloc[ind][itr]\n",
      "/mnt/c/Users/Nikita/Desktop/codes/ML/IRTT_reactor/core_uniniformity/main/pdc_handlers/pdc_refueler.py:462: FutureWarning: Series.__getitem__ treating keys as positions is deprecated. In a future version, integer keys will always be treated as labels (consistent with DataFrame behavior). To access a value by position, use `ser.iloc[pos]`\n",
      "  densities[nucl] = df_nuclides.iloc[ind][nucl] / df_axial_shapes.iloc[ind][itr]\n"
     ]
    },
    {
     "name": "stdout",
     "output_type": "stream",
     "text": [
      "[['24.91', '34.72', '41.71', '39.62'], ['49.27', '16.16', '46.44', '34.72'], ['49.80', 'Be', 'Be', '15.88'], ['29.12', 'Be', 'Be', '55.83'], ['44.54', '30.71', '17.10', '49.08'], ['34.95', '51.94', '23.63', '39.94']]\n",
      "[0.07849235 0.23996732 0.31272265 0.37928976 0.28448161 0.52408519\n",
      " 0.51678985 0.51678985 0.33570204 0.12411403 0.41608716 0.52768733\n",
      " 0.35296962 0.25670012 0.27881453 0.45939062 0.06456334 0.35736515\n",
      " 0.29161633 0.4415904 ] 0.3379609617717552\n"
     ]
    },
    {
     "name": "stderr",
     "output_type": "stream",
     "text": [
      "/mnt/c/Users/Nikita/Desktop/codes/ML/IRTT_reactor/core_uniniformity/main/pdc_handlers/pdc_refueler.py:453: FutureWarning: Series.__getitem__ treating keys as positions is deprecated. In a future version, integer keys will always be treated as labels (consistent with DataFrame behavior). To access a value by position, use `ser.iloc[pos]`\n",
      "  * df_axial_shapes.iloc[ind][itr]\n",
      "/mnt/c/Users/Nikita/Desktop/codes/ML/IRTT_reactor/core_uniniformity/main/pdc_handlers/pdc_refueler.py:462: FutureWarning: Series.__getitem__ treating keys as positions is deprecated. In a future version, integer keys will always be treated as labels (consistent with DataFrame behavior). To access a value by position, use `ser.iloc[pos]`\n",
      "  densities[nucl] = df_nuclides.iloc[ind][nucl] / df_axial_shapes.iloc[ind][itr]\n"
     ]
    },
    {
     "name": "stdout",
     "output_type": "stream",
     "text": [
      "[['7.85', '24.00', '31.27', '37.93'], ['28.45', '52.41', '51.68', '51.68'], ['33.57', 'Be', 'Be', '12.41'], ['41.61', 'Be', 'Be', '52.77'], ['35.30', '25.67', '27.88', '45.94'], ['6.46', '35.74', '29.16', '44.16']]\n",
      "[0.2856668  0.29208395 0.4897021  0.4259299  0.18651703 0.25087013\n",
      " 0.27943207 0.36329707 0.07870193 0.15233097 0.30092124 0.33209441\n",
      " 0.45218692 0.26343176 0.32996798 0.32996798 0.26853133 0.3524382\n",
      " 0.50785    0.44731416] 0.31946179675244896\n"
     ]
    },
    {
     "name": "stderr",
     "output_type": "stream",
     "text": [
      "/mnt/c/Users/Nikita/Desktop/codes/ML/IRTT_reactor/core_uniniformity/main/pdc_handlers/pdc_refueler.py:453: FutureWarning: Series.__getitem__ treating keys as positions is deprecated. In a future version, integer keys will always be treated as labels (consistent with DataFrame behavior). To access a value by position, use `ser.iloc[pos]`\n",
      "  * df_axial_shapes.iloc[ind][itr]\n",
      "/mnt/c/Users/Nikita/Desktop/codes/ML/IRTT_reactor/core_uniniformity/main/pdc_handlers/pdc_refueler.py:462: FutureWarning: Series.__getitem__ treating keys as positions is deprecated. In a future version, integer keys will always be treated as labels (consistent with DataFrame behavior). To access a value by position, use `ser.iloc[pos]`\n",
      "  densities[nucl] = df_nuclides.iloc[ind][nucl] / df_axial_shapes.iloc[ind][itr]\n"
     ]
    },
    {
     "name": "stdout",
     "output_type": "stream",
     "text": [
      "[['28.57', '29.21', '48.97', '42.59'], ['18.65', '25.09', '27.94', '36.33'], ['7.87', 'Be', 'Be', '15.23'], ['30.09', 'Be', 'Be', '33.21'], ['45.22', '26.34', '33.00', '33.00'], ['26.85', '35.24', '50.79', '44.73']]\n",
      "[0.33113068 0.13058341 0.21993126 0.54243312 0.40857939 0.16643577\n",
      " 0.51357641 0.34490977 0.17878748 0.06094111 0.34010998 0.39694591\n",
      " 0.51610276 0.25963015 0.3964881  0.48468048 0.43630442 0.25814258\n",
      " 0.46990699 0.44817907] 0.34518994073264675\n"
     ]
    },
    {
     "name": "stderr",
     "output_type": "stream",
     "text": [
      "/mnt/c/Users/Nikita/Desktop/codes/ML/IRTT_reactor/core_uniniformity/main/pdc_handlers/pdc_refueler.py:453: FutureWarning: Series.__getitem__ treating keys as positions is deprecated. In a future version, integer keys will always be treated as labels (consistent with DataFrame behavior). To access a value by position, use `ser.iloc[pos]`\n",
      "  * df_axial_shapes.iloc[ind][itr]\n",
      "/mnt/c/Users/Nikita/Desktop/codes/ML/IRTT_reactor/core_uniniformity/main/pdc_handlers/pdc_refueler.py:462: FutureWarning: Series.__getitem__ treating keys as positions is deprecated. In a future version, integer keys will always be treated as labels (consistent with DataFrame behavior). To access a value by position, use `ser.iloc[pos]`\n",
      "  densities[nucl] = df_nuclides.iloc[ind][nucl] / df_axial_shapes.iloc[ind][itr]\n"
     ]
    },
    {
     "name": "stdout",
     "output_type": "stream",
     "text": [
      "[['33.11', '13.06', '21.99', '54.24'], ['40.86', '16.64', '51.36', '34.49'], ['17.88', 'Be', 'Be', '6.09'], ['34.01', 'Be', 'Be', '39.69'], ['51.61', '25.96', '39.65', '48.47'], ['43.63', '25.81', '46.99', '44.82']]\n",
      "[0.43769252 0.2384269  0.50940072 0.40476033 0.4103277  0.24670058\n",
      " 0.55891575 0.39458489 0.31842285 0.33476375 0.43769252 0.54981042\n",
      " 0.2856952  0.28475763 0.30030775 0.39380742 0.24191615 0.26106892\n",
      " 0.36113696 0.30107223] 0.36356305984059184\n"
     ]
    },
    {
     "name": "stderr",
     "output_type": "stream",
     "text": [
      "/mnt/c/Users/Nikita/Desktop/codes/ML/IRTT_reactor/core_uniniformity/main/pdc_handlers/pdc_refueler.py:453: FutureWarning: Series.__getitem__ treating keys as positions is deprecated. In a future version, integer keys will always be treated as labels (consistent with DataFrame behavior). To access a value by position, use `ser.iloc[pos]`\n",
      "  * df_axial_shapes.iloc[ind][itr]\n",
      "/mnt/c/Users/Nikita/Desktop/codes/ML/IRTT_reactor/core_uniniformity/main/pdc_handlers/pdc_refueler.py:462: FutureWarning: Series.__getitem__ treating keys as positions is deprecated. In a future version, integer keys will always be treated as labels (consistent with DataFrame behavior). To access a value by position, use `ser.iloc[pos]`\n",
      "  densities[nucl] = df_nuclides.iloc[ind][nucl] / df_axial_shapes.iloc[ind][itr]\n"
     ]
    },
    {
     "name": "stdout",
     "output_type": "stream",
     "text": [
      "[['43.77', '23.84', '50.94', '40.48'], ['41.03', '24.67', '55.89', '39.46'], ['31.84', 'Be', 'Be', '33.48'], ['43.77', 'Be', 'Be', '54.98'], ['28.57', '28.48', '30.03', '39.38'], ['24.19', '26.11', '36.11', '30.11']]\n",
      "[0.14587758 0.35272462 0.37542325 0.07880618 0.38259911 0.38907512\n",
      " 0.12285333 0.37594187 0.24289188 0.3517249  0.18824861 0.23341544\n",
      " 0.29575025 0.32483466 0.27308943 0.28620701 0.43201538 0.20821393\n",
      " 0.42981717 0.41227912] 0.2950894418588751\n"
     ]
    },
    {
     "name": "stderr",
     "output_type": "stream",
     "text": [
      "/mnt/c/Users/Nikita/Desktop/codes/ML/IRTT_reactor/core_uniniformity/main/pdc_handlers/pdc_refueler.py:453: FutureWarning: Series.__getitem__ treating keys as positions is deprecated. In a future version, integer keys will always be treated as labels (consistent with DataFrame behavior). To access a value by position, use `ser.iloc[pos]`\n",
      "  * df_axial_shapes.iloc[ind][itr]\n",
      "/mnt/c/Users/Nikita/Desktop/codes/ML/IRTT_reactor/core_uniniformity/main/pdc_handlers/pdc_refueler.py:462: FutureWarning: Series.__getitem__ treating keys as positions is deprecated. In a future version, integer keys will always be treated as labels (consistent with DataFrame behavior). To access a value by position, use `ser.iloc[pos]`\n",
      "  densities[nucl] = df_nuclides.iloc[ind][nucl] / df_axial_shapes.iloc[ind][itr]\n"
     ]
    },
    {
     "name": "stdout",
     "output_type": "stream",
     "text": [
      "[['14.59', '35.27', '37.54', '7.88'], ['38.26', '38.91', '12.29', '37.59'], ['24.29', 'Be', 'Be', '35.17'], ['18.82', 'Be', 'Be', '23.34'], ['29.58', '32.48', '27.31', '28.62'], ['43.20', '20.82', '42.98', '41.23']]\n",
      "[0.4607524  0.37812767 0.35501393 0.27611518 0.1608876  0.45635468\n",
      " 0.31896963 0.28711297 0.572381   0.45904313 0.15776961 0.292076\n",
      " 0.14936351 0.53822736 0.26110327 0.36042035 0.47970947 0.54027287\n",
      " 0.67968992 0.01612178] 0.35997561673824174\n"
     ]
    },
    {
     "name": "stderr",
     "output_type": "stream",
     "text": [
      "/mnt/c/Users/Nikita/Desktop/codes/ML/IRTT_reactor/core_uniniformity/main/pdc_handlers/pdc_refueler.py:453: FutureWarning: Series.__getitem__ treating keys as positions is deprecated. In a future version, integer keys will always be treated as labels (consistent with DataFrame behavior). To access a value by position, use `ser.iloc[pos]`\n",
      "  * df_axial_shapes.iloc[ind][itr]\n",
      "/mnt/c/Users/Nikita/Desktop/codes/ML/IRTT_reactor/core_uniniformity/main/pdc_handlers/pdc_refueler.py:462: FutureWarning: Series.__getitem__ treating keys as positions is deprecated. In a future version, integer keys will always be treated as labels (consistent with DataFrame behavior). To access a value by position, use `ser.iloc[pos]`\n",
      "  densities[nucl] = df_nuclides.iloc[ind][nucl] / df_axial_shapes.iloc[ind][itr]\n"
     ]
    },
    {
     "name": "stdout",
     "output_type": "stream",
     "text": [
      "[['46.08', '37.81', '35.50', '27.61'], ['16.09', '45.64', '31.90', '28.71'], ['57.24', 'Be', 'Be', '45.90'], ['15.78', 'Be', 'Be', '29.21'], ['14.94', '53.82', '26.11', '36.04'], ['47.97', '54.03', '67.97', '1.61']]\n",
      "[0.38359501 0.35525175 0.10011182 0.37786332 0.21346633 0.35015211\n",
      " 0.54681653 0.55128405 0.27565649 0.41644168 0.38359501 0.21743537\n",
      " 0.22502516 0.38641011 0.29674861 0.5298789  0.44033427 0.28825151\n",
      " 0.61568585 0.26254088] 0.3608272390866384\n"
     ]
    },
    {
     "name": "stderr",
     "output_type": "stream",
     "text": [
      "/mnt/c/Users/Nikita/Desktop/codes/ML/IRTT_reactor/core_uniniformity/main/pdc_handlers/pdc_refueler.py:453: FutureWarning: Series.__getitem__ treating keys as positions is deprecated. In a future version, integer keys will always be treated as labels (consistent with DataFrame behavior). To access a value by position, use `ser.iloc[pos]`\n",
      "  * df_axial_shapes.iloc[ind][itr]\n",
      "/mnt/c/Users/Nikita/Desktop/codes/ML/IRTT_reactor/core_uniniformity/main/pdc_handlers/pdc_refueler.py:462: FutureWarning: Series.__getitem__ treating keys as positions is deprecated. In a future version, integer keys will always be treated as labels (consistent with DataFrame behavior). To access a value by position, use `ser.iloc[pos]`\n",
      "  densities[nucl] = df_nuclides.iloc[ind][nucl] / df_axial_shapes.iloc[ind][itr]\n"
     ]
    },
    {
     "name": "stdout",
     "output_type": "stream",
     "text": [
      "[['38.36', '35.53', '10.01', '37.79'], ['21.35', '35.02', '54.68', '55.13'], ['27.57', 'Be', 'Be', '41.64'], ['38.36', 'Be', 'Be', '21.74'], ['22.50', '38.64', '29.67', '52.99'], ['44.03', '28.83', '61.57', '26.25']]\n",
      "[0.28169082 0.28739651 0.32491088 0.26552854 0.42055752 0.2262046\n",
      " 0.35150192 0.32302943 0.30271594 0.30041536 0.41299288 0.33295693\n",
      " 0.6028761  0.56863292 0.07854445 0.66115003 0.42167502 0.25660712\n",
      " 0.52994277 0.21991685] 0.35846232961731517\n"
     ]
    },
    {
     "name": "stderr",
     "output_type": "stream",
     "text": [
      "/mnt/c/Users/Nikita/Desktop/codes/ML/IRTT_reactor/core_uniniformity/main/pdc_handlers/pdc_refueler.py:453: FutureWarning: Series.__getitem__ treating keys as positions is deprecated. In a future version, integer keys will always be treated as labels (consistent with DataFrame behavior). To access a value by position, use `ser.iloc[pos]`\n",
      "  * df_axial_shapes.iloc[ind][itr]\n",
      "/mnt/c/Users/Nikita/Desktop/codes/ML/IRTT_reactor/core_uniniformity/main/pdc_handlers/pdc_refueler.py:462: FutureWarning: Series.__getitem__ treating keys as positions is deprecated. In a future version, integer keys will always be treated as labels (consistent with DataFrame behavior). To access a value by position, use `ser.iloc[pos]`\n",
      "  densities[nucl] = df_nuclides.iloc[ind][nucl] / df_axial_shapes.iloc[ind][itr]\n"
     ]
    },
    {
     "name": "stdout",
     "output_type": "stream",
     "text": [
      "[['28.17', '28.74', '32.49', '26.55'], ['42.06', '22.62', '35.15', '32.30'], ['30.27', 'Be', 'Be', '30.04'], ['41.30', 'Be', 'Be', '33.30'], ['60.29', '56.86', '7.85', '66.12'], ['42.17', '25.66', '52.99', '21.99']]\n",
      "[0.38195894 0.0891156  0.39727212 0.37782762 0.19459999 0.39727212\n",
      " 0.37557819 0.3606466  0.50259776 0.32381981 0.14321449 0.26098695\n",
      " 0.27079659 0.32247253 0.45217422 0.46322946 0.26587246 0.34671422\n",
      " 0.29223721 0.463297  ] 0.3340841944948227\n"
     ]
    },
    {
     "name": "stderr",
     "output_type": "stream",
     "text": [
      "/mnt/c/Users/Nikita/Desktop/codes/ML/IRTT_reactor/core_uniniformity/main/pdc_handlers/pdc_refueler.py:453: FutureWarning: Series.__getitem__ treating keys as positions is deprecated. In a future version, integer keys will always be treated as labels (consistent with DataFrame behavior). To access a value by position, use `ser.iloc[pos]`\n",
      "  * df_axial_shapes.iloc[ind][itr]\n",
      "/mnt/c/Users/Nikita/Desktop/codes/ML/IRTT_reactor/core_uniniformity/main/pdc_handlers/pdc_refueler.py:462: FutureWarning: Series.__getitem__ treating keys as positions is deprecated. In a future version, integer keys will always be treated as labels (consistent with DataFrame behavior). To access a value by position, use `ser.iloc[pos]`\n",
      "  densities[nucl] = df_nuclides.iloc[ind][nucl] / df_axial_shapes.iloc[ind][itr]\n"
     ]
    },
    {
     "name": "stdout",
     "output_type": "stream",
     "text": [
      "[['38.20', '8.91', '39.73', '37.78'], ['19.46', '39.73', '37.56', '36.06'], ['50.26', 'Be', 'Be', '32.38'], ['14.32', 'Be', 'Be', '26.10'], ['27.08', '32.25', '45.22', '46.32'], ['26.59', '34.67', '29.22', '46.33']]\n",
      "[0.60843671 0.29073543 0.45640475 0.41582694 0.35497199 0.36917694\n",
      " 0.40587076 0.18994247 0.34980287 0.6034553  0.36925967 0.26016629\n",
      " 0.28336152 0.41023863 0.43062126 0.46280288 0.40227149 0.22229336\n",
      " 0.29264353 0.40317072] 0.3790726741616179\n"
     ]
    },
    {
     "name": "stderr",
     "output_type": "stream",
     "text": [
      "/mnt/c/Users/Nikita/Desktop/codes/ML/IRTT_reactor/core_uniniformity/main/pdc_handlers/pdc_refueler.py:453: FutureWarning: Series.__getitem__ treating keys as positions is deprecated. In a future version, integer keys will always be treated as labels (consistent with DataFrame behavior). To access a value by position, use `ser.iloc[pos]`\n",
      "  * df_axial_shapes.iloc[ind][itr]\n",
      "/mnt/c/Users/Nikita/Desktop/codes/ML/IRTT_reactor/core_uniniformity/main/pdc_handlers/pdc_refueler.py:462: FutureWarning: Series.__getitem__ treating keys as positions is deprecated. In a future version, integer keys will always be treated as labels (consistent with DataFrame behavior). To access a value by position, use `ser.iloc[pos]`\n",
      "  densities[nucl] = df_nuclides.iloc[ind][nucl] / df_axial_shapes.iloc[ind][itr]\n"
     ]
    },
    {
     "name": "stdout",
     "output_type": "stream",
     "text": [
      "[['60.84', '29.07', '45.64', '41.58'], ['35.50', '36.92', '40.59', '18.99'], ['34.98', 'Be', 'Be', '60.35'], ['36.93', 'Be', 'Be', '26.02'], ['28.34', '41.02', '43.06', '46.28'], ['40.23', '22.23', '29.26', '40.32']]\n",
      "[0.46358315 0.30701305 0.34384752 0.27307562 0.22836318 0.57156523\n",
      " 0.35227842 0.46647396 0.2197645  0.4531088  0.35337493 0.29604643\n",
      " 0.29548738 0.41317383 0.37977009 0.34849802 0.35127982 0.37768312\n",
      " 0.28036099 0.27307562] 0.35239118392960916\n"
     ]
    },
    {
     "name": "stderr",
     "output_type": "stream",
     "text": [
      "/mnt/c/Users/Nikita/Desktop/codes/ML/IRTT_reactor/core_uniniformity/main/pdc_handlers/pdc_refueler.py:453: FutureWarning: Series.__getitem__ treating keys as positions is deprecated. In a future version, integer keys will always be treated as labels (consistent with DataFrame behavior). To access a value by position, use `ser.iloc[pos]`\n",
      "  * df_axial_shapes.iloc[ind][itr]\n",
      "/mnt/c/Users/Nikita/Desktop/codes/ML/IRTT_reactor/core_uniniformity/main/pdc_handlers/pdc_refueler.py:462: FutureWarning: Series.__getitem__ treating keys as positions is deprecated. In a future version, integer keys will always be treated as labels (consistent with DataFrame behavior). To access a value by position, use `ser.iloc[pos]`\n",
      "  densities[nucl] = df_nuclides.iloc[ind][nucl] / df_axial_shapes.iloc[ind][itr]\n"
     ]
    },
    {
     "name": "stdout",
     "output_type": "stream",
     "text": [
      "[['46.36', '30.70', '34.38', '27.31'], ['22.84', '57.16', '35.23', '46.65'], ['21.98', 'Be', 'Be', '45.31'], ['35.34', 'Be', 'Be', '29.60'], ['29.55', '41.32', '37.98', '34.85'], ['35.13', '37.77', '28.04', '27.31']]\n",
      "[0.18381531 0.38826999 0.25008307 0.27302878 0.08000294 0.06301535\n",
      " 0.10252052 0.44578117 0.30281561 0.31121041 0.52526294 0.55000683\n",
      " 0.55591019 0.36531882 0.46325931 0.48363869 0.22553103 0.25668783\n",
      " 0.46451775 0.08859729] 0.318963691279186\n"
     ]
    },
    {
     "name": "stderr",
     "output_type": "stream",
     "text": [
      "/mnt/c/Users/Nikita/Desktop/codes/ML/IRTT_reactor/core_uniniformity/main/pdc_handlers/pdc_refueler.py:453: FutureWarning: Series.__getitem__ treating keys as positions is deprecated. In a future version, integer keys will always be treated as labels (consistent with DataFrame behavior). To access a value by position, use `ser.iloc[pos]`\n",
      "  * df_axial_shapes.iloc[ind][itr]\n",
      "/mnt/c/Users/Nikita/Desktop/codes/ML/IRTT_reactor/core_uniniformity/main/pdc_handlers/pdc_refueler.py:462: FutureWarning: Series.__getitem__ treating keys as positions is deprecated. In a future version, integer keys will always be treated as labels (consistent with DataFrame behavior). To access a value by position, use `ser.iloc[pos]`\n",
      "  densities[nucl] = df_nuclides.iloc[ind][nucl] / df_axial_shapes.iloc[ind][itr]\n"
     ]
    },
    {
     "name": "stdout",
     "output_type": "stream",
     "text": [
      "[['18.38', '38.83', '25.01', '27.30'], ['8.00', '6.30', '10.25', '44.58'], ['30.28', 'Be', 'Be', '31.12'], ['52.53', 'Be', 'Be', '55.00'], ['55.59', '36.53', '46.33', '48.36'], ['22.55', '25.67', '46.45', '8.86']]\n",
      "[0.14889525 0.0937862  0.19521895 0.27867552 0.23890649 0.537447\n",
      " 0.29655626 0.2164417  0.1437876  0.0937862  0.28660715 0.28252588\n",
      " 0.19598098 0.30854519 0.21553772 0.26584563 0.41978448 0.22889133\n",
      " 0.45232195 0.36220518] 0.2630873338382574\n"
     ]
    },
    {
     "name": "stderr",
     "output_type": "stream",
     "text": [
      "/mnt/c/Users/Nikita/Desktop/codes/ML/IRTT_reactor/core_uniniformity/main/pdc_handlers/pdc_refueler.py:453: FutureWarning: Series.__getitem__ treating keys as positions is deprecated. In a future version, integer keys will always be treated as labels (consistent with DataFrame behavior). To access a value by position, use `ser.iloc[pos]`\n",
      "  * df_axial_shapes.iloc[ind][itr]\n",
      "/mnt/c/Users/Nikita/Desktop/codes/ML/IRTT_reactor/core_uniniformity/main/pdc_handlers/pdc_refueler.py:462: FutureWarning: Series.__getitem__ treating keys as positions is deprecated. In a future version, integer keys will always be treated as labels (consistent with DataFrame behavior). To access a value by position, use `ser.iloc[pos]`\n",
      "  densities[nucl] = df_nuclides.iloc[ind][nucl] / df_axial_shapes.iloc[ind][itr]\n"
     ]
    },
    {
     "name": "stdout",
     "output_type": "stream",
     "text": [
      "[['14.89', '9.38', '19.52', '27.87'], ['23.89', '53.74', '29.66', '21.64'], ['14.38', 'Be', 'Be', '9.38'], ['28.66', 'Be', 'Be', '28.25'], ['19.60', '30.85', '21.55', '26.58'], ['41.98', '22.89', '45.23', '36.22']]\n",
      "[0.42968205 0.40855879 0.25730419 0.41226948 0.09230776 0.32848704\n",
      " 0.20063905 0.15987635 0.20177463 0.24921178 0.32922154 0.4523642\n",
      " 0.34507095 0.49260495 0.56260879 0.5214739  0.3232968  0.30855362\n",
      " 0.45943921 0.24768043] 0.3391212748999798\n"
     ]
    },
    {
     "name": "stderr",
     "output_type": "stream",
     "text": [
      "/mnt/c/Users/Nikita/Desktop/codes/ML/IRTT_reactor/core_uniniformity/main/pdc_handlers/pdc_refueler.py:453: FutureWarning: Series.__getitem__ treating keys as positions is deprecated. In a future version, integer keys will always be treated as labels (consistent with DataFrame behavior). To access a value by position, use `ser.iloc[pos]`\n",
      "  * df_axial_shapes.iloc[ind][itr]\n",
      "/mnt/c/Users/Nikita/Desktop/codes/ML/IRTT_reactor/core_uniniformity/main/pdc_handlers/pdc_refueler.py:462: FutureWarning: Series.__getitem__ treating keys as positions is deprecated. In a future version, integer keys will always be treated as labels (consistent with DataFrame behavior). To access a value by position, use `ser.iloc[pos]`\n",
      "  densities[nucl] = df_nuclides.iloc[ind][nucl] / df_axial_shapes.iloc[ind][itr]\n"
     ]
    },
    {
     "name": "stdout",
     "output_type": "stream",
     "text": [
      "[['42.97', '40.86', '25.73', '41.23'], ['9.23', '32.85', '20.06', '15.99'], ['20.18', 'Be', 'Be', '24.92'], ['32.92', 'Be', 'Be', '45.24'], ['34.51', '49.26', '56.26', '52.15'], ['32.33', '30.86', '45.94', '24.77']]\n",
      "[0.1228149  0.18264176 0.49955465 0.38463955 0.3472289  0.4162495\n",
      " 0.72028116 0.3964248  0.34171247 0.31450998 0.29420574 0.44888594\n",
      " 0.31093102 0.36371982 0.22143739 0.23913005 0.45313613 0.36215724\n",
      " 0.24780679 0.42043389] 0.35439508365624056\n"
     ]
    },
    {
     "name": "stderr",
     "output_type": "stream",
     "text": [
      "/mnt/c/Users/Nikita/Desktop/codes/ML/IRTT_reactor/core_uniniformity/main/pdc_handlers/pdc_refueler.py:453: FutureWarning: Series.__getitem__ treating keys as positions is deprecated. In a future version, integer keys will always be treated as labels (consistent with DataFrame behavior). To access a value by position, use `ser.iloc[pos]`\n",
      "  * df_axial_shapes.iloc[ind][itr]\n",
      "/mnt/c/Users/Nikita/Desktop/codes/ML/IRTT_reactor/core_uniniformity/main/pdc_handlers/pdc_refueler.py:462: FutureWarning: Series.__getitem__ treating keys as positions is deprecated. In a future version, integer keys will always be treated as labels (consistent with DataFrame behavior). To access a value by position, use `ser.iloc[pos]`\n",
      "  densities[nucl] = df_nuclides.iloc[ind][nucl] / df_axial_shapes.iloc[ind][itr]\n"
     ]
    },
    {
     "name": "stdout",
     "output_type": "stream",
     "text": [
      "[['12.28', '18.26', '49.96', '38.46'], ['34.72', '41.62', '72.03', '39.64'], ['34.17', 'Be', 'Be', '31.45'], ['29.42', 'Be', 'Be', '44.89'], ['31.09', '36.37', '22.14', '23.91'], ['45.31', '36.22', '24.78', '42.04']]\n",
      "[0.44822129 0.27809856 0.3231178  0.30281217 0.32109052 0.48164324\n",
      " 0.37843399 0.34530366 0.41223229 0.45686738 0.38018334 0.49051238\n",
      " 0.40526012 0.15368044 0.41665927 0.38165518 0.20386514 0.39585349\n",
      " 0.37464911 0.26613886] 0.3608139112535687\n"
     ]
    },
    {
     "name": "stderr",
     "output_type": "stream",
     "text": [
      "/mnt/c/Users/Nikita/Desktop/codes/ML/IRTT_reactor/core_uniniformity/main/pdc_handlers/pdc_refueler.py:453: FutureWarning: Series.__getitem__ treating keys as positions is deprecated. In a future version, integer keys will always be treated as labels (consistent with DataFrame behavior). To access a value by position, use `ser.iloc[pos]`\n",
      "  * df_axial_shapes.iloc[ind][itr]\n",
      "/mnt/c/Users/Nikita/Desktop/codes/ML/IRTT_reactor/core_uniniformity/main/pdc_handlers/pdc_refueler.py:462: FutureWarning: Series.__getitem__ treating keys as positions is deprecated. In a future version, integer keys will always be treated as labels (consistent with DataFrame behavior). To access a value by position, use `ser.iloc[pos]`\n",
      "  densities[nucl] = df_nuclides.iloc[ind][nucl] / df_axial_shapes.iloc[ind][itr]\n"
     ]
    },
    {
     "name": "stdout",
     "output_type": "stream",
     "text": [
      "[['44.82', '27.81', '32.31', '30.28'], ['32.11', '48.16', '37.84', '34.53'], ['41.22', 'Be', 'Be', '45.69'], ['38.02', 'Be', 'Be', '49.05'], ['40.53', '15.37', '41.67', '38.17'], ['20.39', '39.59', '37.46', '26.61']]\n",
      "[0.36576187 0.43905014 0.45017295 0.22676249 0.20627953 0.44042661\n",
      " 0.61116271 0.36962621 0.22973252 0.20319231 0.34228863 0.43707165\n",
      " 0.34404365 0.45169806 0.2166813  0.25975795 0.5491479  0.46787021\n",
      " 0.39931064 0.39813849] 0.37040879107363944\n"
     ]
    },
    {
     "name": "stderr",
     "output_type": "stream",
     "text": [
      "/mnt/c/Users/Nikita/Desktop/codes/ML/IRTT_reactor/core_uniniformity/main/pdc_handlers/pdc_refueler.py:453: FutureWarning: Series.__getitem__ treating keys as positions is deprecated. In a future version, integer keys will always be treated as labels (consistent with DataFrame behavior). To access a value by position, use `ser.iloc[pos]`\n",
      "  * df_axial_shapes.iloc[ind][itr]\n",
      "/mnt/c/Users/Nikita/Desktop/codes/ML/IRTT_reactor/core_uniniformity/main/pdc_handlers/pdc_refueler.py:462: FutureWarning: Series.__getitem__ treating keys as positions is deprecated. In a future version, integer keys will always be treated as labels (consistent with DataFrame behavior). To access a value by position, use `ser.iloc[pos]`\n",
      "  densities[nucl] = df_nuclides.iloc[ind][nucl] / df_axial_shapes.iloc[ind][itr]\n"
     ]
    },
    {
     "name": "stdout",
     "output_type": "stream",
     "text": [
      "[['36.58', '43.91', '45.02', '22.68'], ['20.63', '44.04', '61.12', '36.96'], ['22.97', 'Be', 'Be', '20.32'], ['34.23', 'Be', 'Be', '43.71'], ['34.40', '45.17', '21.67', '25.98'], ['54.91', '46.79', '39.93', '39.81']]\n",
      "[0.28603266 0.22148415 0.31592586 0.40744096 0.25443628 0.3825714\n",
      " 0.31432455 0.3504052  0.35423041 0.33604247 0.27097168 0.23445747\n",
      " 0.2423473  0.51313947 0.43267032 0.34836359 0.30390989 0.33093955\n",
      " 0.43366328 0.21308552] 0.32732209970087667\n"
     ]
    },
    {
     "name": "stderr",
     "output_type": "stream",
     "text": [
      "/mnt/c/Users/Nikita/Desktop/codes/ML/IRTT_reactor/core_uniniformity/main/pdc_handlers/pdc_refueler.py:453: FutureWarning: Series.__getitem__ treating keys as positions is deprecated. In a future version, integer keys will always be treated as labels (consistent with DataFrame behavior). To access a value by position, use `ser.iloc[pos]`\n",
      "  * df_axial_shapes.iloc[ind][itr]\n",
      "/mnt/c/Users/Nikita/Desktop/codes/ML/IRTT_reactor/core_uniniformity/main/pdc_handlers/pdc_refueler.py:462: FutureWarning: Series.__getitem__ treating keys as positions is deprecated. In a future version, integer keys will always be treated as labels (consistent with DataFrame behavior). To access a value by position, use `ser.iloc[pos]`\n",
      "  densities[nucl] = df_nuclides.iloc[ind][nucl] / df_axial_shapes.iloc[ind][itr]\n"
     ]
    },
    {
     "name": "stdout",
     "output_type": "stream",
     "text": [
      "[['28.60', '22.15', '31.59', '40.74'], ['25.44', '38.26', '31.43', '35.04'], ['35.42', 'Be', 'Be', '33.60'], ['27.10', 'Be', 'Be', '23.45'], ['24.23', '51.31', '43.27', '34.84'], ['30.39', '33.09', '43.37', '21.31']]\n",
      "[0.38816299 0.39332007 0.44725249 0.22166303 0.23648373 0.43453823\n",
      " 0.336897   0.43046254 0.60443227 0.34191075 0.20159334 0.22132866\n",
      " 0.40150563 0.26582082 0.15680672 0.34191075 0.31280895 0.3612821\n",
      " 0.28447515 0.45107771] 0.3416866453427064\n"
     ]
    },
    {
     "name": "stderr",
     "output_type": "stream",
     "text": [
      "/mnt/c/Users/Nikita/Desktop/codes/ML/IRTT_reactor/core_uniniformity/main/pdc_handlers/pdc_refueler.py:453: FutureWarning: Series.__getitem__ treating keys as positions is deprecated. In a future version, integer keys will always be treated as labels (consistent with DataFrame behavior). To access a value by position, use `ser.iloc[pos]`\n",
      "  * df_axial_shapes.iloc[ind][itr]\n",
      "/mnt/c/Users/Nikita/Desktop/codes/ML/IRTT_reactor/core_uniniformity/main/pdc_handlers/pdc_refueler.py:462: FutureWarning: Series.__getitem__ treating keys as positions is deprecated. In a future version, integer keys will always be treated as labels (consistent with DataFrame behavior). To access a value by position, use `ser.iloc[pos]`\n",
      "  densities[nucl] = df_nuclides.iloc[ind][nucl] / df_axial_shapes.iloc[ind][itr]\n"
     ]
    },
    {
     "name": "stdout",
     "output_type": "stream",
     "text": [
      "[['38.82', '39.33', '44.73', '22.17'], ['23.65', '43.45', '33.69', '43.05'], ['60.44', 'Be', 'Be', '34.19'], ['20.16', 'Be', 'Be', '22.13'], ['40.15', '26.58', '15.68', '34.19'], ['31.28', '36.13', '28.45', '45.11']]\n",
      "[0.28871503 0.57293516 0.29570544 0.43898445 0.37617134 0.4956639\n",
      " 0.26463367 0.28072948 0.41549645 0.59867297 0.31850317 0.14870882\n",
      " 0.31850317 0.20324958 0.59365518 0.44892296 0.20417249 0.09470156\n",
      " 0.45039169 0.17572583] 0.3492121173400972\n"
     ]
    },
    {
     "name": "stderr",
     "output_type": "stream",
     "text": [
      "/mnt/c/Users/Nikita/Desktop/codes/ML/IRTT_reactor/core_uniniformity/main/pdc_handlers/pdc_refueler.py:453: FutureWarning: Series.__getitem__ treating keys as positions is deprecated. In a future version, integer keys will always be treated as labels (consistent with DataFrame behavior). To access a value by position, use `ser.iloc[pos]`\n",
      "  * df_axial_shapes.iloc[ind][itr]\n",
      "/mnt/c/Users/Nikita/Desktop/codes/ML/IRTT_reactor/core_uniniformity/main/pdc_handlers/pdc_refueler.py:462: FutureWarning: Series.__getitem__ treating keys as positions is deprecated. In a future version, integer keys will always be treated as labels (consistent with DataFrame behavior). To access a value by position, use `ser.iloc[pos]`\n",
      "  densities[nucl] = df_nuclides.iloc[ind][nucl] / df_axial_shapes.iloc[ind][itr]\n"
     ]
    },
    {
     "name": "stdout",
     "output_type": "stream",
     "text": [
      "[['28.87', '57.29', '29.57', '43.90'], ['37.62', '49.57', '26.46', '28.07'], ['41.55', 'Be', 'Be', '59.87'], ['31.85', 'Be', 'Be', '14.87'], ['31.85', '20.32', '59.37', '44.89'], ['20.42', '9.47', '45.04', '17.57']]\n",
      "[0.59592079 0.26431698 0.37017506 0.39793346 0.54706472 0.27907505\n",
      " 0.64116842 0.30953108 0.30222276 0.29629491 0.12264085 0.35626601\n",
      " 0.26662826 0.15652816 0.20364465 0.41528002 0.09395156 0.42555031\n",
      " 0.36207902 0.37135643] 0.3388814242371112\n"
     ]
    },
    {
     "name": "stderr",
     "output_type": "stream",
     "text": [
      "/mnt/c/Users/Nikita/Desktop/codes/ML/IRTT_reactor/core_uniniformity/main/pdc_handlers/pdc_refueler.py:453: FutureWarning: Series.__getitem__ treating keys as positions is deprecated. In a future version, integer keys will always be treated as labels (consistent with DataFrame behavior). To access a value by position, use `ser.iloc[pos]`\n",
      "  * df_axial_shapes.iloc[ind][itr]\n",
      "/mnt/c/Users/Nikita/Desktop/codes/ML/IRTT_reactor/core_uniniformity/main/pdc_handlers/pdc_refueler.py:462: FutureWarning: Series.__getitem__ treating keys as positions is deprecated. In a future version, integer keys will always be treated as labels (consistent with DataFrame behavior). To access a value by position, use `ser.iloc[pos]`\n",
      "  densities[nucl] = df_nuclides.iloc[ind][nucl] / df_axial_shapes.iloc[ind][itr]\n"
     ]
    },
    {
     "name": "stdout",
     "output_type": "stream",
     "text": [
      "[['59.59', '26.43', '37.02', '39.79'], ['54.71', '27.91', '64.12', '30.95'], ['30.22', 'Be', 'Be', '29.63'], ['12.26', 'Be', 'Be', '35.63'], ['26.66', '15.65', '20.36', '41.53'], ['9.40', '42.56', '36.21', '37.14']]\n",
      "[0.36675094 0.45067949 0.33916233 0.10944501 0.18752916 0.41280295\n",
      " 0.33180355 0.41352155 0.20990565 0.3068204  0.40423347 0.45624476\n",
      " 0.26208218 0.28782348 0.56836165 0.41280295 0.33134225 0.55274452\n",
      " 0.43850209 0.26663532] 0.35545968546615575\n"
     ]
    },
    {
     "name": "stderr",
     "output_type": "stream",
     "text": [
      "/mnt/c/Users/Nikita/Desktop/codes/ML/IRTT_reactor/core_uniniformity/main/pdc_handlers/pdc_refueler.py:453: FutureWarning: Series.__getitem__ treating keys as positions is deprecated. In a future version, integer keys will always be treated as labels (consistent with DataFrame behavior). To access a value by position, use `ser.iloc[pos]`\n",
      "  * df_axial_shapes.iloc[ind][itr]\n",
      "/mnt/c/Users/Nikita/Desktop/codes/ML/IRTT_reactor/core_uniniformity/main/pdc_handlers/pdc_refueler.py:462: FutureWarning: Series.__getitem__ treating keys as positions is deprecated. In a future version, integer keys will always be treated as labels (consistent with DataFrame behavior). To access a value by position, use `ser.iloc[pos]`\n",
      "  densities[nucl] = df_nuclides.iloc[ind][nucl] / df_axial_shapes.iloc[ind][itr]\n"
     ]
    },
    {
     "name": "stdout",
     "output_type": "stream",
     "text": [
      "[['36.68', '45.07', '33.92', '10.94'], ['18.75', '41.28', '33.18', '41.35'], ['20.99', 'Be', 'Be', '30.68'], ['40.42', 'Be', 'Be', '45.62'], ['26.21', '28.78', '56.84', '41.28'], ['33.13', '55.27', '43.85', '26.66']]\n",
      "[0.28764666 0.2436784  0.49577824 0.35720969 0.53499389 0.45362898\n",
      " 0.30933337 0.29390088 0.30939171 0.3265038  0.42002749 0.48230996\n",
      " 0.35378495 0.36784166 0.45050024 0.40391763 0.3177254  0.56464862\n",
      " 0.34526237 0.38309518] 0.38505895631402776\n"
     ]
    },
    {
     "name": "stderr",
     "output_type": "stream",
     "text": [
      "/mnt/c/Users/Nikita/Desktop/codes/ML/IRTT_reactor/core_uniniformity/main/pdc_handlers/pdc_refueler.py:453: FutureWarning: Series.__getitem__ treating keys as positions is deprecated. In a future version, integer keys will always be treated as labels (consistent with DataFrame behavior). To access a value by position, use `ser.iloc[pos]`\n",
      "  * df_axial_shapes.iloc[ind][itr]\n",
      "/mnt/c/Users/Nikita/Desktop/codes/ML/IRTT_reactor/core_uniniformity/main/pdc_handlers/pdc_refueler.py:462: FutureWarning: Series.__getitem__ treating keys as positions is deprecated. In a future version, integer keys will always be treated as labels (consistent with DataFrame behavior). To access a value by position, use `ser.iloc[pos]`\n",
      "  densities[nucl] = df_nuclides.iloc[ind][nucl] / df_axial_shapes.iloc[ind][itr]\n"
     ]
    },
    {
     "name": "stdout",
     "output_type": "stream",
     "text": [
      "[['28.76', '24.37', '49.58', '35.72'], ['53.50', '45.36', '30.93', '29.39'], ['30.94', 'Be', 'Be', '32.65'], ['42.00', 'Be', 'Be', '48.23'], ['35.38', '36.78', '45.05', '40.39'], ['31.77', '56.46', '34.53', '38.31']]\n",
      "[0.33394161 0.10560461 0.20421819 0.23471664 0.41577888 0.26297881\n",
      " 0.37971789 0.10793234 0.17179561 0.35292874 0.31334789 0.34051764\n",
      " 0.27103711 0.20395574 0.50568713 0.32860965 0.23306101 0.47037043\n",
      " 0.31946519 0.33269617] 0.29441806340791926\n"
     ]
    },
    {
     "name": "stderr",
     "output_type": "stream",
     "text": [
      "/mnt/c/Users/Nikita/Desktop/codes/ML/IRTT_reactor/core_uniniformity/main/pdc_handlers/pdc_refueler.py:453: FutureWarning: Series.__getitem__ treating keys as positions is deprecated. In a future version, integer keys will always be treated as labels (consistent with DataFrame behavior). To access a value by position, use `ser.iloc[pos]`\n",
      "  * df_axial_shapes.iloc[ind][itr]\n",
      "/mnt/c/Users/Nikita/Desktop/codes/ML/IRTT_reactor/core_uniniformity/main/pdc_handlers/pdc_refueler.py:462: FutureWarning: Series.__getitem__ treating keys as positions is deprecated. In a future version, integer keys will always be treated as labels (consistent with DataFrame behavior). To access a value by position, use `ser.iloc[pos]`\n",
      "  densities[nucl] = df_nuclides.iloc[ind][nucl] / df_axial_shapes.iloc[ind][itr]\n"
     ]
    },
    {
     "name": "stdout",
     "output_type": "stream",
     "text": [
      "[['33.39', '10.56', '20.42', '23.47'], ['41.58', '26.30', '37.97', '10.79'], ['17.18', 'Be', 'Be', '35.29'], ['31.33', 'Be', 'Be', '34.05'], ['27.10', '20.40', '50.57', '32.86'], ['23.31', '47.04', '31.95', '33.27']]\n",
      "[0.49564291 0.23377402 0.30578959 0.22573605 0.33451808 0.4504685\n",
      " 0.4244168  0.33451808 0.30471257 0.38724946 0.5588628  0.29191866\n",
      " 0.29625176 0.39820922 0.2571205  0.22419488 0.34549934 0.35400309\n",
      " 0.40181734 0.43260078] 0.35286522034346013\n"
     ]
    },
    {
     "name": "stderr",
     "output_type": "stream",
     "text": [
      "/mnt/c/Users/Nikita/Desktop/codes/ML/IRTT_reactor/core_uniniformity/main/pdc_handlers/pdc_refueler.py:453: FutureWarning: Series.__getitem__ treating keys as positions is deprecated. In a future version, integer keys will always be treated as labels (consistent with DataFrame behavior). To access a value by position, use `ser.iloc[pos]`\n",
      "  * df_axial_shapes.iloc[ind][itr]\n",
      "/mnt/c/Users/Nikita/Desktop/codes/ML/IRTT_reactor/core_uniniformity/main/pdc_handlers/pdc_refueler.py:462: FutureWarning: Series.__getitem__ treating keys as positions is deprecated. In a future version, integer keys will always be treated as labels (consistent with DataFrame behavior). To access a value by position, use `ser.iloc[pos]`\n",
      "  densities[nucl] = df_nuclides.iloc[ind][nucl] / df_axial_shapes.iloc[ind][itr]\n"
     ]
    },
    {
     "name": "stdout",
     "output_type": "stream",
     "text": [
      "[['49.56', '23.38', '30.58', '22.57'], ['33.45', '45.05', '42.44', '33.45'], ['30.47', 'Be', 'Be', '38.72'], ['55.89', 'Be', 'Be', '29.19'], ['29.63', '39.82', '25.71', '22.42'], ['34.55', '35.40', '40.18', '43.26']]\n",
      "[0.33677332 0.26082497 0.29913443 0.32650986 0.27070275 0.4830825\n",
      " 0.41403538 0.33383816 0.52851212 0.3276605  0.28181057 0.26046259\n",
      " 0.44030358 0.41403538 0.38660683 0.41711027 0.3301269  0.29164005\n",
      " 0.48113176 0.50338503] 0.3693843476669693\n"
     ]
    },
    {
     "name": "stderr",
     "output_type": "stream",
     "text": [
      "/mnt/c/Users/Nikita/Desktop/codes/ML/IRTT_reactor/core_uniniformity/main/pdc_handlers/pdc_refueler.py:453: FutureWarning: Series.__getitem__ treating keys as positions is deprecated. In a future version, integer keys will always be treated as labels (consistent with DataFrame behavior). To access a value by position, use `ser.iloc[pos]`\n",
      "  * df_axial_shapes.iloc[ind][itr]\n",
      "/mnt/c/Users/Nikita/Desktop/codes/ML/IRTT_reactor/core_uniniformity/main/pdc_handlers/pdc_refueler.py:462: FutureWarning: Series.__getitem__ treating keys as positions is deprecated. In a future version, integer keys will always be treated as labels (consistent with DataFrame behavior). To access a value by position, use `ser.iloc[pos]`\n",
      "  densities[nucl] = df_nuclides.iloc[ind][nucl] / df_axial_shapes.iloc[ind][itr]\n"
     ]
    },
    {
     "name": "stdout",
     "output_type": "stream",
     "text": [
      "[['33.68', '26.08', '29.91', '32.65'], ['27.07', '48.31', '41.40', '33.38'], ['52.85', 'Be', 'Be', '32.77'], ['28.18', 'Be', 'Be', '26.05'], ['44.03', '41.40', '38.66', '41.71'], ['33.01', '29.16', '48.11', '50.34']]\n",
      "[0.18951898 0.67472981 0.21273415 0.24751729 0.20019733 0.40627912\n",
      " 0.28118823 0.36971542 0.26266379 0.03573603 0.15060339 0.30115934\n",
      " 0.60295038 0.36998161 0.34331069 0.48337499 0.33908623 0.20019733\n",
      " 0.28772117 0.58930521] 0.3273985240406832\n"
     ]
    },
    {
     "name": "stderr",
     "output_type": "stream",
     "text": [
      "/mnt/c/Users/Nikita/Desktop/codes/ML/IRTT_reactor/core_uniniformity/main/pdc_handlers/pdc_refueler.py:453: FutureWarning: Series.__getitem__ treating keys as positions is deprecated. In a future version, integer keys will always be treated as labels (consistent with DataFrame behavior). To access a value by position, use `ser.iloc[pos]`\n",
      "  * df_axial_shapes.iloc[ind][itr]\n",
      "/mnt/c/Users/Nikita/Desktop/codes/ML/IRTT_reactor/core_uniniformity/main/pdc_handlers/pdc_refueler.py:462: FutureWarning: Series.__getitem__ treating keys as positions is deprecated. In a future version, integer keys will always be treated as labels (consistent with DataFrame behavior). To access a value by position, use `ser.iloc[pos]`\n",
      "  densities[nucl] = df_nuclides.iloc[ind][nucl] / df_axial_shapes.iloc[ind][itr]\n"
     ]
    },
    {
     "name": "stdout",
     "output_type": "stream",
     "text": [
      "[['18.95', '67.47', '21.27', '24.75'], ['20.02', '40.63', '28.12', '36.97'], ['26.27', 'Be', 'Be', '3.57'], ['15.06', 'Be', 'Be', '30.12'], ['60.30', '37.00', '34.33', '48.34'], ['33.91', '20.02', '28.77', '58.93']]\n",
      "[0.50454506 0.37425531 0.47776226 0.16274927 0.29106173 0.37745392\n",
      " 0.28075217 0.34843316 0.00307319 0.34028341 0.19933053 0.23292986\n",
      " 0.49857579 0.2227959  0.36277572 0.32435816 0.21550156 0.13840995\n",
      " 0.54695045 0.2573819 ] 0.30796896466101853\n"
     ]
    },
    {
     "name": "stderr",
     "output_type": "stream",
     "text": [
      "/mnt/c/Users/Nikita/Desktop/codes/ML/IRTT_reactor/core_uniniformity/main/pdc_handlers/pdc_refueler.py:453: FutureWarning: Series.__getitem__ treating keys as positions is deprecated. In a future version, integer keys will always be treated as labels (consistent with DataFrame behavior). To access a value by position, use `ser.iloc[pos]`\n",
      "  * df_axial_shapes.iloc[ind][itr]\n",
      "/mnt/c/Users/Nikita/Desktop/codes/ML/IRTT_reactor/core_uniniformity/main/pdc_handlers/pdc_refueler.py:462: FutureWarning: Series.__getitem__ treating keys as positions is deprecated. In a future version, integer keys will always be treated as labels (consistent with DataFrame behavior). To access a value by position, use `ser.iloc[pos]`\n",
      "  densities[nucl] = df_nuclides.iloc[ind][nucl] / df_axial_shapes.iloc[ind][itr]\n"
     ]
    },
    {
     "name": "stdout",
     "output_type": "stream",
     "text": [
      "[['50.45', '37.43', '47.78', '16.27'], ['29.11', '37.75', '28.08', '34.84'], ['0.31', 'Be', 'Be', '34.03'], ['19.93', 'Be', 'Be', '23.29'], ['49.86', '22.28', '36.28', '32.44'], ['21.55', '13.84', '54.70', '25.74']]\n",
      "[0.45313576 0.52229224 0.50227057 0.1442075  0.47458557 0.06306563\n",
      " 0.23366591 0.32634721 0.40977842 0.15458947 0.28553173 0.41200918\n",
      " 0.03585034 0.4816625  0.17571896 0.54459095 0.2311646  0.33856215\n",
      " 0.27189017 0.31629454] 0.3188606698153413\n"
     ]
    },
    {
     "name": "stderr",
     "output_type": "stream",
     "text": [
      "/mnt/c/Users/Nikita/Desktop/codes/ML/IRTT_reactor/core_uniniformity/main/pdc_handlers/pdc_refueler.py:453: FutureWarning: Series.__getitem__ treating keys as positions is deprecated. In a future version, integer keys will always be treated as labels (consistent with DataFrame behavior). To access a value by position, use `ser.iloc[pos]`\n",
      "  * df_axial_shapes.iloc[ind][itr]\n",
      "/mnt/c/Users/Nikita/Desktop/codes/ML/IRTT_reactor/core_uniniformity/main/pdc_handlers/pdc_refueler.py:462: FutureWarning: Series.__getitem__ treating keys as positions is deprecated. In a future version, integer keys will always be treated as labels (consistent with DataFrame behavior). To access a value by position, use `ser.iloc[pos]`\n",
      "  densities[nucl] = df_nuclides.iloc[ind][nucl] / df_axial_shapes.iloc[ind][itr]\n"
     ]
    },
    {
     "name": "stdout",
     "output_type": "stream",
     "text": [
      "[['45.31', '52.23', '50.23', '14.42'], ['47.46', '6.31', '23.37', '32.63'], ['40.98', 'Be', 'Be', '15.46'], ['28.55', 'Be', 'Be', '41.20'], ['3.59', '48.17', '17.57', '54.46'], ['23.12', '33.86', '27.19', '31.63']]\n",
      "[0.18287946 0.29371167 0.49382667 0.27009051 0.30452479 0.15130709\n",
      " 0.24114378 0.46766932 0.39926602 0.44521939 0.61633223 0.18962809\n",
      " 0.18622655 0.15427629 0.48509786 0.34635712 0.28139374 0.39857436\n",
      " 0.35951945 0.51808376] 0.33925640830346804\n"
     ]
    },
    {
     "name": "stderr",
     "output_type": "stream",
     "text": [
      "/mnt/c/Users/Nikita/Desktop/codes/ML/IRTT_reactor/core_uniniformity/main/pdc_handlers/pdc_refueler.py:453: FutureWarning: Series.__getitem__ treating keys as positions is deprecated. In a future version, integer keys will always be treated as labels (consistent with DataFrame behavior). To access a value by position, use `ser.iloc[pos]`\n",
      "  * df_axial_shapes.iloc[ind][itr]\n",
      "/mnt/c/Users/Nikita/Desktop/codes/ML/IRTT_reactor/core_uniniformity/main/pdc_handlers/pdc_refueler.py:462: FutureWarning: Series.__getitem__ treating keys as positions is deprecated. In a future version, integer keys will always be treated as labels (consistent with DataFrame behavior). To access a value by position, use `ser.iloc[pos]`\n",
      "  densities[nucl] = df_nuclides.iloc[ind][nucl] / df_axial_shapes.iloc[ind][itr]\n"
     ]
    },
    {
     "name": "stdout",
     "output_type": "stream",
     "text": [
      "[['18.29', '29.37', '49.38', '27.01'], ['30.45', '15.13', '24.11', '46.77'], ['39.93', 'Be', 'Be', '44.52'], ['61.63', 'Be', 'Be', '18.96'], ['18.62', '15.43', '48.51', '34.64'], ['28.14', '39.86', '35.95', '51.81']]\n",
      "[0.62657671 0.24441041 0.29013355 0.3434511  0.24583221 0.10355853\n",
      " 0.18265979 0.40320888 0.29728616 0.2907654  0.28434606 0.47287923\n",
      " 0.10410442 0.3396518  0.36688728 0.28259141 0.31178785 0.36434233\n",
      " 0.44286733 0.40739622] 0.3202368334738409\n"
     ]
    },
    {
     "name": "stderr",
     "output_type": "stream",
     "text": [
      "/mnt/c/Users/Nikita/Desktop/codes/ML/IRTT_reactor/core_uniniformity/main/pdc_handlers/pdc_refueler.py:453: FutureWarning: Series.__getitem__ treating keys as positions is deprecated. In a future version, integer keys will always be treated as labels (consistent with DataFrame behavior). To access a value by position, use `ser.iloc[pos]`\n",
      "  * df_axial_shapes.iloc[ind][itr]\n",
      "/mnt/c/Users/Nikita/Desktop/codes/ML/IRTT_reactor/core_uniniformity/main/pdc_handlers/pdc_refueler.py:462: FutureWarning: Series.__getitem__ treating keys as positions is deprecated. In a future version, integer keys will always be treated as labels (consistent with DataFrame behavior). To access a value by position, use `ser.iloc[pos]`\n",
      "  densities[nucl] = df_nuclides.iloc[ind][nucl] / df_axial_shapes.iloc[ind][itr]\n"
     ]
    },
    {
     "name": "stdout",
     "output_type": "stream",
     "text": [
      "[['62.66', '24.44', '29.01', '34.35'], ['24.58', '10.36', '18.27', '40.32'], ['29.73', 'Be', 'Be', '29.08'], ['28.43', 'Be', 'Be', '47.29'], ['10.41', '33.97', '36.69', '28.26'], ['31.18', '36.43', '44.29', '40.74']]\n",
      "[0.46792125 0.48165713 0.25488375 0.34580789 0.2661279  0.43033269\n",
      " 0.5769972  0.57789055 0.23834044 0.55184071 0.44893294 0.3513709\n",
      " 0.35629364 0.37362365 0.25918649 0.79689851 0.51023831 0.49401435\n",
      " 0.50266169 0.38533299] 0.4335176488823663\n"
     ]
    },
    {
     "name": "stderr",
     "output_type": "stream",
     "text": [
      "/mnt/c/Users/Nikita/Desktop/codes/ML/IRTT_reactor/core_uniniformity/main/pdc_handlers/pdc_refueler.py:453: FutureWarning: Series.__getitem__ treating keys as positions is deprecated. In a future version, integer keys will always be treated as labels (consistent with DataFrame behavior). To access a value by position, use `ser.iloc[pos]`\n",
      "  * df_axial_shapes.iloc[ind][itr]\n",
      "/mnt/c/Users/Nikita/Desktop/codes/ML/IRTT_reactor/core_uniniformity/main/pdc_handlers/pdc_refueler.py:462: FutureWarning: Series.__getitem__ treating keys as positions is deprecated. In a future version, integer keys will always be treated as labels (consistent with DataFrame behavior). To access a value by position, use `ser.iloc[pos]`\n",
      "  densities[nucl] = df_nuclides.iloc[ind][nucl] / df_axial_shapes.iloc[ind][itr]\n"
     ]
    },
    {
     "name": "stdout",
     "output_type": "stream",
     "text": [
      "[['46.79', '48.17', '25.49', '34.58'], ['26.61', '43.03', '57.70', '57.79'], ['23.83', 'Be', 'Be', '55.18'], ['44.89', 'Be', 'Be', '35.14'], ['35.63', '37.36', '25.92', '79.69'], ['51.02', '49.40', '50.27', '38.53']]\n"
     ]
    }
   ],
   "source": [
    "for i in range(429,549):\n",
    "    s = np.random.normal(mu,sig,500)\n",
    "    s20 = np.random.choice(s, size=20)\n",
    "    print(s20, s20.mean())\n",
    "    pdc_maker = PDCHandler()\n",
    "    densities = pdc_maker.core_augmentation(\n",
    "        core_burnup=s20\n",
    "    )\n",
    "    pdc_maker.make_augmented_pdc(\n",
    "        densities,\n",
    "        output_file_name=\"random_burn.PDC\",\n",
    "        to_folder=f\"random_{i}\",\n",
    "        core_map_export=True,\n",
    "        core_burnup=s20\n",
    "    )"
   ]
  },
  {
   "cell_type": "code",
   "execution_count": null,
   "id": "338ee82c-1fba-4b90-8a06-a39d187a7f38",
   "metadata": {},
   "outputs": [],
   "source": []
  },
  {
   "cell_type": "code",
   "execution_count": 3,
   "id": "f8f9e4e9-a436-4dcb-a692-45d7830e052b",
   "metadata": {},
   "outputs": [],
   "source": [
    "pdcs = PDCHandler(pdc_file=\"11.05.2021_burn.PDC\")"
   ]
  },
  {
   "cell_type": "code",
   "execution_count": 4,
   "id": "5b509745-8822-4a69-9ae4-42985f1c9375",
   "metadata": {},
   "outputs": [],
   "source": [
    "*_, burnup = pdcs._get_cells_data()"
   ]
  },
  {
   "cell_type": "code",
   "execution_count": 5,
   "id": "42dced37-28ec-4dd9-b147-5969168b1074",
   "metadata": {
    "scrolled": true
   },
   "outputs": [
    {
     "data": {
      "text/plain": [
       "[3.3626016260162594,\n",
       " 17.11639566395664,\n",
       " 6.5166666666666595,\n",
       " 48.580691056910574,\n",
       " 61.46575203252033,\n",
       " 26.51084010840109,\n",
       " 51.56567750677507,\n",
       " 57.93898373983739,\n",
       " 29.387804878048772,\n",
       " 36.5690379403794,\n",
       " 3.7894308943089317,\n",
       " 36.385569105691054,\n",
       " 60.896551490514895,\n",
       " 47.073915989159886,\n",
       " 26.18644986449864,\n",
       " 55.18520325203252,\n",
       " 41.991124661246616,\n",
       " 8.892750677506777,\n",
       " 16.640921409214094,\n",
       " 47.52682926829268]"
      ]
     },
     "execution_count": 5,
     "metadata": {},
     "output_type": "execute_result"
    }
   ],
   "source": [
    "burnup"
   ]
  },
  {
   "cell_type": "code",
   "execution_count": 15,
   "id": "fe40368e-7298-4323-8972-529b0c712be7",
   "metadata": {},
   "outputs": [],
   "source": [
    "burnup = [\n",
    "41.41\t9.58\t13.23\t49.68\n",
    "33.20\t58.42\t26.37\t32.60\n",
    "0.00\t\t41.00\n",
    "0.00\t\t40.28\n",
    "32.47\t23.94\t57.97\t31.17\n",
    "41.01\t13.07\t9.54\t47.55\n",
    "\n",
    "]\n"
   ]
  },
  {
   "cell_type": "code",
   "execution_count": 16,
   "id": "e8f89f02-9ca3-494b-8390-b71a2b634a30",
   "metadata": {},
   "outputs": [
    {
     "name": "stderr",
     "output_type": "stream",
     "text": [
      "/mnt/c/Users/Nikita/Desktop/codes/ML/IRTT_reactor/core_uniniformity/main/pdc_handlers/pdc_refueler.py:453: FutureWarning: Series.__getitem__ treating keys as positions is deprecated. In a future version, integer keys will always be treated as labels (consistent with DataFrame behavior). To access a value by position, use `ser.iloc[pos]`\n",
      "  * df_axial_shapes.iloc[ind][itr]\n",
      "/mnt/c/Users/Nikita/Desktop/codes/ML/IRTT_reactor/core_uniniformity/main/pdc_handlers/pdc_refueler.py:462: FutureWarning: Series.__getitem__ treating keys as positions is deprecated. In a future version, integer keys will always be treated as labels (consistent with DataFrame behavior). To access a value by position, use `ser.iloc[pos]`\n",
      "  densities[nucl] = df_nuclides.iloc[ind][nucl] / df_axial_shapes.iloc[ind][itr]\n"
     ]
    }
   ],
   "source": [
    "dens = pdcs.core_augmentation(\n",
    "    core_burnup=burnup,\n",
    "    percentage_norm=False\n",
    ")"
   ]
  },
  {
   "cell_type": "code",
   "execution_count": 17,
   "id": "d19b3f6f-9e42-4b64-890b-cd5126544c69",
   "metadata": {},
   "outputs": [
    {
     "name": "stdout",
     "output_type": "stream",
     "text": [
      "[['26.84', '24.17', '52.28', '59.17'], ['45.78', '8.05', '41.15', '45.49'], ['18.07', 'Be', 'Be', '54.38'], ['18.13', 'Be', 'Be', '53.61'], ['45.14', '39.19', '7.86', '44.18'], ['26.95', '52.07', '23.94', '57.22']]\n"
     ]
    }
   ],
   "source": [
    "pdcs.make_augmented_pdc(\n",
    "    dens,\n",
    "    output_file_name=\"128_burnup.PDC\",\n",
    "    core_map_export=True,\n",
    "    core_burnup=burnup,\n",
    "    percentage_norm=False\n",
    ")"
   ]
  },
  {
   "cell_type": "code",
   "execution_count": null,
   "id": "d0781189-d4c6-4922-8db6-d84a761b1995",
   "metadata": {},
   "outputs": [],
   "source": []
  },
  {
   "cell_type": "markdown",
   "id": "0999581d-228e-4b35-9b79-f60ecf3d4f4f",
   "metadata": {},
   "source": [
    "## Excel file of randomly generated burnup"
   ]
  },
  {
   "cell_type": "code",
   "execution_count": 3,
   "id": "0060aaa5-34a5-4a38-8c24-7dc6f1383542",
   "metadata": {},
   "outputs": [],
   "source": [
    "col_type = np.asarray([\n",
    "    300.0, 300.0, 300.0, 300.0, \n",
    "    265.0, 265.0, 265.0, 265.0,\n",
    "    265.0, 300.0, 300.0, 300.0,\n",
    "    265.0, 265.0, 265.0, 265.0,\n",
    "    300.0, 300.0, 300.0, 300.0\n",
    "])"
   ]
  },
  {
   "cell_type": "code",
   "execution_count": 4,
   "id": "9fb055a0-5606-4fa2-9e27-f4fbd6a740eb",
   "metadata": {},
   "outputs": [
    {
     "data": {
      "text/html": [
       "<div>\n",
       "<style scoped>\n",
       "    .dataframe tbody tr th:only-of-type {\n",
       "        vertical-align: middle;\n",
       "    }\n",
       "\n",
       "    .dataframe tbody tr th {\n",
       "        vertical-align: top;\n",
       "    }\n",
       "\n",
       "    .dataframe thead th {\n",
       "        text-align: right;\n",
       "    }\n",
       "</style>\n",
       "<table border=\"1\" class=\"dataframe\">\n",
       "  <thead>\n",
       "    <tr style=\"text-align: right;\">\n",
       "      <th></th>\n",
       "      <th>7-6_b</th>\n",
       "      <th>7-5_b</th>\n",
       "      <th>7-4_b</th>\n",
       "      <th>7-3_b</th>\n",
       "      <th>6-6_b</th>\n",
       "      <th>6-5_b</th>\n",
       "      <th>6-4_b</th>\n",
       "      <th>6-3_b</th>\n",
       "      <th>5-6_b</th>\n",
       "      <th>5-3_b</th>\n",
       "      <th>4-6_b</th>\n",
       "      <th>4-3_b</th>\n",
       "      <th>3-6_b</th>\n",
       "      <th>3-5_b</th>\n",
       "      <th>3-4_b</th>\n",
       "      <th>3-3_b</th>\n",
       "      <th>2-6_b</th>\n",
       "      <th>2-5_b</th>\n",
       "      <th>2-4_b</th>\n",
       "      <th>2-3_b</th>\n",
       "    </tr>\n",
       "  </thead>\n",
       "  <tbody>\n",
       "    <tr>\n",
       "      <th>0</th>\n",
       "      <td>101.187192</td>\n",
       "      <td>103.099262</td>\n",
       "      <td>119.222565</td>\n",
       "      <td>179.018187</td>\n",
       "      <td>79.847432</td>\n",
       "      <td>89.391454</td>\n",
       "      <td>107.757069</td>\n",
       "      <td>81.182405</td>\n",
       "      <td>78.640646</td>\n",
       "      <td>129.754209</td>\n",
       "      <td>58.189409</td>\n",
       "      <td>74.923808</td>\n",
       "      <td>144.776814</td>\n",
       "      <td>105.524146</td>\n",
       "      <td>68.233672</td>\n",
       "      <td>99.481752</td>\n",
       "      <td>171.025689</td>\n",
       "      <td>118.362844</td>\n",
       "      <td>56.7944</td>\n",
       "      <td>87.124795</td>\n",
       "    </tr>\n",
       "    <tr>\n",
       "      <th>1</th>\n",
       "      <td>74.894538</td>\n",
       "      <td>129.964461</td>\n",
       "      <td>178.673321</td>\n",
       "      <td>146.778098</td>\n",
       "      <td>97.724752</td>\n",
       "      <td>34.44996</td>\n",
       "      <td>49.761481</td>\n",
       "      <td>102.589813</td>\n",
       "      <td>50.520744</td>\n",
       "      <td>74.078356</td>\n",
       "      <td>35.794742</td>\n",
       "      <td>83.966052</td>\n",
       "      <td>97.724752</td>\n",
       "      <td>65.512807</td>\n",
       "      <td>99.530687</td>\n",
       "      <td>83.444227</td>\n",
       "      <td>160.487421</td>\n",
       "      <td>144.891504</td>\n",
       "      <td>136.717592</td>\n",
       "      <td>71.395873</td>\n",
       "    </tr>\n",
       "    <tr>\n",
       "      <th>2</th>\n",
       "      <td>92.991996</td>\n",
       "      <td>79.546967</td>\n",
       "      <td>107.646182</td>\n",
       "      <td>126.228173</td>\n",
       "      <td>72.93051</td>\n",
       "      <td>154.426952</td>\n",
       "      <td>113.922911</td>\n",
       "      <td>-2.41937</td>\n",
       "      <td>52.831224</td>\n",
       "      <td>128.595706</td>\n",
       "      <td>120.6895</td>\n",
       "      <td>190.626921</td>\n",
       "      <td>74.652937</td>\n",
       "      <td>66.559807</td>\n",
       "      <td>88.063349</td>\n",
       "      <td>46.842818</td>\n",
       "      <td>113.619137</td>\n",
       "      <td>160.112195</td>\n",
       "      <td>70.839976</td>\n",
       "      <td>66.113585</td>\n",
       "    </tr>\n",
       "    <tr>\n",
       "      <th>3</th>\n",
       "      <td>123.928778</td>\n",
       "      <td>120.242268</td>\n",
       "      <td>68.156396</td>\n",
       "      <td>39.430824</td>\n",
       "      <td>108.547973</td>\n",
       "      <td>73.350423</td>\n",
       "      <td>54.618994</td>\n",
       "      <td>102.843422</td>\n",
       "      <td>37.893104</td>\n",
       "      <td>84.351866</td>\n",
       "      <td>55.026374</td>\n",
       "      <td>86.704125</td>\n",
       "      <td>100.004664</td>\n",
       "      <td>117.80171</td>\n",
       "      <td>62.34795</td>\n",
       "      <td>46.526868</td>\n",
       "      <td>65.594518</td>\n",
       "      <td>125.194205</td>\n",
       "      <td>116.542493</td>\n",
       "      <td>148.337531</td>\n",
       "    </tr>\n",
       "    <tr>\n",
       "      <th>4</th>\n",
       "      <td>116.379969</td>\n",
       "      <td>84.625422</td>\n",
       "      <td>96.866538</td>\n",
       "      <td>125.272187</td>\n",
       "      <td>106.59079</td>\n",
       "      <td>109.401034</td>\n",
       "      <td>102.495911</td>\n",
       "      <td>90.704906</td>\n",
       "      <td>90.06311</td>\n",
       "      <td>84.964416</td>\n",
       "      <td>137.815501</td>\n",
       "      <td>5.836878</td>\n",
       "      <td>54.250645</td>\n",
       "      <td>90.159045</td>\n",
       "      <td>64.338039</td>\n",
       "      <td>82.356298</td>\n",
       "      <td>115.074048</td>\n",
       "      <td>124.989781</td>\n",
       "      <td>134.981561</td>\n",
       "      <td>57.006362</td>\n",
       "    </tr>\n",
       "    <tr>\n",
       "      <th>...</th>\n",
       "      <td>...</td>\n",
       "      <td>...</td>\n",
       "      <td>...</td>\n",
       "      <td>...</td>\n",
       "      <td>...</td>\n",
       "      <td>...</td>\n",
       "      <td>...</td>\n",
       "      <td>...</td>\n",
       "      <td>...</td>\n",
       "      <td>...</td>\n",
       "      <td>...</td>\n",
       "      <td>...</td>\n",
       "      <td>...</td>\n",
       "      <td>...</td>\n",
       "      <td>...</td>\n",
       "      <td>...</td>\n",
       "      <td>...</td>\n",
       "      <td>...</td>\n",
       "      <td>...</td>\n",
       "      <td>...</td>\n",
       "    </tr>\n",
       "    <tr>\n",
       "      <th>11995</th>\n",
       "      <td>124.186847</td>\n",
       "      <td>57.525812</td>\n",
       "      <td>57.647924</td>\n",
       "      <td>19.536273</td>\n",
       "      <td>66.260845</td>\n",
       "      <td>79.424013</td>\n",
       "      <td>65.902033</td>\n",
       "      <td>82.27569</td>\n",
       "      <td>146.384107</td>\n",
       "      <td>190.087035</td>\n",
       "      <td>47.289029</td>\n",
       "      <td>130.237377</td>\n",
       "      <td>73.113701</td>\n",
       "      <td>67.488517</td>\n",
       "      <td>91.952968</td>\n",
       "      <td>114.923121</td>\n",
       "      <td>174.932827</td>\n",
       "      <td>115.129123</td>\n",
       "      <td>85.610907</td>\n",
       "      <td>56.399221</td>\n",
       "    </tr>\n",
       "    <tr>\n",
       "      <th>11996</th>\n",
       "      <td>115.172971</td>\n",
       "      <td>115.763897</td>\n",
       "      <td>115.633631</td>\n",
       "      <td>90.40282</td>\n",
       "      <td>61.636424</td>\n",
       "      <td>117.177135</td>\n",
       "      <td>34.596675</td>\n",
       "      <td>44.997978</td>\n",
       "      <td>130.562074</td>\n",
       "      <td>139.014091</td>\n",
       "      <td>132.79441</td>\n",
       "      <td>75.122044</td>\n",
       "      <td>102.428105</td>\n",
       "      <td>126.422981</td>\n",
       "      <td>100.656872</td>\n",
       "      <td>70.384405</td>\n",
       "      <td>79.22969</td>\n",
       "      <td>137.068022</td>\n",
       "      <td>90.916698</td>\n",
       "      <td>68.869174</td>\n",
       "    </tr>\n",
       "    <tr>\n",
       "      <th>11997</th>\n",
       "      <td>44.778323</td>\n",
       "      <td>72.975954</td>\n",
       "      <td>95.323363</td>\n",
       "      <td>128.344526</td>\n",
       "      <td>105.758858</td>\n",
       "      <td>135.635316</td>\n",
       "      <td>74.157745</td>\n",
       "      <td>51.766305</td>\n",
       "      <td>108.693061</td>\n",
       "      <td>56.835253</td>\n",
       "      <td>118.717033</td>\n",
       "      <td>87.153786</td>\n",
       "      <td>79.689144</td>\n",
       "      <td>83.162163</td>\n",
       "      <td>102.587809</td>\n",
       "      <td>68.251705</td>\n",
       "      <td>118.500005</td>\n",
       "      <td>51.316042</td>\n",
       "      <td>154.584718</td>\n",
       "      <td>125.119274</td>\n",
       "    </tr>\n",
       "    <tr>\n",
       "      <th>11998</th>\n",
       "      <td>55.653531</td>\n",
       "      <td>106.938129</td>\n",
       "      <td>101.022227</td>\n",
       "      <td>95.884114</td>\n",
       "      <td>60.514951</td>\n",
       "      <td>84.991753</td>\n",
       "      <td>145.426968</td>\n",
       "      <td>49.160619</td>\n",
       "      <td>130.896776</td>\n",
       "      <td>161.225392</td>\n",
       "      <td>78.217242</td>\n",
       "      <td>83.656657</td>\n",
       "      <td>77.097269</td>\n",
       "      <td>85.346937</td>\n",
       "      <td>80.692469</td>\n",
       "      <td>83.192614</td>\n",
       "      <td>148.74173</td>\n",
       "      <td>139.264182</td>\n",
       "      <td>137.372303</td>\n",
       "      <td>158.273673</td>\n",
       "    </tr>\n",
       "    <tr>\n",
       "      <th>11999</th>\n",
       "      <td>66.491813</td>\n",
       "      <td>123.120989</td>\n",
       "      <td>150.204279</td>\n",
       "      <td>83.783708</td>\n",
       "      <td>125.133402</td>\n",
       "      <td>167.491831</td>\n",
       "      <td>106.751319</td>\n",
       "      <td>37.081771</td>\n",
       "      <td>94.783437</td>\n",
       "      <td>144.967539</td>\n",
       "      <td>73.325936</td>\n",
       "      <td>64.828826</td>\n",
       "      <td>76.295598</td>\n",
       "      <td>94.783437</td>\n",
       "      <td>62.468594</td>\n",
       "      <td>23.422214</td>\n",
       "      <td>178.503758</td>\n",
       "      <td>148.273721</td>\n",
       "      <td>140.080094</td>\n",
       "      <td>133.226692</td>\n",
       "    </tr>\n",
       "  </tbody>\n",
       "</table>\n",
       "<p>12000 rows × 20 columns</p>\n",
       "</div>"
      ],
      "text/plain": [
       "            7-6_b       7-5_b       7-4_b       7-3_b       6-6_b       6-5_b  \\\n",
       "0      101.187192  103.099262  119.222565  179.018187   79.847432   89.391454   \n",
       "1       74.894538  129.964461  178.673321  146.778098   97.724752    34.44996   \n",
       "2       92.991996   79.546967  107.646182  126.228173    72.93051  154.426952   \n",
       "3      123.928778  120.242268   68.156396   39.430824  108.547973   73.350423   \n",
       "4      116.379969   84.625422   96.866538  125.272187   106.59079  109.401034   \n",
       "...           ...         ...         ...         ...         ...         ...   \n",
       "11995  124.186847   57.525812   57.647924   19.536273   66.260845   79.424013   \n",
       "11996  115.172971  115.763897  115.633631    90.40282   61.636424  117.177135   \n",
       "11997   44.778323   72.975954   95.323363  128.344526  105.758858  135.635316   \n",
       "11998   55.653531  106.938129  101.022227   95.884114   60.514951   84.991753   \n",
       "11999   66.491813  123.120989  150.204279   83.783708  125.133402  167.491831   \n",
       "\n",
       "            6-4_b       6-3_b       5-6_b       5-3_b       4-6_b       4-3_b  \\\n",
       "0      107.757069   81.182405   78.640646  129.754209   58.189409   74.923808   \n",
       "1       49.761481  102.589813   50.520744   74.078356   35.794742   83.966052   \n",
       "2      113.922911    -2.41937   52.831224  128.595706    120.6895  190.626921   \n",
       "3       54.618994  102.843422   37.893104   84.351866   55.026374   86.704125   \n",
       "4      102.495911   90.704906    90.06311   84.964416  137.815501    5.836878   \n",
       "...           ...         ...         ...         ...         ...         ...   \n",
       "11995   65.902033    82.27569  146.384107  190.087035   47.289029  130.237377   \n",
       "11996   34.596675   44.997978  130.562074  139.014091   132.79441   75.122044   \n",
       "11997   74.157745   51.766305  108.693061   56.835253  118.717033   87.153786   \n",
       "11998  145.426968   49.160619  130.896776  161.225392   78.217242   83.656657   \n",
       "11999  106.751319   37.081771   94.783437  144.967539   73.325936   64.828826   \n",
       "\n",
       "            3-6_b       3-5_b       3-4_b       3-3_b       2-6_b       2-5_b  \\\n",
       "0      144.776814  105.524146   68.233672   99.481752  171.025689  118.362844   \n",
       "1       97.724752   65.512807   99.530687   83.444227  160.487421  144.891504   \n",
       "2       74.652937   66.559807   88.063349   46.842818  113.619137  160.112195   \n",
       "3      100.004664   117.80171    62.34795   46.526868   65.594518  125.194205   \n",
       "4       54.250645   90.159045   64.338039   82.356298  115.074048  124.989781   \n",
       "...           ...         ...         ...         ...         ...         ...   \n",
       "11995   73.113701   67.488517   91.952968  114.923121  174.932827  115.129123   \n",
       "11996  102.428105  126.422981  100.656872   70.384405    79.22969  137.068022   \n",
       "11997   79.689144   83.162163  102.587809   68.251705  118.500005   51.316042   \n",
       "11998   77.097269   85.346937   80.692469   83.192614   148.74173  139.264182   \n",
       "11999   76.295598   94.783437   62.468594   23.422214  178.503758  148.273721   \n",
       "\n",
       "            2-4_b       2-3_b  \n",
       "0         56.7944   87.124795  \n",
       "1      136.717592   71.395873  \n",
       "2       70.839976   66.113585  \n",
       "3      116.542493  148.337531  \n",
       "4      134.981561   57.006362  \n",
       "...           ...         ...  \n",
       "11995   85.610907   56.399221  \n",
       "11996   90.916698   68.869174  \n",
       "11997  154.584718  125.119274  \n",
       "11998  137.372303  158.273673  \n",
       "11999  140.080094  133.226692  \n",
       "\n",
       "[12000 rows x 20 columns]"
      ]
     },
     "execution_count": 4,
     "metadata": {},
     "output_type": "execute_result"
    }
   ],
   "source": [
    "cols = np.array([\n",
    "    \"7-6_b\", \"7-5_b\", \"7-4_b\", \"7-3_b\",\n",
    "    \"6-6_b\", \"6-5_b\", \"6-4_b\", \"6-3_b\",\n",
    "    \"5-6_b\", \"5-3_b\", \"4-6_b\", \"4-3_b\",\n",
    "    \"3-6_b\", \"3-5_b\", \"3-4_b\", \"3-3_b\",\n",
    "    \"2-6_b\", \"2-5_b\", \"2-4_b\", \"2-3_b\"\n",
    "])\n",
    "sdf = pd.DataFrame([], columns=cols)\n",
    "ss = []\n",
    "for i in range(12000):\n",
    "    s = np.random.normal(mu,sig,500)\n",
    "    s20 = np.random.choice(s, size=20)\n",
    "    s20_burn = s20*col_type\n",
    "    sdf.loc[i,:] = s20_burn\n",
    "sdf"
   ]
  },
  {
   "cell_type": "code",
   "execution_count": 5,
   "id": "6fdb323c-4ccd-44dc-9ad8-8fdfa8d2ffcd",
   "metadata": {},
   "outputs": [],
   "source": [
    "sdf.to_excel(\"burnup_only.xlsx\") "
   ]
  },
  {
   "cell_type": "code",
   "execution_count": null,
   "id": "51e0f7df-22b2-474b-a69e-6bca24decb3f",
   "metadata": {},
   "outputs": [],
   "source": []
  }
 ],
 "metadata": {
  "kernelspec": {
   "display_name": "Python 3 (ipykernel)",
   "language": "python",
   "name": "python3"
  },
  "language_info": {
   "codemirror_mode": {
    "name": "ipython",
    "version": 3
   },
   "file_extension": ".py",
   "mimetype": "text/x-python",
   "name": "python",
   "nbconvert_exporter": "python",
   "pygments_lexer": "ipython3",
   "version": "3.10.0"
  }
 },
 "nbformat": 4,
 "nbformat_minor": 5
}
