{
 "cells": [
  {
   "cell_type": "code",
   "execution_count": 3,
   "id": "202a7e91-6fb8-4027-bf0f-2b647ef865bb",
   "metadata": {},
   "outputs": [],
   "source": [
    "import pandas as pd\n",
    "import seaborn as sns"
   ]
  },
  {
   "cell_type": "code",
   "execution_count": 4,
   "id": "abe87e6c-202d-4cf6-87a4-fc52bfad2765",
   "metadata": {},
   "outputs": [],
   "source": [
    "df_raw = pd.read_csv(\"15052023.csv\")"
   ]
  },
  {
   "cell_type": "code",
   "execution_count": 5,
   "id": "ecc32931-8169-494a-9bfa-63d0964146fe",
   "metadata": {},
   "outputs": [
    {
     "data": {
      "text/html": [
       "<div>\n",
       "<style scoped>\n",
       "    .dataframe tbody tr th:only-of-type {\n",
       "        vertical-align: middle;\n",
       "    }\n",
       "\n",
       "    .dataframe tbody tr th {\n",
       "        vertical-align: top;\n",
       "    }\n",
       "\n",
       "    .dataframe thead th {\n",
       "        text-align: right;\n",
       "    }\n",
       "</style>\n",
       "<table border=\"1\" class=\"dataframe\">\n",
       "  <thead>\n",
       "    <tr style=\"text-align: right;\">\n",
       "      <th></th>\n",
       "      <th>id</th>\n",
       "      <th>t</th>\n",
       "      <th>v</th>\n",
       "      <th>q</th>\n",
       "      <th>l</th>\n",
       "    </tr>\n",
       "  </thead>\n",
       "  <tbody>\n",
       "    <tr>\n",
       "      <th>0</th>\n",
       "      <td>0</td>\n",
       "      <td>2023-05-15 11:19:59.560</td>\n",
       "      <td>0.000000</td>\n",
       "      <td>2147483664</td>\n",
       "      <td>0</td>\n",
       "    </tr>\n",
       "    <tr>\n",
       "      <th>1</th>\n",
       "      <td>0</td>\n",
       "      <td>2023-05-15 11:21:26.365</td>\n",
       "      <td>0.000000</td>\n",
       "      <td>2147483680</td>\n",
       "      <td>0</td>\n",
       "    </tr>\n",
       "    <tr>\n",
       "      <th>2</th>\n",
       "      <td>0</td>\n",
       "      <td>2023-05-15 11:21:55.391</td>\n",
       "      <td>-4.311339</td>\n",
       "      <td>16</td>\n",
       "      <td>0</td>\n",
       "    </tr>\n",
       "    <tr>\n",
       "      <th>3</th>\n",
       "      <td>0</td>\n",
       "      <td>2023-05-15 11:21:57.321</td>\n",
       "      <td>-4.281511</td>\n",
       "      <td>0</td>\n",
       "      <td>0</td>\n",
       "    </tr>\n",
       "    <tr>\n",
       "      <th>4</th>\n",
       "      <td>0</td>\n",
       "      <td>2023-05-15 11:21:58.331</td>\n",
       "      <td>-4.278673</td>\n",
       "      <td>0</td>\n",
       "      <td>0</td>\n",
       "    </tr>\n",
       "    <tr>\n",
       "      <th>...</th>\n",
       "      <td>...</td>\n",
       "      <td>...</td>\n",
       "      <td>...</td>\n",
       "      <td>...</td>\n",
       "      <td>...</td>\n",
       "    </tr>\n",
       "    <tr>\n",
       "      <th>148100</th>\n",
       "      <td>18</td>\n",
       "      <td>2023-05-15 15:21:45.945</td>\n",
       "      <td>4.360000</td>\n",
       "      <td>0</td>\n",
       "      <td>3</td>\n",
       "    </tr>\n",
       "    <tr>\n",
       "      <th>148101</th>\n",
       "      <td>18</td>\n",
       "      <td>2023-05-15 15:21:46.945</td>\n",
       "      <td>4.400000</td>\n",
       "      <td>0</td>\n",
       "      <td>3</td>\n",
       "    </tr>\n",
       "    <tr>\n",
       "      <th>148102</th>\n",
       "      <td>18</td>\n",
       "      <td>2023-05-15 18:54:08.325</td>\n",
       "      <td>4.400000</td>\n",
       "      <td>32</td>\n",
       "      <td>3</td>\n",
       "    </tr>\n",
       "    <tr>\n",
       "      <th>148103</th>\n",
       "      <td>18</td>\n",
       "      <td>2023-05-15 18:56:17.379</td>\n",
       "      <td>4.400000</td>\n",
       "      <td>16</td>\n",
       "      <td>3</td>\n",
       "    </tr>\n",
       "    <tr>\n",
       "      <th>148104</th>\n",
       "      <td>18</td>\n",
       "      <td>2023-05-15 19:00:30.293</td>\n",
       "      <td>4.400000</td>\n",
       "      <td>32</td>\n",
       "      <td>3</td>\n",
       "    </tr>\n",
       "  </tbody>\n",
       "</table>\n",
       "<p>148105 rows × 5 columns</p>\n",
       "</div>"
      ],
      "text/plain": [
       "        id                        t         v           q  l\n",
       "0        0  2023-05-15 11:19:59.560  0.000000  2147483664  0\n",
       "1        0  2023-05-15 11:21:26.365  0.000000  2147483680  0\n",
       "2        0  2023-05-15 11:21:55.391 -4.311339          16  0\n",
       "3        0  2023-05-15 11:21:57.321 -4.281511           0  0\n",
       "4        0  2023-05-15 11:21:58.331 -4.278673           0  0\n",
       "...     ..                      ...       ...         ... ..\n",
       "148100  18  2023-05-15 15:21:45.945  4.360000           0  3\n",
       "148101  18  2023-05-15 15:21:46.945  4.400000           0  3\n",
       "148102  18  2023-05-15 18:54:08.325  4.400000          32  3\n",
       "148103  18  2023-05-15 18:56:17.379  4.400000          16  3\n",
       "148104  18  2023-05-15 19:00:30.293  4.400000          32  3\n",
       "\n",
       "[148105 rows x 5 columns]"
      ]
     },
     "execution_count": 5,
     "metadata": {},
     "output_type": "execute_result"
    }
   ],
   "source": [
    "df_raw"
   ]
  },
  {
   "cell_type": "code",
   "execution_count": 6,
   "id": "f7ea4249-265e-4171-85a4-5ef7980bfcb3",
   "metadata": {},
   "outputs": [],
   "source": [
    "df_raw = df_raw[(df_raw[\"id\"] == 3) | (df_raw[\"id\"] == 12)]"
   ]
  },
  {
   "cell_type": "code",
   "execution_count": 7,
   "id": "794984cd-7498-4677-ab9c-5224e240b207",
   "metadata": {},
   "outputs": [
    {
     "data": {
      "text/html": [
       "<div>\n",
       "<style scoped>\n",
       "    .dataframe tbody tr th:only-of-type {\n",
       "        vertical-align: middle;\n",
       "    }\n",
       "\n",
       "    .dataframe tbody tr th {\n",
       "        vertical-align: top;\n",
       "    }\n",
       "\n",
       "    .dataframe thead th {\n",
       "        text-align: right;\n",
       "    }\n",
       "</style>\n",
       "<table border=\"1\" class=\"dataframe\">\n",
       "  <thead>\n",
       "    <tr style=\"text-align: right;\">\n",
       "      <th></th>\n",
       "      <th>id</th>\n",
       "      <th>t</th>\n",
       "      <th>v</th>\n",
       "      <th>q</th>\n",
       "      <th>l</th>\n",
       "    </tr>\n",
       "  </thead>\n",
       "  <tbody>\n",
       "    <tr>\n",
       "      <th>39432</th>\n",
       "      <td>3</td>\n",
       "      <td>2023-05-15 11:19:50.705</td>\n",
       "      <td>1.000000e-09</td>\n",
       "      <td>16</td>\n",
       "      <td>0</td>\n",
       "    </tr>\n",
       "    <tr>\n",
       "      <th>39433</th>\n",
       "      <td>3</td>\n",
       "      <td>2023-05-15 11:19:51.705</td>\n",
       "      <td>-1.400000e-07</td>\n",
       "      <td>0</td>\n",
       "      <td>0</td>\n",
       "    </tr>\n",
       "    <tr>\n",
       "      <th>39434</th>\n",
       "      <td>3</td>\n",
       "      <td>2023-05-15 11:19:58.582</td>\n",
       "      <td>-1.400000e-07</td>\n",
       "      <td>0</td>\n",
       "      <td>0</td>\n",
       "    </tr>\n",
       "    <tr>\n",
       "      <th>39435</th>\n",
       "      <td>3</td>\n",
       "      <td>2023-05-15 11:19:59.582</td>\n",
       "      <td>8.600000e-07</td>\n",
       "      <td>0</td>\n",
       "      <td>0</td>\n",
       "    </tr>\n",
       "    <tr>\n",
       "      <th>39436</th>\n",
       "      <td>3</td>\n",
       "      <td>2023-05-15 11:21:26.365</td>\n",
       "      <td>8.600000e-07</td>\n",
       "      <td>32</td>\n",
       "      <td>0</td>\n",
       "    </tr>\n",
       "    <tr>\n",
       "      <th>...</th>\n",
       "      <td>...</td>\n",
       "      <td>...</td>\n",
       "      <td>...</td>\n",
       "      <td>...</td>\n",
       "      <td>...</td>\n",
       "    </tr>\n",
       "    <tr>\n",
       "      <th>113463</th>\n",
       "      <td>12</td>\n",
       "      <td>2023-05-15 18:54:08.325</td>\n",
       "      <td>1.577864e-08</td>\n",
       "      <td>32</td>\n",
       "      <td>3</td>\n",
       "    </tr>\n",
       "    <tr>\n",
       "      <th>113464</th>\n",
       "      <td>12</td>\n",
       "      <td>2023-05-15 18:56:17.379</td>\n",
       "      <td>1.000000e-09</td>\n",
       "      <td>16</td>\n",
       "      <td>3</td>\n",
       "    </tr>\n",
       "    <tr>\n",
       "      <th>113465</th>\n",
       "      <td>12</td>\n",
       "      <td>2023-05-15 18:56:18.379</td>\n",
       "      <td>-1.200000e-07</td>\n",
       "      <td>0</td>\n",
       "      <td>3</td>\n",
       "    </tr>\n",
       "    <tr>\n",
       "      <th>113466</th>\n",
       "      <td>12</td>\n",
       "      <td>2023-05-15 18:56:26.033</td>\n",
       "      <td>8.800000e-07</td>\n",
       "      <td>0</td>\n",
       "      <td>3</td>\n",
       "    </tr>\n",
       "    <tr>\n",
       "      <th>113467</th>\n",
       "      <td>12</td>\n",
       "      <td>2023-05-15 19:00:30.293</td>\n",
       "      <td>8.800000e-07</td>\n",
       "      <td>32</td>\n",
       "      <td>3</td>\n",
       "    </tr>\n",
       "  </tbody>\n",
       "</table>\n",
       "<p>34411 rows × 5 columns</p>\n",
       "</div>"
      ],
      "text/plain": [
       "        id                        t             v   q  l\n",
       "39432    3  2023-05-15 11:19:50.705  1.000000e-09  16  0\n",
       "39433    3  2023-05-15 11:19:51.705 -1.400000e-07   0  0\n",
       "39434    3  2023-05-15 11:19:58.582 -1.400000e-07   0  0\n",
       "39435    3  2023-05-15 11:19:59.582  8.600000e-07   0  0\n",
       "39436    3  2023-05-15 11:21:26.365  8.600000e-07  32  0\n",
       "...     ..                      ...           ...  .. ..\n",
       "113463  12  2023-05-15 18:54:08.325  1.577864e-08  32  3\n",
       "113464  12  2023-05-15 18:56:17.379  1.000000e-09  16  3\n",
       "113465  12  2023-05-15 18:56:18.379 -1.200000e-07   0  3\n",
       "113466  12  2023-05-15 18:56:26.033  8.800000e-07   0  3\n",
       "113467  12  2023-05-15 19:00:30.293  8.800000e-07  32  3\n",
       "\n",
       "[34411 rows x 5 columns]"
      ]
     },
     "execution_count": 7,
     "metadata": {},
     "output_type": "execute_result"
    }
   ],
   "source": [
    "df_raw"
   ]
  },
  {
   "cell_type": "code",
   "execution_count": 8,
   "id": "3c262ebf-2d66-4abe-8380-dbdd372b8618",
   "metadata": {},
   "outputs": [
    {
     "name": "stderr",
     "output_type": "stream",
     "text": [
      "/tmp/ipykernel_12583/3433744275.py:1: SettingWithCopyWarning: \n",
      "A value is trying to be set on a copy of a slice from a DataFrame.\n",
      "Try using .loc[row_indexer,col_indexer] = value instead\n",
      "\n",
      "See the caveats in the documentation: https://pandas.pydata.org/pandas-docs/stable/user_guide/indexing.html#returning-a-view-versus-a-copy\n",
      "  df_raw[\"t\"] = pd.to_datetime(df_raw[\"t\"])\n"
     ]
    }
   ],
   "source": [
    "df_raw[\"t\"] = pd.to_datetime(df_raw[\"t\"]) "
   ]
  },
  {
   "cell_type": "code",
   "execution_count": 9,
   "id": "285b0518-3356-4551-bc4f-e828d060ce8b",
   "metadata": {},
   "outputs": [],
   "source": [
    "df_raw = df_raw[(df_raw[\"t\"] > \"2023-05-15 15:00\") & (df_raw[\"t\"] < \"2023-05-15 19:00\")] "
   ]
  },
  {
   "cell_type": "code",
   "execution_count": 14,
   "id": "725fc597-4592-4023-ab2e-2033d84ce1ef",
   "metadata": {},
   "outputs": [
    {
     "name": "stderr",
     "output_type": "stream",
     "text": [
      "/home/mrzlka/.pyenv/versions/3.10.0/envs/core_uniniformity/lib/python3.10/site-packages/seaborn/_oldcore.py:1498: FutureWarning: is_categorical_dtype is deprecated and will be removed in a future version. Use isinstance(dtype, CategoricalDtype) instead\n",
      "  if pd.api.types.is_categorical_dtype(vector):\n",
      "/home/mrzlka/.pyenv/versions/3.10.0/envs/core_uniniformity/lib/python3.10/site-packages/seaborn/_oldcore.py:1498: FutureWarning: is_categorical_dtype is deprecated and will be removed in a future version. Use isinstance(dtype, CategoricalDtype) instead\n",
      "  if pd.api.types.is_categorical_dtype(vector):\n",
      "/home/mrzlka/.pyenv/versions/3.10.0/envs/core_uniniformity/lib/python3.10/site-packages/seaborn/_oldcore.py:1119: FutureWarning: use_inf_as_na option is deprecated and will be removed in a future version. Convert inf values to NaN before operating instead.\n",
      "  with pd.option_context('mode.use_inf_as_na', True):\n",
      "/home/mrzlka/.pyenv/versions/3.10.0/envs/core_uniniformity/lib/python3.10/site-packages/seaborn/_oldcore.py:1119: FutureWarning: use_inf_as_na option is deprecated and will be removed in a future version. Convert inf values to NaN before operating instead.\n",
      "  with pd.option_context('mode.use_inf_as_na', True):\n"
     ]
    },
    {
     "data": {
      "text/plain": [
       "5.705030923639551e-07"
      ]
     },
     "execution_count": 14,
     "metadata": {},
     "output_type": "execute_result"
    },
    {
     "data": {
      "image/png": "[encoded data removed]",
      "text/plain": [
       "<Figure size 640x480 with 1 Axes>"
      ]
     },
     "metadata": {},
     "output_type": "display_data"
    }
   ],
   "source": [
    "power3MW_ICH1 = df_raw[\"v\"][(df_raw[\"id\"] == 3) & (df_raw[\"t\"] > \"2023-05-15 16:30\") & (df_raw[\"t\"] < \"2023-05-15 16:45\")]\n",
    "power3MW_ICH1mean = power3MW_ICH1.mean()\n",
    "sns.lineplot(power3MW_ICH1)\n",
    "power3MW_ICH1mean"
   ]
  },
  {
   "cell_type": "code",
   "execution_count": 15,
   "id": "0473f86b-fc49-4e03-9079-18751f63758f",
   "metadata": {},
   "outputs": [
    {
     "name": "stderr",
     "output_type": "stream",
     "text": [
      "/home/mrzlka/.pyenv/versions/3.10.0/envs/core_uniniformity/lib/python3.10/site-packages/seaborn/_oldcore.py:1498: FutureWarning: is_categorical_dtype is deprecated and will be removed in a future version. Use isinstance(dtype, CategoricalDtype) instead\n",
      "  if pd.api.types.is_categorical_dtype(vector):\n",
      "/home/mrzlka/.pyenv/versions/3.10.0/envs/core_uniniformity/lib/python3.10/site-packages/seaborn/_oldcore.py:1498: FutureWarning: is_categorical_dtype is deprecated and will be removed in a future version. Use isinstance(dtype, CategoricalDtype) instead\n",
      "  if pd.api.types.is_categorical_dtype(vector):\n",
      "/home/mrzlka/.pyenv/versions/3.10.0/envs/core_uniniformity/lib/python3.10/site-packages/seaborn/_oldcore.py:1119: FutureWarning: use_inf_as_na option is deprecated and will be removed in a future version. Convert inf values to NaN before operating instead.\n",
      "  with pd.option_context('mode.use_inf_as_na', True):\n",
      "/home/mrzlka/.pyenv/versions/3.10.0/envs/core_uniniformity/lib/python3.10/site-packages/seaborn/_oldcore.py:1119: FutureWarning: use_inf_as_na option is deprecated and will be removed in a future version. Convert inf values to NaN before operating instead.\n",
      "  with pd.option_context('mode.use_inf_as_na', True):\n"
     ]
    },
    {
     "data": {
      "text/plain": [
       "6.351895231897327e-07"
      ]
     },
     "execution_count": 15,
     "metadata": {},
     "output_type": "execute_result"
    },
    {
     "data": {
      "image/png": "[encoded data removed]",
      "text/plain": [
       "<Figure size 640x480 with 1 Axes>"
      ]
     },
     "metadata": {},
     "output_type": "display_data"
    }
   ],
   "source": [
    "power3MW_ICH2 = df_raw[\"v\"][(df_raw[\"id\"] == 12) & (df_raw[\"t\"] > \"2023-05-15 16:30\") & (df_raw[\"t\"] < \"2023-05-15 16:45\")]\n",
    "power3MW_ICH2mean = power3MW_ICH2.mean()\n",
    "sns.lineplot(power3MW_ICH2)\n",
    "power3MW_ICH2mean"
   ]
  },
  {
   "cell_type": "code",
   "execution_count": 23,
   "id": "e6ea705d-e007-4011-ab3c-e1466a1575de",
   "metadata": {},
   "outputs": [],
   "source": [
    "flux12kW = 2.69E+08"
   ]
  },
  {
   "cell_type": "code",
   "execution_count": null,
   "id": "81f4d1d6-73e3-4d51-bf55-b43cec0cc8e1",
   "metadata": {},
   "outputs": [],
   "source": []
  },
  {
   "cell_type": "code",
   "execution_count": 28,
   "id": "6e5fbe53-0dc2-4508-bf11-38eb5d4059d1",
   "metadata": {},
   "outputs": [
    {
     "name": "stdout",
     "output_type": "stream",
     "text": [
      "2.69e+08\n",
      "2.24e+10\n",
      "6.72e+10\n",
      "1.12e+11\n",
      "1.34e+11\n",
      "3.72e+08\n",
      "3.10e+10\n",
      "9.30e+10\n",
      "1.55e+11\n",
      "1.86e+11\n"
     ]
    }
   ],
   "source": [
    "for i in [12, 1000, 3000, 5000, 6000]:\n",
    "    v = \"{:.2e}\".format(flux12kW*i/12)    \n",
    "    print(v)\n",
    "for i in [12, 1000, 3000, 5000, 6000]:\n",
    "    v = \"{:.2e}\".format(1.86E+11*i/6000)\n",
    "    print(v)\n"
   ]
  },
  {
   "cell_type": "code",
   "execution_count": null,
   "id": "da8acd53-d432-4375-9b79-da0d94e9194c",
   "metadata": {},
   "outputs": [],
   "source": []
  }
 ],
 "metadata": {
  "kernelspec": {
   "display_name": "Python 3 (ipykernel)",
   "language": "python",
   "name": "python3"
  },
  "language_info": {
   "codemirror_mode": {
    "name": "ipython",
    "version": 3
   },
   "file_extension": ".py",
   "mimetype": "text/x-python",
   "name": "python",
   "nbconvert_exporter": "python",
   "pygments_lexer": "ipython3",
   "version": "3.10.0"
  }
 },
 "nbformat": 4,
 "nbformat_minor": 5
}
