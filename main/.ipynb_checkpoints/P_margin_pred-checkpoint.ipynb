{
 "cells": [
  {
   "cell_type": "markdown",
   "id": "947d313f-e731-4f11-9c59-70cb8214cd2f",
   "metadata": {},
   "source": [
    "# Concept to predict (generate) p margin upon burnup core configuration"
   ]
  },
  {
   "cell_type": "code",
   "execution_count": 10,
   "id": "b0c69ea6-284e-421c-80e5-77eeb78c6aa2",
   "metadata": {},
   "outputs": [],
   "source": [
    "import os\n",
    "import sys\n",
    "\n",
    "sys.path.append(os.path.abspath(os.path.join('..'))) # imports top level\n",
    "\n",
    "import pandas as pd\n",
    "import seaborn as sns\n",
    "import matplotlib.pyplot as plt\n",
    "import numpy as np\n",
    "import display\n",
    "import scipy"
   ]
  },
  {
   "cell_type": "code",
   "execution_count": 11,
   "id": "38da0a46-363b-46b4-9255-ce7f027c8f7d",
   "metadata": {},
   "outputs": [],
   "source": [
    "\n",
    "df = pd.read_excel(\"input.xlsx\", sheet_name=\"no_burnup\")"
   ]
  },
  {
   "cell_type": "code",
   "execution_count": 12,
   "id": "bba5a2e1-4461-440a-943e-f838d304c239",
   "metadata": {},
   "outputs": [
    {
     "data": {
      "text/plain": [
       "Index(['Name', '7-6_s', '7-5_s', '7-4_s', '7-3_s', '6-6_s', '6-5_s', '6-4_s',\n",
       "       '6-3_s', '5-6_s', '5-3_s', '4-6_s', '4-3_s', '3-6_s', '3-5_s', '3-4_s',\n",
       "       '3-3_s', '2-6_s', '2-5_s', '2-4_s', '2-3_s', '7-6_b', '7-5_b', '7-4_b',\n",
       "       '7-3_b', '6-6_b', '6-5_b', '6-4_b', '6-3_b', '5-6_b', '5-3_b', '4-6_b',\n",
       "       '4-3_b', '3-6_b', '3-5_b', '3-4_b', '3-3_b', '2-6_b', '2-5_b', '2-4_b',\n",
       "       '2-3_b', '7-6_t', '7-5_t', '7-4_t', '7-3_t', '6-6_t', '6-5_t', '6-4_t',\n",
       "       '6-3_t', '5-6_t', '5-3_t', '4-6_t', '4-3_t', '3-6_t', '3-5_t', '3-4_t',\n",
       "       '3-3_t', '2-6_t', '2-5_t', '2-4_t', '2-3_t', 'p_mar'],\n",
       "      dtype='object')"
      ]
     },
     "execution_count": 12,
     "metadata": {},
     "output_type": "execute_result"
    }
   ],
   "source": [
    "df.columns"
   ]
  },
  {
   "cell_type": "code",
   "execution_count": 13,
   "id": "b7d8910c-6035-4949-afae-38ece8db37e6",
   "metadata": {},
   "outputs": [
    {
     "name": "stdout",
     "output_type": "stream",
     "text": [
      "The columns with prefix  are not in DataFrame\n",
      "The columns with prefix None are not in DataFrame\n"
     ]
    }
   ],
   "source": [
    "d = display.Display(df=df)\n",
    "d.quick_processing()"
   ]
  },
  {
   "cell_type": "code",
   "execution_count": 14,
   "id": "bc889039-65ff-4c12-8fc7-d5fe4d557c9c",
   "metadata": {},
   "outputs": [],
   "source": [
    "df = d.df"
   ]
  },
  {
   "cell_type": "markdown",
   "id": "0245b5bf-3da9-43b8-9e07-796d6b1d2430",
   "metadata": {},
   "source": [
    "# Predicting p margin"
   ]
  },
  {
   "cell_type": "code",
   "execution_count": 28,
   "id": "1abfaa2a-2fbe-4e58-b6e0-7907c1c2e81f",
   "metadata": {},
   "outputs": [],
   "source": [
    "from sklearn.compose import ColumnTransformer\n",
    "from sklearn.preprocessing import StandardScaler, OrdinalEncoder, Normalizer, PowerTransformer, MinMaxScaler\n",
    "from sklearn.model_selection import train_test_split\n",
    "\n",
    "from sklearn.ensemble import GradientBoostingRegressor, AdaBoostRegressor\n",
    "from sklearn.tree import DecisionTreeRegressor\n",
    "from sklearn.linear_model import Ridge, Lasso, ElasticNet, BayesianRidge, SGDRegressor\n",
    "from sklearn.svm import SVR\n",
    "from sklearn.ensemble import RandomForestRegressor, StackingRegressor\n",
    "from sklearn.gaussian_process import GaussianProcessRegressor\n",
    "from sklearn.gaussian_process.kernels import (\n",
    "    RBF, WhiteKernel, ExpSineSquared, RationalQuadratic, Exponentiation, PairwiseKernel, Matern,\n",
    "    \n",
    ")\n",
    "\n",
    "from sklearn.pipeline import make_pipeline, Pipeline\n",
    "from sklearn.model_selection import GridSearchCV\n",
    "\n",
    "from sklearn.metrics import mean_absolute_error, mean_absolute_percentage_error, r2_score"
   ]
  },
  {
   "cell_type": "code",
   "execution_count": 18,
   "id": "7cc6149c-a85e-4966-b398-4a4672471107",
   "metadata": {},
   "outputs": [],
   "source": [
    "df_p = df.loc[\n",
    "    :, \n",
    "    [\n",
    "        \"p_mar\",\n",
    "        *d.CORE_PARTS[\"left\"][\"ALL_CELLS\"],\n",
    "        \"average_l\",\n",
    "        \"average_b\",\n",
    "    ]\n",
    "]"
   ]
  },
  {
   "cell_type": "code",
   "execution_count": 19,
   "id": "1e49ff94-8e0a-4d38-ac2d-1340622bc449",
   "metadata": {},
   "outputs": [
    {
     "data": {
      "text/html": [
       "<div>\n",
       "<style scoped>\n",
       "    .dataframe tbody tr th:only-of-type {\n",
       "        vertical-align: middle;\n",
       "    }\n",
       "\n",
       "    .dataframe tbody tr th {\n",
       "        vertical-align: top;\n",
       "    }\n",
       "\n",
       "    .dataframe thead th {\n",
       "        text-align: right;\n",
       "    }\n",
       "</style>\n",
       "<table border=\"1\" class=\"dataframe\">\n",
       "  <thead>\n",
       "    <tr style=\"text-align: right;\">\n",
       "      <th></th>\n",
       "      <th>p_mar</th>\n",
       "      <th>7-6_l</th>\n",
       "      <th>7-5_l</th>\n",
       "      <th>7-4_l</th>\n",
       "      <th>7-3_l</th>\n",
       "      <th>6-6_l</th>\n",
       "      <th>6-5_l</th>\n",
       "      <th>6-4_l</th>\n",
       "      <th>6-3_l</th>\n",
       "      <th>5-6_l</th>\n",
       "      <th>...</th>\n",
       "      <th>3-6_l</th>\n",
       "      <th>3-5_l</th>\n",
       "      <th>3-4_l</th>\n",
       "      <th>3-3_l</th>\n",
       "      <th>2-6_l</th>\n",
       "      <th>2-5_l</th>\n",
       "      <th>2-4_l</th>\n",
       "      <th>2-3_l</th>\n",
       "      <th>average_l</th>\n",
       "      <th>average_b</th>\n",
       "    </tr>\n",
       "  </thead>\n",
       "  <tbody>\n",
       "    <tr>\n",
       "      <th>0</th>\n",
       "      <td>6.698140</td>\n",
       "      <td>244.74</td>\n",
       "      <td>212.04</td>\n",
       "      <td>234.36</td>\n",
       "      <td>192.33</td>\n",
       "      <td>167.9835</td>\n",
       "      <td>201.9300</td>\n",
       "      <td>226.2570</td>\n",
       "      <td>130.1150</td>\n",
       "      <td>166.2875</td>\n",
       "      <td>...</td>\n",
       "      <td>179.7230</td>\n",
       "      <td>226.2570</td>\n",
       "      <td>168.3810</td>\n",
       "      <td>183.7510</td>\n",
       "      <td>188.67</td>\n",
       "      <td>145.83</td>\n",
       "      <td>199.05</td>\n",
       "      <td>188.88</td>\n",
       "      <td>188.644250</td>\n",
       "      <td>95.605750</td>\n",
       "    </tr>\n",
       "    <tr>\n",
       "      <th>1</th>\n",
       "      <td>3.613529</td>\n",
       "      <td>97.44</td>\n",
       "      <td>164.85</td>\n",
       "      <td>172.68</td>\n",
       "      <td>242.31</td>\n",
       "      <td>113.3140</td>\n",
       "      <td>200.2340</td>\n",
       "      <td>136.8990</td>\n",
       "      <td>148.6650</td>\n",
       "      <td>180.3325</td>\n",
       "      <td>...</td>\n",
       "      <td>136.8990</td>\n",
       "      <td>116.8385</td>\n",
       "      <td>238.8180</td>\n",
       "      <td>152.3750</td>\n",
       "      <td>212.10</td>\n",
       "      <td>212.16</td>\n",
       "      <td>171.72</td>\n",
       "      <td>190.74</td>\n",
       "      <td>171.748750</td>\n",
       "      <td>112.501250</td>\n",
       "    </tr>\n",
       "    <tr>\n",
       "      <th>2</th>\n",
       "      <td>5.010686</td>\n",
       "      <td>243.96</td>\n",
       "      <td>212.94</td>\n",
       "      <td>189.51</td>\n",
       "      <td>152.94</td>\n",
       "      <td>180.3060</td>\n",
       "      <td>165.0950</td>\n",
       "      <td>96.8840</td>\n",
       "      <td>197.6635</td>\n",
       "      <td>143.7095</td>\n",
       "      <td>...</td>\n",
       "      <td>214.1995</td>\n",
       "      <td>207.0180</td>\n",
       "      <td>143.8685</td>\n",
       "      <td>152.0835</td>\n",
       "      <td>193.68</td>\n",
       "      <td>215.04</td>\n",
       "      <td>205.77</td>\n",
       "      <td>141.30</td>\n",
       "      <td>183.272375</td>\n",
       "      <td>100.977625</td>\n",
       "    </tr>\n",
       "    <tr>\n",
       "      <th>3</th>\n",
       "      <td>5.671946</td>\n",
       "      <td>166.80</td>\n",
       "      <td>189.00</td>\n",
       "      <td>228.36</td>\n",
       "      <td>170.85</td>\n",
       "      <td>210.5955</td>\n",
       "      <td>180.7830</td>\n",
       "      <td>180.0410</td>\n",
       "      <td>215.0740</td>\n",
       "      <td>232.0075</td>\n",
       "      <td>...</td>\n",
       "      <td>184.5460</td>\n",
       "      <td>168.4340</td>\n",
       "      <td>227.4495</td>\n",
       "      <td>166.2875</td>\n",
       "      <td>160.56</td>\n",
       "      <td>125.58</td>\n",
       "      <td>231.72</td>\n",
       "      <td>199.11</td>\n",
       "      <td>183.948900</td>\n",
       "      <td>100.301100</td>\n",
       "    </tr>\n",
       "    <tr>\n",
       "      <th>4</th>\n",
       "      <td>7.741418</td>\n",
       "      <td>170.85</td>\n",
       "      <td>213.99</td>\n",
       "      <td>236.49</td>\n",
       "      <td>182.94</td>\n",
       "      <td>140.0790</td>\n",
       "      <td>208.5550</td>\n",
       "      <td>144.6370</td>\n",
       "      <td>150.9175</td>\n",
       "      <td>186.8780</td>\n",
       "      <td>...</td>\n",
       "      <td>161.5175</td>\n",
       "      <td>171.0045</td>\n",
       "      <td>107.1660</td>\n",
       "      <td>234.2335</td>\n",
       "      <td>226.86</td>\n",
       "      <td>240.42</td>\n",
       "      <td>165.30</td>\n",
       "      <td>221.49</td>\n",
       "      <td>194.832400</td>\n",
       "      <td>89.417600</td>\n",
       "    </tr>\n",
       "    <tr>\n",
       "      <th>...</th>\n",
       "      <td>...</td>\n",
       "      <td>...</td>\n",
       "      <td>...</td>\n",
       "      <td>...</td>\n",
       "      <td>...</td>\n",
       "      <td>...</td>\n",
       "      <td>...</td>\n",
       "      <td>...</td>\n",
       "      <td>...</td>\n",
       "      <td>...</td>\n",
       "      <td>...</td>\n",
       "      <td>...</td>\n",
       "      <td>...</td>\n",
       "      <td>...</td>\n",
       "      <td>...</td>\n",
       "      <td>...</td>\n",
       "      <td>...</td>\n",
       "      <td>...</td>\n",
       "      <td>...</td>\n",
       "      <td>...</td>\n",
       "      <td>...</td>\n",
       "    </tr>\n",
       "    <tr>\n",
       "      <th>542</th>\n",
       "      <td>8.025679</td>\n",
       "      <td>148.65</td>\n",
       "      <td>187.71</td>\n",
       "      <td>156.66</td>\n",
       "      <td>251.19</td>\n",
       "      <td>187.8585</td>\n",
       "      <td>164.9625</td>\n",
       "      <td>190.5880</td>\n",
       "      <td>172.6740</td>\n",
       "      <td>264.1785</td>\n",
       "      <td>...</td>\n",
       "      <td>132.8710</td>\n",
       "      <td>205.9580</td>\n",
       "      <td>168.8580</td>\n",
       "      <td>179.0340</td>\n",
       "      <td>235.35</td>\n",
       "      <td>258.48</td>\n",
       "      <td>135.90</td>\n",
       "      <td>222.78</td>\n",
       "      <td>196.597625</td>\n",
       "      <td>87.652375</td>\n",
       "    </tr>\n",
       "    <tr>\n",
       "      <th>543</th>\n",
       "      <td>7.449398</td>\n",
       "      <td>164.07</td>\n",
       "      <td>143.31</td>\n",
       "      <td>149.31</td>\n",
       "      <td>256.74</td>\n",
       "      <td>139.2310</td>\n",
       "      <td>248.2785</td>\n",
       "      <td>203.0695</td>\n",
       "      <td>178.5305</td>\n",
       "      <td>156.4030</td>\n",
       "      <td>...</td>\n",
       "      <td>255.4865</td>\n",
       "      <td>137.3495</td>\n",
       "      <td>218.4395</td>\n",
       "      <td>120.6810</td>\n",
       "      <td>230.64</td>\n",
       "      <td>198.42</td>\n",
       "      <td>218.43</td>\n",
       "      <td>205.11</td>\n",
       "      <td>193.393450</td>\n",
       "      <td>90.856550</td>\n",
       "    </tr>\n",
       "    <tr>\n",
       "      <th>544</th>\n",
       "      <td>6.174647</td>\n",
       "      <td>245.13</td>\n",
       "      <td>211.89</td>\n",
       "      <td>151.86</td>\n",
       "      <td>218.97</td>\n",
       "      <td>184.3075</td>\n",
       "      <td>224.9055</td>\n",
       "      <td>201.1085</td>\n",
       "      <td>141.0595</td>\n",
       "      <td>159.1855</td>\n",
       "      <td>...</td>\n",
       "      <td>215.6570</td>\n",
       "      <td>224.1105</td>\n",
       "      <td>136.4485</td>\n",
       "      <td>173.2040</td>\n",
       "      <td>215.58</td>\n",
       "      <td>180.42</td>\n",
       "      <td>192.15</td>\n",
       "      <td>144.57</td>\n",
       "      <td>187.261325</td>\n",
       "      <td>96.988675</td>\n",
       "    </tr>\n",
       "    <tr>\n",
       "      <th>545</th>\n",
       "      <td>7.445115</td>\n",
       "      <td>112.02</td>\n",
       "      <td>226.68</td>\n",
       "      <td>212.97</td>\n",
       "      <td>196.95</td>\n",
       "      <td>199.8630</td>\n",
       "      <td>237.5460</td>\n",
       "      <td>216.5845</td>\n",
       "      <td>158.1520</td>\n",
       "      <td>186.2155</td>\n",
       "      <td>...</td>\n",
       "      <td>237.4135</td>\n",
       "      <td>174.9795</td>\n",
       "      <td>167.7715</td>\n",
       "      <td>190.1110</td>\n",
       "      <td>206.46</td>\n",
       "      <td>190.71</td>\n",
       "      <td>167.13</td>\n",
       "      <td>177.78</td>\n",
       "      <td>192.246825</td>\n",
       "      <td>92.003175</td>\n",
       "    </tr>\n",
       "    <tr>\n",
       "      <th>546</th>\n",
       "      <td>0.769040</td>\n",
       "      <td>159.63</td>\n",
       "      <td>155.49</td>\n",
       "      <td>223.53</td>\n",
       "      <td>196.26</td>\n",
       "      <td>194.4835</td>\n",
       "      <td>150.9705</td>\n",
       "      <td>112.0950</td>\n",
       "      <td>111.8565</td>\n",
       "      <td>201.8505</td>\n",
       "      <td>...</td>\n",
       "      <td>170.5805</td>\n",
       "      <td>165.9960</td>\n",
       "      <td>196.3120</td>\n",
       "      <td>53.8215</td>\n",
       "      <td>146.94</td>\n",
       "      <td>151.80</td>\n",
       "      <td>149.19</td>\n",
       "      <td>184.41</td>\n",
       "      <td>160.979300</td>\n",
       "      <td>123.270700</td>\n",
       "    </tr>\n",
       "  </tbody>\n",
       "</table>\n",
       "<p>547 rows × 23 columns</p>\n",
       "</div>"
      ],
      "text/plain": [
       "        p_mar   7-6_l   7-5_l   7-4_l   7-3_l     6-6_l     6-5_l     6-4_l  \\\n",
       "0    6.698140  244.74  212.04  234.36  192.33  167.9835  201.9300  226.2570   \n",
       "1    3.613529   97.44  164.85  172.68  242.31  113.3140  200.2340  136.8990   \n",
       "2    5.010686  243.96  212.94  189.51  152.94  180.3060  165.0950   96.8840   \n",
       "3    5.671946  166.80  189.00  228.36  170.85  210.5955  180.7830  180.0410   \n",
       "4    7.741418  170.85  213.99  236.49  182.94  140.0790  208.5550  144.6370   \n",
       "..        ...     ...     ...     ...     ...       ...       ...       ...   \n",
       "542  8.025679  148.65  187.71  156.66  251.19  187.8585  164.9625  190.5880   \n",
       "543  7.449398  164.07  143.31  149.31  256.74  139.2310  248.2785  203.0695   \n",
       "544  6.174647  245.13  211.89  151.86  218.97  184.3075  224.9055  201.1085   \n",
       "545  7.445115  112.02  226.68  212.97  196.95  199.8630  237.5460  216.5845   \n",
       "546  0.769040  159.63  155.49  223.53  196.26  194.4835  150.9705  112.0950   \n",
       "\n",
       "        6-3_l     5-6_l  ...     3-6_l     3-5_l     3-4_l     3-3_l   2-6_l  \\\n",
       "0    130.1150  166.2875  ...  179.7230  226.2570  168.3810  183.7510  188.67   \n",
       "1    148.6650  180.3325  ...  136.8990  116.8385  238.8180  152.3750  212.10   \n",
       "2    197.6635  143.7095  ...  214.1995  207.0180  143.8685  152.0835  193.68   \n",
       "3    215.0740  232.0075  ...  184.5460  168.4340  227.4495  166.2875  160.56   \n",
       "4    150.9175  186.8780  ...  161.5175  171.0045  107.1660  234.2335  226.86   \n",
       "..        ...       ...  ...       ...       ...       ...       ...     ...   \n",
       "542  172.6740  264.1785  ...  132.8710  205.9580  168.8580  179.0340  235.35   \n",
       "543  178.5305  156.4030  ...  255.4865  137.3495  218.4395  120.6810  230.64   \n",
       "544  141.0595  159.1855  ...  215.6570  224.1105  136.4485  173.2040  215.58   \n",
       "545  158.1520  186.2155  ...  237.4135  174.9795  167.7715  190.1110  206.46   \n",
       "546  111.8565  201.8505  ...  170.5805  165.9960  196.3120   53.8215  146.94   \n",
       "\n",
       "      2-5_l   2-4_l   2-3_l   average_l   average_b  \n",
       "0    145.83  199.05  188.88  188.644250   95.605750  \n",
       "1    212.16  171.72  190.74  171.748750  112.501250  \n",
       "2    215.04  205.77  141.30  183.272375  100.977625  \n",
       "3    125.58  231.72  199.11  183.948900  100.301100  \n",
       "4    240.42  165.30  221.49  194.832400   89.417600  \n",
       "..      ...     ...     ...         ...         ...  \n",
       "542  258.48  135.90  222.78  196.597625   87.652375  \n",
       "543  198.42  218.43  205.11  193.393450   90.856550  \n",
       "544  180.42  192.15  144.57  187.261325   96.988675  \n",
       "545  190.71  167.13  177.78  192.246825   92.003175  \n",
       "546  151.80  149.19  184.41  160.979300  123.270700  \n",
       "\n",
       "[547 rows x 23 columns]"
      ]
     },
     "execution_count": 19,
     "metadata": {},
     "output_type": "execute_result"
    }
   ],
   "source": [
    "df_p"
   ]
  },
  {
   "cell_type": "code",
   "execution_count": 20,
   "id": "1f30e866-a1b4-47ab-bf4c-93b568efb081",
   "metadata": {},
   "outputs": [],
   "source": [
    "y_p = df.loc[:, \"p_mar\"]\n",
    "X_raw_p = df_p.drop(\"p_mar\", axis=1)"
   ]
  },
  {
   "cell_type": "code",
   "execution_count": 21,
   "id": "3a42cda9-4068-40d9-9ac3-1a58173de4e1",
   "metadata": {},
   "outputs": [],
   "source": [
    "ct_p = ColumnTransformer(\n",
    "    [\n",
    "        (\"\", StandardScaler(), X_raw_p.columns)\n",
    "    ]\n",
    ").set_output(transform=\"pandas\")"
   ]
  },
  {
   "cell_type": "code",
   "execution_count": null,
   "id": "cee9c54e-1fa2-4c08-8f38-acb96c2eab78",
   "metadata": {},
   "outputs": [],
   "source": []
  },
  {
   "cell_type": "code",
   "execution_count": 22,
   "id": "367faf1e-2593-488c-9f8f-0b11450364c4",
   "metadata": {},
   "outputs": [],
   "source": [
    "X_p = ct_p.fit_transform(X_raw_p)"
   ]
  },
  {
   "cell_type": "code",
   "execution_count": 23,
   "id": "0a6f6e22-20b8-400e-a299-b35d3710a7bd",
   "metadata": {},
   "outputs": [],
   "source": [
    "X_train_p, X_test_p, y_train_p, y_test_p = train_test_split(X_p, y_p, test_size=0.2, random_state=42)"
   ]
  },
  {
   "cell_type": "code",
   "execution_count": 35,
   "id": "11271e03-732c-472d-9b6a-06e57e15f83f",
   "metadata": {},
   "outputs": [],
   "source": [
    "rfr = RandomForestRegressor()\n",
    "ada = AdaBoostRegressor()\n",
    "\n",
    "kernel2 = 1.0 * RBF(length_scale=1e1, length_scale_bounds=(1e-2, 1e3)) + 5.0 * RBF(length_scale=1, length_scale_bounds=(1e-5, 1e5)) + WhiteKernel(noise_level=.1, noise_level_bounds=(1e-5, 1e1))\n",
    "gpr = GaussianProcessRegressor(kernel=kernel2)"
   ]
  },
  {
   "cell_type": "code",
   "execution_count": 36,
   "id": "23005a33-aedf-4092-b18e-121ffee20aa7",
   "metadata": {},
   "outputs": [
    {
     "data": {
      "text/html": [
       "<style>#sk-container-id-2 {color: black;}#sk-container-id-2 pre{padding: 0;}#sk-container-id-2 div.sk-toggleable {background-color: white;}#sk-container-id-2 label.sk-toggleable__label {cursor: pointer;display: block;width: 100%;margin-bottom: 0;padding: 0.3em;box-sizing: border-box;text-align: center;}#sk-container-id-2 label.sk-toggleable__label-arrow:before {content: \"▸\";float: left;margin-right: 0.25em;color: #696969;}#sk-container-id-2 label.sk-toggleable__label-arrow:hover:before {color: black;}#sk-container-id-2 div.sk-estimator:hover label.sk-toggleable__label-arrow:before {color: black;}#sk-container-id-2 div.sk-toggleable__content {max-height: 0;max-width: 0;overflow: hidden;text-align: left;background-color: #f0f8ff;}#sk-container-id-2 div.sk-toggleable__content pre {margin: 0.2em;color: black;border-radius: 0.25em;background-color: #f0f8ff;}#sk-container-id-2 input.sk-toggleable__control:checked~div.sk-toggleable__content {max-height: 200px;max-width: 100%;overflow: auto;}#sk-container-id-2 input.sk-toggleable__control:checked~label.sk-toggleable__label-arrow:before {content: \"▾\";}#sk-container-id-2 div.sk-estimator input.sk-toggleable__control:checked~label.sk-toggleable__label {background-color: #d4ebff;}#sk-container-id-2 div.sk-label input.sk-toggleable__control:checked~label.sk-toggleable__label {background-color: #d4ebff;}#sk-container-id-2 input.sk-hidden--visually {border: 0;clip: rect(1px 1px 1px 1px);clip: rect(1px, 1px, 1px, 1px);height: 1px;margin: -1px;overflow: hidden;padding: 0;position: absolute;width: 1px;}#sk-container-id-2 div.sk-estimator {font-family: monospace;background-color: #f0f8ff;border: 1px dotted black;border-radius: 0.25em;box-sizing: border-box;margin-bottom: 0.5em;}#sk-container-id-2 div.sk-estimator:hover {background-color: #d4ebff;}#sk-container-id-2 div.sk-parallel-item::after {content: \"\";width: 100%;border-bottom: 1px solid gray;flex-grow: 1;}#sk-container-id-2 div.sk-label:hover label.sk-toggleable__label {background-color: #d4ebff;}#sk-container-id-2 div.sk-serial::before {content: \"\";position: absolute;border-left: 1px solid gray;box-sizing: border-box;top: 0;bottom: 0;left: 50%;z-index: 0;}#sk-container-id-2 div.sk-serial {display: flex;flex-direction: column;align-items: center;background-color: white;padding-right: 0.2em;padding-left: 0.2em;position: relative;}#sk-container-id-2 div.sk-item {position: relative;z-index: 1;}#sk-container-id-2 div.sk-parallel {display: flex;align-items: stretch;justify-content: center;background-color: white;position: relative;}#sk-container-id-2 div.sk-item::before, #sk-container-id-2 div.sk-parallel-item::before {content: \"\";position: absolute;border-left: 1px solid gray;box-sizing: border-box;top: 0;bottom: 0;left: 50%;z-index: -1;}#sk-container-id-2 div.sk-parallel-item {display: flex;flex-direction: column;z-index: 1;position: relative;background-color: white;}#sk-container-id-2 div.sk-parallel-item:first-child::after {align-self: flex-end;width: 50%;}#sk-container-id-2 div.sk-parallel-item:last-child::after {align-self: flex-start;width: 50%;}#sk-container-id-2 div.sk-parallel-item:only-child::after {width: 0;}#sk-container-id-2 div.sk-dashed-wrapped {border: 1px dashed gray;margin: 0 0.4em 0.5em 0.4em;box-sizing: border-box;padding-bottom: 0.4em;background-color: white;}#sk-container-id-2 div.sk-label label {font-family: monospace;font-weight: bold;display: inline-block;line-height: 1.2em;}#sk-container-id-2 div.sk-label-container {text-align: center;}#sk-container-id-2 div.sk-container {/* jupyter's `normalize.less` sets `[hidden] { display: none; }` but bootstrap.min.css set `[hidden] { display: none !important; }` so we also need the `!important` here to be able to override the default hidden behavior on the sphinx rendered scikit-learn.org. See: https://github.com/scikit-learn/scikit-learn/issues/21755 */display: inline-block !important;position: relative;}#sk-container-id-2 div.sk-text-repr-fallback {display: none;}</style><div id=\"sk-container-id-2\" class=\"sk-top-container\"><div class=\"sk-text-repr-fallback\"><pre>GaussianProcessRegressor(kernel=1**2 * RBF(length_scale=10) + 2.24**2 * RBF(length_scale=1) + WhiteKernel(noise_level=0.1))</pre><b>In a Jupyter environment, please rerun this cell to show the HTML representation or trust the notebook. <br />On GitHub, the HTML representation is unable to render, please try loading this page with nbviewer.org.</b></div><div class=\"sk-container\" hidden><div class=\"sk-item\"><div class=\"sk-estimator sk-toggleable\"><input class=\"sk-toggleable__control sk-hidden--visually\" id=\"sk-estimator-id-2\" type=\"checkbox\" checked><label for=\"sk-estimator-id-2\" class=\"sk-toggleable__label sk-toggleable__label-arrow\">GaussianProcessRegressor</label><div class=\"sk-toggleable__content\"><pre>GaussianProcessRegressor(kernel=1**2 * RBF(length_scale=10) + 2.24**2 * RBF(length_scale=1) + WhiteKernel(noise_level=0.1))</pre></div></div></div></div></div>"
      ],
      "text/plain": [
       "GaussianProcessRegressor(kernel=1**2 * RBF(length_scale=10) + 2.24**2 * RBF(length_scale=1) + WhiteKernel(noise_level=0.1))"
      ]
     },
     "execution_count": 36,
     "metadata": {},
     "output_type": "execute_result"
    }
   ],
   "source": [
    "rfr.fit(X_train_p, y_train_p)\n",
    "ada.fit(X_train_p, y_train_p)\n",
    "gpr.fit(X_train_p, y_train_p)"
   ]
  },
  {
   "cell_type": "code",
   "execution_count": 37,
   "id": "494bd1a1-94d4-4490-a41e-28a6e69ab03c",
   "metadata": {},
   "outputs": [],
   "source": [
    "y_rfr_p = rfr.predict(X_test_p)\n",
    "y_ada_p = ada.predict(X_test_p)\n",
    "y_gpr_p = gpr.predict(X_test_p)"
   ]
  },
  {
   "cell_type": "code",
   "execution_count": 38,
   "id": "120cc652-ff41-4bb7-bd99-b1a6428e7e4f",
   "metadata": {},
   "outputs": [
    {
     "data": {
      "text/plain": [
       "(0.9536795497329859, 0.941675542768646, 0.9977427923859399)"
      ]
     },
     "execution_count": 38,
     "metadata": {},
     "output_type": "execute_result"
    }
   ],
   "source": [
    "rfr.score(X_test_p, y_test_p), ada.score(X_test_p, y_test_p), gpr.score(X_test_p, y_test_p)"
   ]
  },
  {
   "cell_type": "code",
   "execution_count": 39,
   "id": "c5b6a151-1e99-4e1a-9253-6fbcf679340d",
   "metadata": {},
   "outputs": [
    {
     "data": {
      "text/plain": [
       "(0.24747780380952264, 0.28167799833613744)"
      ]
     },
     "execution_count": 39,
     "metadata": {},
     "output_type": "execute_result"
    }
   ],
   "source": [
    "mean_absolute_error(\n",
    "    y_rfr_p, \n",
    "    y_test_p\n",
    "), mean_absolute_error(\n",
    "        y_ada_p, \n",
    "        y_test_p\n",
    ")"
   ]
  },
  {
   "cell_type": "code",
   "execution_count": 40,
   "id": "132c9b07-1a24-4fae-87f7-e5f05aadeafe",
   "metadata": {},
   "outputs": [
    {
     "data": {
      "text/plain": [
       "(0.05470131445815147, 0.05470131445815147)"
      ]
     },
     "execution_count": 40,
     "metadata": {},
     "output_type": "execute_result"
    }
   ],
   "source": [
    "mean_absolute_error(\n",
    "    y_gpr_p, \n",
    "    y_test_p\n",
    "), mean_absolute_error(\n",
    "        y_gpr_p, \n",
    "        y_test_p\n",
    ")"
   ]
  },
  {
   "cell_type": "code",
   "execution_count": 54,
   "id": "cd199cf2-9f40-4091-b79b-ab365f68b552",
   "metadata": {},
   "outputs": [
    {
     "data": {
      "text/plain": [
       "0.009907563262053052"
      ]
     },
     "execution_count": 54,
     "metadata": {},
     "output_type": "execute_result"
    }
   ],
   "source": [
    "( (y_gpr_p - y_test_p)**2 / ( len(y_test_p) - 2 ) ).sum()*1.96"
   ]
  },
  {
   "cell_type": "code",
   "execution_count": 43,
   "id": "f945e068-622f-4bde-8b4e-7422ca6b29da",
   "metadata": {},
   "outputs": [
    {
     "data": {
      "text/plain": [
       "<Axes: xlabel='p_mar', ylabel='p_mar'>"
      ]
     },
     "execution_count": 43,
     "metadata": {},
     "output_type": "execute_result"
    },
    {
     "data": {
      "image/png": "[encoded data removed]",
      "text/plain": [
       "<Figure size 1000x800 with 2 Axes>"
      ]
     },
     "metadata": {},
     "output_type": "display_data"
    }
   ],
   "source": [
    "fig, axs = plt.subplots(1,2, figsize=(10,8))\n",
    "sns.scatterplot(x=y_test_p, y=y_ada_p, ax=axs[0])\n",
    "sns.lineplot(x=y_test_p, y=y_test_p, ax=axs[0], label=\"original\")\n",
    "sns.scatterplot(x=y_test_p, y=y_gpr_p, ax=axs[1])\n",
    "sns.lineplot(x=y_test_p, y=y_test_p, ax=axs[1], label=\"original\")\n"
   ]
  },
  {
   "cell_type": "code",
   "execution_count": 44,
   "id": "fd728464-50df-4c90-b7c0-03aadf9d6cce",
   "metadata": {},
   "outputs": [],
   "source": [
    "X_train_raw_p, X_test_raw_p, y_train_p, y_test_p = train_test_split(X_raw_p, y_p, test_size=0.2, random_state=42)"
   ]
  },
  {
   "cell_type": "code",
   "execution_count": 55,
   "id": "0cce660e-b4af-4c00-a7ae-d410cd9ab403",
   "metadata": {},
   "outputs": [],
   "source": [
    "pl = Pipeline(\n",
    "    [\n",
    "        (\"\", StandardScaler()),\n",
    "        (\"gpr\", gpr)\n",
    "    ]\n",
    ")"
   ]
  },
  {
   "cell_type": "code",
   "execution_count": 56,
   "id": "43404e2b-99ac-4558-ae5d-052a24421443",
   "metadata": {},
   "outputs": [
    {
     "data": {
      "text/html": [
       "<style>#sk-container-id-5 {color: black;}#sk-container-id-5 pre{padding: 0;}#sk-container-id-5 div.sk-toggleable {background-color: white;}#sk-container-id-5 label.sk-toggleable__label {cursor: pointer;display: block;width: 100%;margin-bottom: 0;padding: 0.3em;box-sizing: border-box;text-align: center;}#sk-container-id-5 label.sk-toggleable__label-arrow:before {content: \"▸\";float: left;margin-right: 0.25em;color: #696969;}#sk-container-id-5 label.sk-toggleable__label-arrow:hover:before {color: black;}#sk-container-id-5 div.sk-estimator:hover label.sk-toggleable__label-arrow:before {color: black;}#sk-container-id-5 div.sk-toggleable__content {max-height: 0;max-width: 0;overflow: hidden;text-align: left;background-color: #f0f8ff;}#sk-container-id-5 div.sk-toggleable__content pre {margin: 0.2em;color: black;border-radius: 0.25em;background-color: #f0f8ff;}#sk-container-id-5 input.sk-toggleable__control:checked~div.sk-toggleable__content {max-height: 200px;max-width: 100%;overflow: auto;}#sk-container-id-5 input.sk-toggleable__control:checked~label.sk-toggleable__label-arrow:before {content: \"▾\";}#sk-container-id-5 div.sk-estimator input.sk-toggleable__control:checked~label.sk-toggleable__label {background-color: #d4ebff;}#sk-container-id-5 div.sk-label input.sk-toggleable__control:checked~label.sk-toggleable__label {background-color: #d4ebff;}#sk-container-id-5 input.sk-hidden--visually {border: 0;clip: rect(1px 1px 1px 1px);clip: rect(1px, 1px, 1px, 1px);height: 1px;margin: -1px;overflow: hidden;padding: 0;position: absolute;width: 1px;}#sk-container-id-5 div.sk-estimator {font-family: monospace;background-color: #f0f8ff;border: 1px dotted black;border-radius: 0.25em;box-sizing: border-box;margin-bottom: 0.5em;}#sk-container-id-5 div.sk-estimator:hover {background-color: #d4ebff;}#sk-container-id-5 div.sk-parallel-item::after {content: \"\";width: 100%;border-bottom: 1px solid gray;flex-grow: 1;}#sk-container-id-5 div.sk-label:hover label.sk-toggleable__label {background-color: #d4ebff;}#sk-container-id-5 div.sk-serial::before {content: \"\";position: absolute;border-left: 1px solid gray;box-sizing: border-box;top: 0;bottom: 0;left: 50%;z-index: 0;}#sk-container-id-5 div.sk-serial {display: flex;flex-direction: column;align-items: center;background-color: white;padding-right: 0.2em;padding-left: 0.2em;position: relative;}#sk-container-id-5 div.sk-item {position: relative;z-index: 1;}#sk-container-id-5 div.sk-parallel {display: flex;align-items: stretch;justify-content: center;background-color: white;position: relative;}#sk-container-id-5 div.sk-item::before, #sk-container-id-5 div.sk-parallel-item::before {content: \"\";position: absolute;border-left: 1px solid gray;box-sizing: border-box;top: 0;bottom: 0;left: 50%;z-index: -1;}#sk-container-id-5 div.sk-parallel-item {display: flex;flex-direction: column;z-index: 1;position: relative;background-color: white;}#sk-container-id-5 div.sk-parallel-item:first-child::after {align-self: flex-end;width: 50%;}#sk-container-id-5 div.sk-parallel-item:last-child::after {align-self: flex-start;width: 50%;}#sk-container-id-5 div.sk-parallel-item:only-child::after {width: 0;}#sk-container-id-5 div.sk-dashed-wrapped {border: 1px dashed gray;margin: 0 0.4em 0.5em 0.4em;box-sizing: border-box;padding-bottom: 0.4em;background-color: white;}#sk-container-id-5 div.sk-label label {font-family: monospace;font-weight: bold;display: inline-block;line-height: 1.2em;}#sk-container-id-5 div.sk-label-container {text-align: center;}#sk-container-id-5 div.sk-container {/* jupyter's `normalize.less` sets `[hidden] { display: none; }` but bootstrap.min.css set `[hidden] { display: none !important; }` so we also need the `!important` here to be able to override the default hidden behavior on the sphinx rendered scikit-learn.org. See: https://github.com/scikit-learn/scikit-learn/issues/21755 */display: inline-block !important;position: relative;}#sk-container-id-5 div.sk-text-repr-fallback {display: none;}</style><div id=\"sk-container-id-5\" class=\"sk-top-container\"><div class=\"sk-text-repr-fallback\"><pre>Pipeline(steps=[(&#x27;&#x27;, StandardScaler()),\n",
       "                (&#x27;gpr&#x27;,\n",
       "                 GaussianProcessRegressor(kernel=1**2 * RBF(length_scale=10) + 2.24**2 * RBF(length_scale=1) + WhiteKernel(noise_level=0.1)))])</pre><b>In a Jupyter environment, please rerun this cell to show the HTML representation or trust the notebook. <br />On GitHub, the HTML representation is unable to render, please try loading this page with nbviewer.org.</b></div><div class=\"sk-container\" hidden><div class=\"sk-item sk-dashed-wrapped\"><div class=\"sk-label-container\"><div class=\"sk-label sk-toggleable\"><input class=\"sk-toggleable__control sk-hidden--visually\" id=\"sk-estimator-id-9\" type=\"checkbox\" ><label for=\"sk-estimator-id-9\" class=\"sk-toggleable__label sk-toggleable__label-arrow\">Pipeline</label><div class=\"sk-toggleable__content\"><pre>Pipeline(steps=[(&#x27;&#x27;, StandardScaler()),\n",
       "                (&#x27;gpr&#x27;,\n",
       "                 GaussianProcessRegressor(kernel=1**2 * RBF(length_scale=10) + 2.24**2 * RBF(length_scale=1) + WhiteKernel(noise_level=0.1)))])</pre></div></div></div><div class=\"sk-serial\"><div class=\"sk-item\"><div class=\"sk-estimator sk-toggleable\"><input class=\"sk-toggleable__control sk-hidden--visually\" id=\"sk-estimator-id-10\" type=\"checkbox\" ><label for=\"sk-estimator-id-10\" class=\"sk-toggleable__label sk-toggleable__label-arrow\">StandardScaler</label><div class=\"sk-toggleable__content\"><pre>StandardScaler()</pre></div></div></div><div class=\"sk-item\"><div class=\"sk-estimator sk-toggleable\"><input class=\"sk-toggleable__control sk-hidden--visually\" id=\"sk-estimator-id-11\" type=\"checkbox\" ><label for=\"sk-estimator-id-11\" class=\"sk-toggleable__label sk-toggleable__label-arrow\">GaussianProcessRegressor</label><div class=\"sk-toggleable__content\"><pre>GaussianProcessRegressor(kernel=1**2 * RBF(length_scale=10) + 2.24**2 * RBF(length_scale=1) + WhiteKernel(noise_level=0.1))</pre></div></div></div></div></div></div></div>"
      ],
      "text/plain": [
       "Pipeline(steps=[('', StandardScaler()),\n",
       "                ('gpr',\n",
       "                 GaussianProcessRegressor(kernel=1**2 * RBF(length_scale=10) + 2.24**2 * RBF(length_scale=1) + WhiteKernel(noise_level=0.1)))])"
      ]
     },
     "execution_count": 56,
     "metadata": {},
     "output_type": "execute_result"
    }
   ],
   "source": [
    "pl.fit(X_train_raw_p, y_train_p)"
   ]
  },
  {
   "cell_type": "code",
   "execution_count": 57,
   "id": "af51c62c-3442-4008-a7b3-514719343917",
   "metadata": {},
   "outputs": [
    {
     "data": {
      "text/plain": [
       "0.05486624409826784"
      ]
     },
     "execution_count": 57,
     "metadata": {},
     "output_type": "execute_result"
    }
   ],
   "source": [
    "mean_absolute_error(\n",
    "    pl.predict(X_test_raw_p),\n",
    "    y_test_p\n",
    ")"
   ]
  },
  {
   "cell_type": "code",
   "execution_count": 58,
   "id": "1b4669e4-3e78-4a67-a071-7f70113b2e5a",
   "metadata": {},
   "outputs": [
    {
     "data": {
      "text/plain": [
       "['pmargin_v1.0.joblib']"
      ]
     },
     "execution_count": 58,
     "metadata": {},
     "output_type": "execute_result"
    }
   ],
   "source": [
    "from joblib import dump, load\n",
    "dump(filename=\"pmargin_v1.0.joblib\", value=pl)"
   ]
  },
  {
   "cell_type": "code",
   "execution_count": 59,
   "id": "ac2cf49d-383c-4331-a086-162562defe09",
   "metadata": {},
   "outputs": [],
   "source": [
    "pmargin_model = load(\"pmargin_v1.0.joblib\")"
   ]
  },
  {
   "cell_type": "code",
   "execution_count": 60,
   "id": "a3fb2c59-3a39-4fc2-81ce-058dde478e48",
   "metadata": {},
   "outputs": [
    {
     "data": {
      "text/plain": [
       "0.05486624409826784"
      ]
     },
     "execution_count": 60,
     "metadata": {},
     "output_type": "execute_result"
    }
   ],
   "source": [
    "mean_absolute_error(\n",
    "    pmargin_model.predict(X_test_raw_p),\n",
    "    y_test_p\n",
    ")"
   ]
  },
  {
   "cell_type": "code",
   "execution_count": null,
   "id": "831f2cf1-18f5-460f-bf49-eb372ae7da37",
   "metadata": {},
   "outputs": [],
   "source": []
  }
 ],
 "metadata": {
  "kernelspec": {
   "display_name": "Python 3 (ipykernel)",
   "language": "python",
   "name": "python3"
  },
  "language_info": {
   "codemirror_mode": {
    "name": "ipython",
    "version": 3
   },
   "file_extension": ".py",
   "mimetype": "text/x-python",
   "name": "python",
   "nbconvert_exporter": "python",
   "pygments_lexer": "ipython3",
   "version": "3.10.0"
  }
 },
 "nbformat": 4,
 "nbformat_minor": 5
}
