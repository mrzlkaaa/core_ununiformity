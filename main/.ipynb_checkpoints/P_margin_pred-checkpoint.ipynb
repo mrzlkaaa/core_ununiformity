{
 "cells": [
  {
   "cell_type": "markdown",
   "id": "947d313f-e731-4f11-9c59-70cb8214cd2f",
   "metadata": {},
   "source": [
    "# Concept to predict (generate) p margin upon burnup core configuration"
   ]
  },
  {
   "cell_type": "code",
   "execution_count": 1,
   "id": "b0c69ea6-284e-421c-80e5-77eeb78c6aa2",
   "metadata": {},
   "outputs": [],
   "source": [
    "import os\n",
    "import sys\n",
    "\n",
    "sys.path.append(os.path.abspath(os.path.join('..'))) # imports top level\n",
    "\n",
    "import pandas as pd\n",
    "import seaborn as sns\n",
    "import matplotlib.pyplot as plt\n",
    "import numpy as np\n",
    "import display\n",
    "import scipy"
   ]
  },
  {
   "cell_type": "code",
   "execution_count": 2,
   "id": "38da0a46-363b-46b4-9255-ce7f027c8f7d",
   "metadata": {},
   "outputs": [],
   "source": [
    "\n",
    "df = pd.read_excel(\"input.xlsx\", sheet_name=\"no_burnup\")"
   ]
  },
  {
   "cell_type": "code",
   "execution_count": 3,
   "id": "bba5a2e1-4461-440a-943e-f838d304c239",
   "metadata": {},
   "outputs": [
    {
     "data": {
      "text/plain": [
       "Index(['Name', 'pmar', 'p, %', 'p, beff', '7-6_s', '7-5_s', '7-4_s', '7-3_s',\n",
       "       '6-6_s', '6-5_s', '6-4_s', '6-3_s', '5-6_s', '5-3_s', '4-6_s', '4-3_s',\n",
       "       '3-6_s', '3-5_s', '3-4_s', '3-3_s', '2-6_s', '2-5_s', '2-4_s', '2-3_s',\n",
       "       '7-6_b', '7-5_b', '7-4_b', '7-3_b', '6-6_b', '6-5_b', '6-4_b', '6-3_b',\n",
       "       '5-6_b', '5-3_b', '4-6_b', '4-3_b', '3-6_b', '3-5_b', '3-4_b', '3-3_b',\n",
       "       '2-6_b', '2-5_b', '2-4_b', '2-3_b', '7-6_t', '7-5_t', '7-4_t', '7-3_t',\n",
       "       '6-6_t', '6-5_t', '6-4_t', '6-3_t', '5-6_t', '5-3_t', '4-6_t', '4-3_t',\n",
       "       '3-6_t', '3-5_t', '3-4_t', '3-3_t', '2-6_t', '2-5_t', '2-4_t', '2-3_t',\n",
       "       'Temperature, K', 'p loss due to temperature, %', 'Notes'],\n",
       "      dtype='object')"
      ]
     },
     "execution_count": 3,
     "metadata": {},
     "output_type": "execute_result"
    }
   ],
   "source": [
    "df.columns"
   ]
  },
  {
   "cell_type": "code",
   "execution_count": 4,
   "id": "b7d8910c-6035-4949-afae-38ece8db37e6",
   "metadata": {},
   "outputs": [
    {
     "name": "stdout",
     "output_type": "stream",
     "text": [
      "The columns with prefix  are not in DataFrame\n"
     ]
    }
   ],
   "source": [
    "d = display.Display(df=df)\n",
    "d.quick_processing()"
   ]
  },
  {
   "cell_type": "code",
   "execution_count": 5,
   "id": "bc889039-65ff-4c12-8fc7-d5fe4d557c9c",
   "metadata": {},
   "outputs": [],
   "source": [
    "df = d.df"
   ]
  },
  {
   "cell_type": "markdown",
   "id": "0245b5bf-3da9-43b8-9e07-796d6b1d2430",
   "metadata": {},
   "source": [
    "# Predicting p margin"
   ]
  },
  {
   "cell_type": "code",
   "execution_count": 66,
   "id": "1abfaa2a-2fbe-4e58-b6e0-7907c1c2e81f",
   "metadata": {},
   "outputs": [],
   "source": [
    "from sklearn.compose import ColumnTransformer\n",
    "from sklearn.preprocessing import StandardScaler, OrdinalEncoder, Normalizer, PowerTransformer, MinMaxScaler\n",
    "from sklearn.model_selection import train_test_split\n",
    "\n",
    "from sklearn.ensemble import GradientBoostingRegressor, AdaBoostRegressor\n",
    "from sklearn.tree import DecisionTreeRegressor\n",
    "from sklearn.linear_model import Ridge, Lasso, ElasticNet, BayesianRidge, SGDRegressor\n",
    "from sklearn.svm import SVR\n",
    "from sklearn.ensemble import RandomForestRegressor, StackingRegressor\n",
    "\n",
    "from sklearn.pipeline import make_pipeline, Pipeline\n",
    "from sklearn.model_selection import GridSearchCV\n",
    "\n",
    "from sklearn.metrics import mean_absolute_error, mean_absolute_percentage_error, r2_score"
   ]
  },
  {
   "cell_type": "code",
   "execution_count": 6,
   "id": "7cc6149c-a85e-4966-b398-4a4672471107",
   "metadata": {},
   "outputs": [],
   "source": [
    "df_p = df.loc[\n",
    "    :, \n",
    "    [\n",
    "        \"p, %\",\n",
    "        *d.CORE_PARTS[\"left\"][\"ALL_CELLS\"],\n",
    "        \"average_l\",\n",
    "    ]\n",
    "]"
   ]
  },
  {
   "cell_type": "code",
   "execution_count": 7,
   "id": "1e49ff94-8e0a-4d38-ac2d-1340622bc449",
   "metadata": {},
   "outputs": [
    {
     "data": {
      "text/html": [
       "<div>\n",
       "<style scoped>\n",
       "    .dataframe tbody tr th:only-of-type {\n",
       "        vertical-align: middle;\n",
       "    }\n",
       "\n",
       "    .dataframe tbody tr th {\n",
       "        vertical-align: top;\n",
       "    }\n",
       "\n",
       "    .dataframe thead th {\n",
       "        text-align: right;\n",
       "    }\n",
       "</style>\n",
       "<table border=\"1\" class=\"dataframe\">\n",
       "  <thead>\n",
       "    <tr style=\"text-align: right;\">\n",
       "      <th></th>\n",
       "      <th>p, %</th>\n",
       "      <th>7-6_l</th>\n",
       "      <th>7-5_l</th>\n",
       "      <th>7-4_l</th>\n",
       "      <th>7-3_l</th>\n",
       "      <th>6-6_l</th>\n",
       "      <th>6-5_l</th>\n",
       "      <th>6-4_l</th>\n",
       "      <th>6-3_l</th>\n",
       "      <th>5-6_l</th>\n",
       "      <th>...</th>\n",
       "      <th>4-3_l</th>\n",
       "      <th>3-6_l</th>\n",
       "      <th>3-5_l</th>\n",
       "      <th>3-4_l</th>\n",
       "      <th>3-3_l</th>\n",
       "      <th>2-6_l</th>\n",
       "      <th>2-5_l</th>\n",
       "      <th>2-4_l</th>\n",
       "      <th>2-3_l</th>\n",
       "      <th>average_l</th>\n",
       "    </tr>\n",
       "  </thead>\n",
       "  <tbody>\n",
       "    <tr>\n",
       "      <th>0</th>\n",
       "      <td>7.297184</td>\n",
       "      <td>300.00</td>\n",
       "      <td>155.79</td>\n",
       "      <td>193.2645</td>\n",
       "      <td>219.48</td>\n",
       "      <td>189.2100</td>\n",
       "      <td>201.2145</td>\n",
       "      <td>109.2860</td>\n",
       "      <td>245.5490</td>\n",
       "      <td>156.9595</td>\n",
       "      <td>...</td>\n",
       "      <td>195.27</td>\n",
       "      <td>196.0205</td>\n",
       "      <td>120.2835</td>\n",
       "      <td>196.1795</td>\n",
       "      <td>247.0330</td>\n",
       "      <td>155.460</td>\n",
       "      <td>289.17</td>\n",
       "      <td>116.04</td>\n",
       "      <td>201.93</td>\n",
       "      <td>197.747000</td>\n",
       "    </tr>\n",
       "    <tr>\n",
       "      <th>1</th>\n",
       "      <td>7.774369</td>\n",
       "      <td>152.94</td>\n",
       "      <td>128.01</td>\n",
       "      <td>257.1600</td>\n",
       "      <td>181.77</td>\n",
       "      <td>163.6905</td>\n",
       "      <td>165.1745</td>\n",
       "      <td>234.3925</td>\n",
       "      <td>206.1435</td>\n",
       "      <td>129.4525</td>\n",
       "      <td>...</td>\n",
       "      <td>300.00</td>\n",
       "      <td>170.6335</td>\n",
       "      <td>238.1820</td>\n",
       "      <td>161.2790</td>\n",
       "      <td>211.1785</td>\n",
       "      <td>165.254</td>\n",
       "      <td>250.74</td>\n",
       "      <td>130.35</td>\n",
       "      <td>171.60</td>\n",
       "      <td>189.847025</td>\n",
       "    </tr>\n",
       "    <tr>\n",
       "      <th>2</th>\n",
       "      <td>6.755688</td>\n",
       "      <td>300.00</td>\n",
       "      <td>128.01</td>\n",
       "      <td>257.1600</td>\n",
       "      <td>181.77</td>\n",
       "      <td>163.6905</td>\n",
       "      <td>165.1745</td>\n",
       "      <td>234.3925</td>\n",
       "      <td>206.1435</td>\n",
       "      <td>129.4525</td>\n",
       "      <td>...</td>\n",
       "      <td>152.94</td>\n",
       "      <td>170.6335</td>\n",
       "      <td>238.1820</td>\n",
       "      <td>161.2790</td>\n",
       "      <td>211.1785</td>\n",
       "      <td>165.254</td>\n",
       "      <td>250.74</td>\n",
       "      <td>130.35</td>\n",
       "      <td>171.60</td>\n",
       "      <td>189.847025</td>\n",
       "    </tr>\n",
       "    <tr>\n",
       "      <th>3</th>\n",
       "      <td>8.368326</td>\n",
       "      <td>151.65</td>\n",
       "      <td>126.66</td>\n",
       "      <td>255.0000</td>\n",
       "      <td>179.85</td>\n",
       "      <td>162.4185</td>\n",
       "      <td>163.3725</td>\n",
       "      <td>232.1135</td>\n",
       "      <td>204.1030</td>\n",
       "      <td>128.0480</td>\n",
       "      <td>...</td>\n",
       "      <td>296.49</td>\n",
       "      <td>169.3350</td>\n",
       "      <td>236.0885</td>\n",
       "      <td>159.3975</td>\n",
       "      <td>209.1910</td>\n",
       "      <td>163.982</td>\n",
       "      <td>248.79</td>\n",
       "      <td>128.94</td>\n",
       "      <td>169.89</td>\n",
       "      <td>194.207975</td>\n",
       "    </tr>\n",
       "    <tr>\n",
       "      <th>4</th>\n",
       "      <td>9.594128</td>\n",
       "      <td>151.65</td>\n",
       "      <td>255.00</td>\n",
       "      <td>300.0000</td>\n",
       "      <td>179.85</td>\n",
       "      <td>162.4185</td>\n",
       "      <td>163.3725</td>\n",
       "      <td>232.1135</td>\n",
       "      <td>204.1030</td>\n",
       "      <td>128.0480</td>\n",
       "      <td>...</td>\n",
       "      <td>296.49</td>\n",
       "      <td>169.3350</td>\n",
       "      <td>236.0885</td>\n",
       "      <td>159.3975</td>\n",
       "      <td>209.1910</td>\n",
       "      <td>163.982</td>\n",
       "      <td>128.94</td>\n",
       "      <td>248.79</td>\n",
       "      <td>169.89</td>\n",
       "      <td>202.874975</td>\n",
       "    </tr>\n",
       "    <tr>\n",
       "      <th>...</th>\n",
       "      <td>...</td>\n",
       "      <td>...</td>\n",
       "      <td>...</td>\n",
       "      <td>...</td>\n",
       "      <td>...</td>\n",
       "      <td>...</td>\n",
       "      <td>...</td>\n",
       "      <td>...</td>\n",
       "      <td>...</td>\n",
       "      <td>...</td>\n",
       "      <td>...</td>\n",
       "      <td>...</td>\n",
       "      <td>...</td>\n",
       "      <td>...</td>\n",
       "      <td>...</td>\n",
       "      <td>...</td>\n",
       "      <td>...</td>\n",
       "      <td>...</td>\n",
       "      <td>...</td>\n",
       "      <td>...</td>\n",
       "      <td>...</td>\n",
       "    </tr>\n",
       "    <tr>\n",
       "      <th>177</th>\n",
       "      <td>7.108597</td>\n",
       "      <td>260.31</td>\n",
       "      <td>271.26</td>\n",
       "      <td>300.0000</td>\n",
       "      <td>175.77</td>\n",
       "      <td>177.0200</td>\n",
       "      <td>110.1870</td>\n",
       "      <td>195.1195</td>\n",
       "      <td>178.6100</td>\n",
       "      <td>156.3500</td>\n",
       "      <td>...</td>\n",
       "      <td>157.32</td>\n",
       "      <td>178.9545</td>\n",
       "      <td>201.5590</td>\n",
       "      <td>111.3795</td>\n",
       "      <td>182.3995</td>\n",
       "      <td>260.790</td>\n",
       "      <td>176.97</td>\n",
       "      <td>300.00</td>\n",
       "      <td>271.38</td>\n",
       "      <td>199.774950</td>\n",
       "    </tr>\n",
       "    <tr>\n",
       "      <th>178</th>\n",
       "      <td>8.861057</td>\n",
       "      <td>260.31</td>\n",
       "      <td>175.77</td>\n",
       "      <td>150.9600</td>\n",
       "      <td>271.26</td>\n",
       "      <td>177.0200</td>\n",
       "      <td>110.1870</td>\n",
       "      <td>195.1195</td>\n",
       "      <td>178.6100</td>\n",
       "      <td>156.3500</td>\n",
       "      <td>...</td>\n",
       "      <td>300.00</td>\n",
       "      <td>178.9545</td>\n",
       "      <td>201.5590</td>\n",
       "      <td>111.3795</td>\n",
       "      <td>182.3995</td>\n",
       "      <td>260.790</td>\n",
       "      <td>176.97</td>\n",
       "      <td>157.32</td>\n",
       "      <td>271.38</td>\n",
       "      <td>199.774950</td>\n",
       "    </tr>\n",
       "    <tr>\n",
       "      <th>179</th>\n",
       "      <td>9.426764</td>\n",
       "      <td>150.96</td>\n",
       "      <td>175.77</td>\n",
       "      <td>260.3100</td>\n",
       "      <td>271.26</td>\n",
       "      <td>177.0200</td>\n",
       "      <td>110.1870</td>\n",
       "      <td>178.6100</td>\n",
       "      <td>195.1195</td>\n",
       "      <td>156.3500</td>\n",
       "      <td>...</td>\n",
       "      <td>300.00</td>\n",
       "      <td>178.9545</td>\n",
       "      <td>182.3995</td>\n",
       "      <td>111.3795</td>\n",
       "      <td>201.5590</td>\n",
       "      <td>157.320</td>\n",
       "      <td>176.97</td>\n",
       "      <td>260.79</td>\n",
       "      <td>271.38</td>\n",
       "      <td>199.774950</td>\n",
       "    </tr>\n",
       "    <tr>\n",
       "      <th>180</th>\n",
       "      <td>3.601943</td>\n",
       "      <td>247.74</td>\n",
       "      <td>164.31</td>\n",
       "      <td>139.9800</td>\n",
       "      <td>254.34</td>\n",
       "      <td>166.6055</td>\n",
       "      <td>101.1505</td>\n",
       "      <td>180.0410</td>\n",
       "      <td>164.6710</td>\n",
       "      <td>145.6705</td>\n",
       "      <td>...</td>\n",
       "      <td>277.38</td>\n",
       "      <td>168.6460</td>\n",
       "      <td>188.0970</td>\n",
       "      <td>101.7070</td>\n",
       "      <td>168.7520</td>\n",
       "      <td>248.040</td>\n",
       "      <td>165.87</td>\n",
       "      <td>146.34</td>\n",
       "      <td>255.48</td>\n",
       "      <td>186.429025</td>\n",
       "    </tr>\n",
       "    <tr>\n",
       "      <th>181</th>\n",
       "      <td>4.261140</td>\n",
       "      <td>142.35</td>\n",
       "      <td>164.55</td>\n",
       "      <td>244.7100</td>\n",
       "      <td>253.95</td>\n",
       "      <td>167.0030</td>\n",
       "      <td>101.2830</td>\n",
       "      <td>164.4060</td>\n",
       "      <td>179.8555</td>\n",
       "      <td>146.2535</td>\n",
       "      <td>...</td>\n",
       "      <td>276.93</td>\n",
       "      <td>169.0965</td>\n",
       "      <td>170.0770</td>\n",
       "      <td>101.7865</td>\n",
       "      <td>186.6130</td>\n",
       "      <td>148.470</td>\n",
       "      <td>166.20</td>\n",
       "      <td>245.76</td>\n",
       "      <td>255.15</td>\n",
       "      <td>186.419200</td>\n",
       "    </tr>\n",
       "  </tbody>\n",
       "</table>\n",
       "<p>182 rows × 22 columns</p>\n",
       "</div>"
      ],
      "text/plain": [
       "         p, %   7-6_l   7-5_l     7-4_l   7-3_l     6-6_l     6-5_l     6-4_l  \\\n",
       "0    7.297184  300.00  155.79  193.2645  219.48  189.2100  201.2145  109.2860   \n",
       "1    7.774369  152.94  128.01  257.1600  181.77  163.6905  165.1745  234.3925   \n",
       "2    6.755688  300.00  128.01  257.1600  181.77  163.6905  165.1745  234.3925   \n",
       "3    8.368326  151.65  126.66  255.0000  179.85  162.4185  163.3725  232.1135   \n",
       "4    9.594128  151.65  255.00  300.0000  179.85  162.4185  163.3725  232.1135   \n",
       "..        ...     ...     ...       ...     ...       ...       ...       ...   \n",
       "177  7.108597  260.31  271.26  300.0000  175.77  177.0200  110.1870  195.1195   \n",
       "178  8.861057  260.31  175.77  150.9600  271.26  177.0200  110.1870  195.1195   \n",
       "179  9.426764  150.96  175.77  260.3100  271.26  177.0200  110.1870  178.6100   \n",
       "180  3.601943  247.74  164.31  139.9800  254.34  166.6055  101.1505  180.0410   \n",
       "181  4.261140  142.35  164.55  244.7100  253.95  167.0030  101.2830  164.4060   \n",
       "\n",
       "        6-3_l     5-6_l  ...   4-3_l     3-6_l     3-5_l     3-4_l     3-3_l  \\\n",
       "0    245.5490  156.9595  ...  195.27  196.0205  120.2835  196.1795  247.0330   \n",
       "1    206.1435  129.4525  ...  300.00  170.6335  238.1820  161.2790  211.1785   \n",
       "2    206.1435  129.4525  ...  152.94  170.6335  238.1820  161.2790  211.1785   \n",
       "3    204.1030  128.0480  ...  296.49  169.3350  236.0885  159.3975  209.1910   \n",
       "4    204.1030  128.0480  ...  296.49  169.3350  236.0885  159.3975  209.1910   \n",
       "..        ...       ...  ...     ...       ...       ...       ...       ...   \n",
       "177  178.6100  156.3500  ...  157.32  178.9545  201.5590  111.3795  182.3995   \n",
       "178  178.6100  156.3500  ...  300.00  178.9545  201.5590  111.3795  182.3995   \n",
       "179  195.1195  156.3500  ...  300.00  178.9545  182.3995  111.3795  201.5590   \n",
       "180  164.6710  145.6705  ...  277.38  168.6460  188.0970  101.7070  168.7520   \n",
       "181  179.8555  146.2535  ...  276.93  169.0965  170.0770  101.7865  186.6130   \n",
       "\n",
       "       2-6_l   2-5_l   2-4_l   2-3_l   average_l  \n",
       "0    155.460  289.17  116.04  201.93  197.747000  \n",
       "1    165.254  250.74  130.35  171.60  189.847025  \n",
       "2    165.254  250.74  130.35  171.60  189.847025  \n",
       "3    163.982  248.79  128.94  169.89  194.207975  \n",
       "4    163.982  128.94  248.79  169.89  202.874975  \n",
       "..       ...     ...     ...     ...         ...  \n",
       "177  260.790  176.97  300.00  271.38  199.774950  \n",
       "178  260.790  176.97  157.32  271.38  199.774950  \n",
       "179  157.320  176.97  260.79  271.38  199.774950  \n",
       "180  248.040  165.87  146.34  255.48  186.429025  \n",
       "181  148.470  166.20  245.76  255.15  186.419200  \n",
       "\n",
       "[182 rows x 22 columns]"
      ]
     },
     "execution_count": 7,
     "metadata": {},
     "output_type": "execute_result"
    }
   ],
   "source": [
    "df_p"
   ]
  },
  {
   "cell_type": "code",
   "execution_count": 38,
   "id": "1f30e866-a1b4-47ab-bf4c-93b568efb081",
   "metadata": {},
   "outputs": [],
   "source": [
    "y_p = df.loc[:, \"p, %\"]\n",
    "X_raw_p = df_p.drop(\"p, %\", axis=1)"
   ]
  },
  {
   "cell_type": "code",
   "execution_count": 39,
   "id": "3a42cda9-4068-40d9-9ac3-1a58173de4e1",
   "metadata": {},
   "outputs": [],
   "source": [
    "ct_p = ColumnTransformer(\n",
    "    [\n",
    "        (\"\", StandardScaler(), X_raw_p.columns)\n",
    "    ]\n",
    ").set_output(transform=\"pandas\")"
   ]
  },
  {
   "cell_type": "code",
   "execution_count": null,
   "id": "cee9c54e-1fa2-4c08-8f38-acb96c2eab78",
   "metadata": {},
   "outputs": [],
   "source": []
  },
  {
   "cell_type": "code",
   "execution_count": 40,
   "id": "367faf1e-2593-488c-9f8f-0b11450364c4",
   "metadata": {},
   "outputs": [],
   "source": [
    "X_p = ct_p.fit_transform(X_raw_p)"
   ]
  },
  {
   "cell_type": "code",
   "execution_count": 41,
   "id": "0a6f6e22-20b8-400e-a299-b35d3710a7bd",
   "metadata": {},
   "outputs": [],
   "source": [
    "X_train_p, X_test_p, y_train_p, y_test_p = train_test_split(X_p, y_p, test_size=0.2, random_state=42)"
   ]
  },
  {
   "cell_type": "code",
   "execution_count": 42,
   "id": "11271e03-732c-472d-9b6a-06e57e15f83f",
   "metadata": {},
   "outputs": [],
   "source": [
    "rfr = RandomForestRegressor()\n",
    "ada = AdaBoostRegressor()"
   ]
  },
  {
   "cell_type": "code",
   "execution_count": 43,
   "id": "23005a33-aedf-4092-b18e-121ffee20aa7",
   "metadata": {},
   "outputs": [
    {
     "data": {
      "text/html": [
       "<style>#sk-container-id-4 {color: black;}#sk-container-id-4 pre{padding: 0;}#sk-container-id-4 div.sk-toggleable {background-color: white;}#sk-container-id-4 label.sk-toggleable__label {cursor: pointer;display: block;width: 100%;margin-bottom: 0;padding: 0.3em;box-sizing: border-box;text-align: center;}#sk-container-id-4 label.sk-toggleable__label-arrow:before {content: \"▸\";float: left;margin-right: 0.25em;color: #696969;}#sk-container-id-4 label.sk-toggleable__label-arrow:hover:before {color: black;}#sk-container-id-4 div.sk-estimator:hover label.sk-toggleable__label-arrow:before {color: black;}#sk-container-id-4 div.sk-toggleable__content {max-height: 0;max-width: 0;overflow: hidden;text-align: left;background-color: #f0f8ff;}#sk-container-id-4 div.sk-toggleable__content pre {margin: 0.2em;color: black;border-radius: 0.25em;background-color: #f0f8ff;}#sk-container-id-4 input.sk-toggleable__control:checked~div.sk-toggleable__content {max-height: 200px;max-width: 100%;overflow: auto;}#sk-container-id-4 input.sk-toggleable__control:checked~label.sk-toggleable__label-arrow:before {content: \"▾\";}#sk-container-id-4 div.sk-estimator input.sk-toggleable__control:checked~label.sk-toggleable__label {background-color: #d4ebff;}#sk-container-id-4 div.sk-label input.sk-toggleable__control:checked~label.sk-toggleable__label {background-color: #d4ebff;}#sk-container-id-4 input.sk-hidden--visually {border: 0;clip: rect(1px 1px 1px 1px);clip: rect(1px, 1px, 1px, 1px);height: 1px;margin: -1px;overflow: hidden;padding: 0;position: absolute;width: 1px;}#sk-container-id-4 div.sk-estimator {font-family: monospace;background-color: #f0f8ff;border: 1px dotted black;border-radius: 0.25em;box-sizing: border-box;margin-bottom: 0.5em;}#sk-container-id-4 div.sk-estimator:hover {background-color: #d4ebff;}#sk-container-id-4 div.sk-parallel-item::after {content: \"\";width: 100%;border-bottom: 1px solid gray;flex-grow: 1;}#sk-container-id-4 div.sk-label:hover label.sk-toggleable__label {background-color: #d4ebff;}#sk-container-id-4 div.sk-serial::before {content: \"\";position: absolute;border-left: 1px solid gray;box-sizing: border-box;top: 0;bottom: 0;left: 50%;z-index: 0;}#sk-container-id-4 div.sk-serial {display: flex;flex-direction: column;align-items: center;background-color: white;padding-right: 0.2em;padding-left: 0.2em;position: relative;}#sk-container-id-4 div.sk-item {position: relative;z-index: 1;}#sk-container-id-4 div.sk-parallel {display: flex;align-items: stretch;justify-content: center;background-color: white;position: relative;}#sk-container-id-4 div.sk-item::before, #sk-container-id-4 div.sk-parallel-item::before {content: \"\";position: absolute;border-left: 1px solid gray;box-sizing: border-box;top: 0;bottom: 0;left: 50%;z-index: -1;}#sk-container-id-4 div.sk-parallel-item {display: flex;flex-direction: column;z-index: 1;position: relative;background-color: white;}#sk-container-id-4 div.sk-parallel-item:first-child::after {align-self: flex-end;width: 50%;}#sk-container-id-4 div.sk-parallel-item:last-child::after {align-self: flex-start;width: 50%;}#sk-container-id-4 div.sk-parallel-item:only-child::after {width: 0;}#sk-container-id-4 div.sk-dashed-wrapped {border: 1px dashed gray;margin: 0 0.4em 0.5em 0.4em;box-sizing: border-box;padding-bottom: 0.4em;background-color: white;}#sk-container-id-4 div.sk-label label {font-family: monospace;font-weight: bold;display: inline-block;line-height: 1.2em;}#sk-container-id-4 div.sk-label-container {text-align: center;}#sk-container-id-4 div.sk-container {/* jupyter's `normalize.less` sets `[hidden] { display: none; }` but bootstrap.min.css set `[hidden] { display: none !important; }` so we also need the `!important` here to be able to override the default hidden behavior on the sphinx rendered scikit-learn.org. See: https://github.com/scikit-learn/scikit-learn/issues/21755 */display: inline-block !important;position: relative;}#sk-container-id-4 div.sk-text-repr-fallback {display: none;}</style><div id=\"sk-container-id-4\" class=\"sk-top-container\"><div class=\"sk-text-repr-fallback\"><pre>AdaBoostRegressor()</pre><b>In a Jupyter environment, please rerun this cell to show the HTML representation or trust the notebook. <br />On GitHub, the HTML representation is unable to render, please try loading this page with nbviewer.org.</b></div><div class=\"sk-container\" hidden><div class=\"sk-item\"><div class=\"sk-estimator sk-toggleable\"><input class=\"sk-toggleable__control sk-hidden--visually\" id=\"sk-estimator-id-4\" type=\"checkbox\" checked><label for=\"sk-estimator-id-4\" class=\"sk-toggleable__label sk-toggleable__label-arrow\">AdaBoostRegressor</label><div class=\"sk-toggleable__content\"><pre>AdaBoostRegressor()</pre></div></div></div></div></div>"
      ],
      "text/plain": [
       "AdaBoostRegressor()"
      ]
     },
     "execution_count": 43,
     "metadata": {},
     "output_type": "execute_result"
    }
   ],
   "source": [
    "rfr.fit(X_train_p, y_train_p)\n",
    "ada.fit(X_train_p, y_train_p)"
   ]
  },
  {
   "cell_type": "code",
   "execution_count": 44,
   "id": "494bd1a1-94d4-4490-a41e-28a6e69ab03c",
   "metadata": {},
   "outputs": [],
   "source": [
    "y_rfr_p = rfr.predict(X_test_p)\n",
    "y_ada_p = ada.predict(X_test_p)"
   ]
  },
  {
   "cell_type": "code",
   "execution_count": 45,
   "id": "120cc652-ff41-4bb7-bd99-b1a6428e7e4f",
   "metadata": {},
   "outputs": [
    {
     "data": {
      "text/plain": [
       "(0.836456154640079, 0.8263885332238323)"
      ]
     },
     "execution_count": 45,
     "metadata": {},
     "output_type": "execute_result"
    }
   ],
   "source": [
    "rfr.score(X_test_p, y_test_p), ada.score(X_test_p, y_test_p)"
   ]
  },
  {
   "cell_type": "code",
   "execution_count": 46,
   "id": "c5b6a151-1e99-4e1a-9253-6fbcf679340d",
   "metadata": {},
   "outputs": [
    {
     "data": {
      "text/plain": [
       "(0.33727150674334844, 0.44259499569204064)"
      ]
     },
     "execution_count": 46,
     "metadata": {},
     "output_type": "execute_result"
    }
   ],
   "source": [
    "mean_absolute_error(\n",
    "    y_rfr_p, \n",
    "    y_test_p\n",
    "), mean_absolute_error(\n",
    "        y_ada_p, \n",
    "        y_test_p\n",
    ")"
   ]
  },
  {
   "cell_type": "code",
   "execution_count": 47,
   "id": "f945e068-622f-4bde-8b4e-7422ca6b29da",
   "metadata": {},
   "outputs": [
    {
     "data": {
      "text/plain": [
       "<Axes: xlabel='p, %', ylabel='p, %'>"
      ]
     },
     "execution_count": 47,
     "metadata": {},
     "output_type": "execute_result"
    },
    {
     "data": {
      "image/png": "[encoded data removed]",
      "text/plain": [
       "<Figure size 1000x800 with 2 Axes>"
      ]
     },
     "metadata": {},
     "output_type": "display_data"
    }
   ],
   "source": [
    "fig, axs = plt.subplots(1,2, figsize=(10,8))\n",
    "sns.scatterplot(x=y_test_p, y=y_ada_p, ax=axs[0])\n",
    "sns.scatterplot(x=y_test_p, y=y_test_p, ax=axs[0], label=\"original\")\n",
    "sns.scatterplot(x=y_test_p, y=y_rfr_p, ax=axs[1])\n",
    "sns.scatterplot(x=y_test_p, y=y_test_p, ax=axs[1], label=\"original\")"
   ]
  },
  {
   "cell_type": "code",
   "execution_count": 54,
   "id": "fd728464-50df-4c90-b7c0-03aadf9d6cce",
   "metadata": {},
   "outputs": [],
   "source": [
    "X_train_raw_p, X_test_raw_p, y_train_p, y_test_p = train_test_split(X_raw_p, y_p, test_size=0.2, random_state=42)"
   ]
  },
  {
   "cell_type": "code",
   "execution_count": 67,
   "id": "0cce660e-b4af-4c00-a7ae-d410cd9ab403",
   "metadata": {},
   "outputs": [],
   "source": [
    "pl = Pipeline(\n",
    "    [\n",
    "        (\"\", StandardScaler()),\n",
    "        (\"rfr\", RandomForestRegressor())\n",
    "    ]\n",
    ")"
   ]
  },
  {
   "cell_type": "code",
   "execution_count": 68,
   "id": "43404e2b-99ac-4558-ae5d-052a24421443",
   "metadata": {},
   "outputs": [
    {
     "data": {
      "text/html": [
       "<style>#sk-container-id-5 {color: black;}#sk-container-id-5 pre{padding: 0;}#sk-container-id-5 div.sk-toggleable {background-color: white;}#sk-container-id-5 label.sk-toggleable__label {cursor: pointer;display: block;width: 100%;margin-bottom: 0;padding: 0.3em;box-sizing: border-box;text-align: center;}#sk-container-id-5 label.sk-toggleable__label-arrow:before {content: \"▸\";float: left;margin-right: 0.25em;color: #696969;}#sk-container-id-5 label.sk-toggleable__label-arrow:hover:before {color: black;}#sk-container-id-5 div.sk-estimator:hover label.sk-toggleable__label-arrow:before {color: black;}#sk-container-id-5 div.sk-toggleable__content {max-height: 0;max-width: 0;overflow: hidden;text-align: left;background-color: #f0f8ff;}#sk-container-id-5 div.sk-toggleable__content pre {margin: 0.2em;color: black;border-radius: 0.25em;background-color: #f0f8ff;}#sk-container-id-5 input.sk-toggleable__control:checked~div.sk-toggleable__content {max-height: 200px;max-width: 100%;overflow: auto;}#sk-container-id-5 input.sk-toggleable__control:checked~label.sk-toggleable__label-arrow:before {content: \"▾\";}#sk-container-id-5 div.sk-estimator input.sk-toggleable__control:checked~label.sk-toggleable__label {background-color: #d4ebff;}#sk-container-id-5 div.sk-label input.sk-toggleable__control:checked~label.sk-toggleable__label {background-color: #d4ebff;}#sk-container-id-5 input.sk-hidden--visually {border: 0;clip: rect(1px 1px 1px 1px);clip: rect(1px, 1px, 1px, 1px);height: 1px;margin: -1px;overflow: hidden;padding: 0;position: absolute;width: 1px;}#sk-container-id-5 div.sk-estimator {font-family: monospace;background-color: #f0f8ff;border: 1px dotted black;border-radius: 0.25em;box-sizing: border-box;margin-bottom: 0.5em;}#sk-container-id-5 div.sk-estimator:hover {background-color: #d4ebff;}#sk-container-id-5 div.sk-parallel-item::after {content: \"\";width: 100%;border-bottom: 1px solid gray;flex-grow: 1;}#sk-container-id-5 div.sk-label:hover label.sk-toggleable__label {background-color: #d4ebff;}#sk-container-id-5 div.sk-serial::before {content: \"\";position: absolute;border-left: 1px solid gray;box-sizing: border-box;top: 0;bottom: 0;left: 50%;z-index: 0;}#sk-container-id-5 div.sk-serial {display: flex;flex-direction: column;align-items: center;background-color: white;padding-right: 0.2em;padding-left: 0.2em;position: relative;}#sk-container-id-5 div.sk-item {position: relative;z-index: 1;}#sk-container-id-5 div.sk-parallel {display: flex;align-items: stretch;justify-content: center;background-color: white;position: relative;}#sk-container-id-5 div.sk-item::before, #sk-container-id-5 div.sk-parallel-item::before {content: \"\";position: absolute;border-left: 1px solid gray;box-sizing: border-box;top: 0;bottom: 0;left: 50%;z-index: -1;}#sk-container-id-5 div.sk-parallel-item {display: flex;flex-direction: column;z-index: 1;position: relative;background-color: white;}#sk-container-id-5 div.sk-parallel-item:first-child::after {align-self: flex-end;width: 50%;}#sk-container-id-5 div.sk-parallel-item:last-child::after {align-self: flex-start;width: 50%;}#sk-container-id-5 div.sk-parallel-item:only-child::after {width: 0;}#sk-container-id-5 div.sk-dashed-wrapped {border: 1px dashed gray;margin: 0 0.4em 0.5em 0.4em;box-sizing: border-box;padding-bottom: 0.4em;background-color: white;}#sk-container-id-5 div.sk-label label {font-family: monospace;font-weight: bold;display: inline-block;line-height: 1.2em;}#sk-container-id-5 div.sk-label-container {text-align: center;}#sk-container-id-5 div.sk-container {/* jupyter's `normalize.less` sets `[hidden] { display: none; }` but bootstrap.min.css set `[hidden] { display: none !important; }` so we also need the `!important` here to be able to override the default hidden behavior on the sphinx rendered scikit-learn.org. See: https://github.com/scikit-learn/scikit-learn/issues/21755 */display: inline-block !important;position: relative;}#sk-container-id-5 div.sk-text-repr-fallback {display: none;}</style><div id=\"sk-container-id-5\" class=\"sk-top-container\"><div class=\"sk-text-repr-fallback\"><pre>Pipeline(steps=[(&#x27;&#x27;, StandardScaler()), (&#x27;rfr&#x27;, RandomForestRegressor())])</pre><b>In a Jupyter environment, please rerun this cell to show the HTML representation or trust the notebook. <br />On GitHub, the HTML representation is unable to render, please try loading this page with nbviewer.org.</b></div><div class=\"sk-container\" hidden><div class=\"sk-item sk-dashed-wrapped\"><div class=\"sk-label-container\"><div class=\"sk-label sk-toggleable\"><input class=\"sk-toggleable__control sk-hidden--visually\" id=\"sk-estimator-id-5\" type=\"checkbox\" ><label for=\"sk-estimator-id-5\" class=\"sk-toggleable__label sk-toggleable__label-arrow\">Pipeline</label><div class=\"sk-toggleable__content\"><pre>Pipeline(steps=[(&#x27;&#x27;, StandardScaler()), (&#x27;rfr&#x27;, RandomForestRegressor())])</pre></div></div></div><div class=\"sk-serial\"><div class=\"sk-item\"><div class=\"sk-estimator sk-toggleable\"><input class=\"sk-toggleable__control sk-hidden--visually\" id=\"sk-estimator-id-6\" type=\"checkbox\" ><label for=\"sk-estimator-id-6\" class=\"sk-toggleable__label sk-toggleable__label-arrow\">StandardScaler</label><div class=\"sk-toggleable__content\"><pre>StandardScaler()</pre></div></div></div><div class=\"sk-item\"><div class=\"sk-estimator sk-toggleable\"><input class=\"sk-toggleable__control sk-hidden--visually\" id=\"sk-estimator-id-7\" type=\"checkbox\" ><label for=\"sk-estimator-id-7\" class=\"sk-toggleable__label sk-toggleable__label-arrow\">RandomForestRegressor</label><div class=\"sk-toggleable__content\"><pre>RandomForestRegressor()</pre></div></div></div></div></div></div></div>"
      ],
      "text/plain": [
       "Pipeline(steps=[('', StandardScaler()), ('rfr', RandomForestRegressor())])"
      ]
     },
     "execution_count": 68,
     "metadata": {},
     "output_type": "execute_result"
    }
   ],
   "source": [
    "pl.fit(X_train_raw_p, y_train_p)"
   ]
  },
  {
   "cell_type": "code",
   "execution_count": 70,
   "id": "af51c62c-3442-4008-a7b3-514719343917",
   "metadata": {},
   "outputs": [
    {
     "data": {
      "text/plain": [
       "0.31476502544461454"
      ]
     },
     "execution_count": 70,
     "metadata": {},
     "output_type": "execute_result"
    }
   ],
   "source": [
    "mean_absolute_error(\n",
    "    pl.predict(X_test_raw_p),\n",
    "    y_test_p\n",
    ")"
   ]
  },
  {
   "cell_type": "code",
   "execution_count": 71,
   "id": "1b4669e4-3e78-4a67-a071-7f70113b2e5a",
   "metadata": {},
   "outputs": [
    {
     "data": {
      "text/plain": [
       "['pmargin_v0.1.joblib']"
      ]
     },
     "execution_count": 71,
     "metadata": {},
     "output_type": "execute_result"
    }
   ],
   "source": [
    "from joblib import dump, load\n",
    "dump(filename=\"pmargin_v0.1.joblib\", value=pl)"
   ]
  },
  {
   "cell_type": "code",
   "execution_count": 72,
   "id": "ac2cf49d-383c-4331-a086-162562defe09",
   "metadata": {},
   "outputs": [],
   "source": [
    "pmargin_model = load(\"pmargin_v0.1.joblib\")"
   ]
  },
  {
   "cell_type": "code",
   "execution_count": 73,
   "id": "a3fb2c59-3a39-4fc2-81ce-058dde478e48",
   "metadata": {},
   "outputs": [
    {
     "data": {
      "text/plain": [
       "0.31476502544461454"
      ]
     },
     "execution_count": 73,
     "metadata": {},
     "output_type": "execute_result"
    }
   ],
   "source": [
    "mean_absolute_error(\n",
    "    pmargin_model.predict(X_test_raw_p),\n",
    "    y_test_p\n",
    ")"
   ]
  },
  {
   "cell_type": "code",
   "execution_count": null,
   "id": "831f2cf1-18f5-460f-bf49-eb372ae7da37",
   "metadata": {},
   "outputs": [],
   "source": []
  }
 ],
 "metadata": {
  "kernelspec": {
   "display_name": "Python 3 (ipykernel)",
   "language": "python",
   "name": "python3"
  },
  "language_info": {
   "codemirror_mode": {
    "name": "ipython",
    "version": 3
   },
   "file_extension": ".py",
   "mimetype": "text/x-python",
   "name": "python",
   "nbconvert_exporter": "python",
   "pygments_lexer": "ipython3",
   "version": "3.10.0"
  }
 },
 "nbformat": 4,
 "nbformat_minor": 5
}
